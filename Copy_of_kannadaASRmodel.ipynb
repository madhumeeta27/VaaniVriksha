{
  "nbformat": 4,
  "nbformat_minor": 0,
  "metadata": {
    "colab": {
      "provenance": [],
      "include_colab_link": true
    },
    "kernelspec": {
      "name": "python3",
      "display_name": "Python 3"
    },
    "language_info": {
      "name": "python"
    }
  },
  "cells": [
    {
      "cell_type": "markdown",
      "metadata": {
        "id": "view-in-github",
        "colab_type": "text"
      },
      "source": [
        "<a href=\"https://colab.research.google.com/github/madhumeeta27/VaaniVriksha/blob/main/Copy_of_kannadaASRmodel.ipynb\" target=\"_parent\"><img src=\"https://colab.research.google.com/assets/colab-badge.svg\" alt=\"Open In Colab\"/></a>"
      ]
    },
    {
      "cell_type": "code",
      "source": [
        "!pip install transformers torchaudio soundfile pydub noisereduce google-cloud-speech"
      ],
      "metadata": {
        "colab": {
          "base_uri": "https://localhost:8080/",
          "height": 1000
        },
        "id": "-8Q40Ajo2AKn",
        "outputId": "50140a68-3ef6-4e21-8a1f-68963fe9b3bf",
        "collapsed": true
      },
      "execution_count": 1,
      "outputs": [
        {
          "output_type": "stream",
          "name": "stdout",
          "text": [
            "Requirement already satisfied: transformers in /usr/local/lib/python3.10/dist-packages (4.46.2)\n",
            "Requirement already satisfied: torchaudio in /usr/local/lib/python3.10/dist-packages (2.5.1+cu121)\n",
            "Requirement already satisfied: soundfile in /usr/local/lib/python3.10/dist-packages (0.12.1)\n",
            "Collecting pydub\n",
            "  Downloading pydub-0.25.1-py2.py3-none-any.whl.metadata (1.4 kB)\n",
            "Collecting noisereduce\n",
            "  Downloading noisereduce-3.0.3-py3-none-any.whl.metadata (14 kB)\n",
            "Collecting google-cloud-speech\n",
            "  Downloading google_cloud_speech-2.28.1-py2.py3-none-any.whl.metadata (5.3 kB)\n",
            "Requirement already satisfied: filelock in /usr/local/lib/python3.10/dist-packages (from transformers) (3.16.1)\n",
            "Requirement already satisfied: huggingface-hub<1.0,>=0.23.2 in /usr/local/lib/python3.10/dist-packages (from transformers) (0.26.2)\n",
            "Requirement already satisfied: numpy>=1.17 in /usr/local/lib/python3.10/dist-packages (from transformers) (1.26.4)\n",
            "Requirement already satisfied: packaging>=20.0 in /usr/local/lib/python3.10/dist-packages (from transformers) (24.2)\n",
            "Requirement already satisfied: pyyaml>=5.1 in /usr/local/lib/python3.10/dist-packages (from transformers) (6.0.2)\n",
            "Requirement already satisfied: regex!=2019.12.17 in /usr/local/lib/python3.10/dist-packages (from transformers) (2024.9.11)\n",
            "Requirement already satisfied: requests in /usr/local/lib/python3.10/dist-packages (from transformers) (2.32.3)\n",
            "Requirement already satisfied: safetensors>=0.4.1 in /usr/local/lib/python3.10/dist-packages (from transformers) (0.4.5)\n",
            "Requirement already satisfied: tokenizers<0.21,>=0.20 in /usr/local/lib/python3.10/dist-packages (from transformers) (0.20.3)\n",
            "Requirement already satisfied: tqdm>=4.27 in /usr/local/lib/python3.10/dist-packages (from transformers) (4.66.6)\n",
            "Requirement already satisfied: torch==2.5.1 in /usr/local/lib/python3.10/dist-packages (from torchaudio) (2.5.1+cu121)\n",
            "Requirement already satisfied: typing-extensions>=4.8.0 in /usr/local/lib/python3.10/dist-packages (from torch==2.5.1->torchaudio) (4.12.2)\n",
            "Requirement already satisfied: networkx in /usr/local/lib/python3.10/dist-packages (from torch==2.5.1->torchaudio) (3.4.2)\n",
            "Requirement already satisfied: jinja2 in /usr/local/lib/python3.10/dist-packages (from torch==2.5.1->torchaudio) (3.1.4)\n",
            "Requirement already satisfied: fsspec in /usr/local/lib/python3.10/dist-packages (from torch==2.5.1->torchaudio) (2024.10.0)\n",
            "Requirement already satisfied: sympy==1.13.1 in /usr/local/lib/python3.10/dist-packages (from torch==2.5.1->torchaudio) (1.13.1)\n",
            "Requirement already satisfied: mpmath<1.4,>=1.1.0 in /usr/local/lib/python3.10/dist-packages (from sympy==1.13.1->torch==2.5.1->torchaudio) (1.3.0)\n",
            "Requirement already satisfied: cffi>=1.0 in /usr/local/lib/python3.10/dist-packages (from soundfile) (1.17.1)\n",
            "Requirement already satisfied: scipy in /usr/local/lib/python3.10/dist-packages (from noisereduce) (1.13.1)\n",
            "Requirement already satisfied: matplotlib in /usr/local/lib/python3.10/dist-packages (from noisereduce) (3.8.0)\n",
            "Requirement already satisfied: joblib in /usr/local/lib/python3.10/dist-packages (from noisereduce) (1.4.2)\n",
            "Requirement already satisfied: google-api-core!=2.0.*,!=2.1.*,!=2.10.*,!=2.2.*,!=2.3.*,!=2.4.*,!=2.5.*,!=2.6.*,!=2.7.*,!=2.8.*,!=2.9.*,<3.0.0dev,>=1.34.1 in /usr/local/lib/python3.10/dist-packages (from google-api-core[grpc]!=2.0.*,!=2.1.*,!=2.10.*,!=2.2.*,!=2.3.*,!=2.4.*,!=2.5.*,!=2.6.*,!=2.7.*,!=2.8.*,!=2.9.*,<3.0.0dev,>=1.34.1->google-cloud-speech) (2.19.2)\n",
            "Requirement already satisfied: google-auth!=2.24.0,!=2.25.0,<3.0.0dev,>=2.14.1 in /usr/local/lib/python3.10/dist-packages (from google-cloud-speech) (2.27.0)\n",
            "Requirement already satisfied: proto-plus<2.0.0dev,>=1.22.3 in /usr/local/lib/python3.10/dist-packages (from google-cloud-speech) (1.25.0)\n",
            "Requirement already satisfied: protobuf!=4.21.0,!=4.21.1,!=4.21.2,!=4.21.3,!=4.21.4,!=4.21.5,<6.0.0dev,>=3.20.2 in /usr/local/lib/python3.10/dist-packages (from google-cloud-speech) (4.25.5)\n",
            "Requirement already satisfied: pycparser in /usr/local/lib/python3.10/dist-packages (from cffi>=1.0->soundfile) (2.22)\n",
            "Requirement already satisfied: googleapis-common-protos<2.0.dev0,>=1.56.2 in /usr/local/lib/python3.10/dist-packages (from google-api-core!=2.0.*,!=2.1.*,!=2.10.*,!=2.2.*,!=2.3.*,!=2.4.*,!=2.5.*,!=2.6.*,!=2.7.*,!=2.8.*,!=2.9.*,<3.0.0dev,>=1.34.1->google-api-core[grpc]!=2.0.*,!=2.1.*,!=2.10.*,!=2.2.*,!=2.3.*,!=2.4.*,!=2.5.*,!=2.6.*,!=2.7.*,!=2.8.*,!=2.9.*,<3.0.0dev,>=1.34.1->google-cloud-speech) (1.66.0)\n",
            "Requirement already satisfied: grpcio<2.0dev,>=1.33.2 in /usr/local/lib/python3.10/dist-packages (from google-api-core[grpc]!=2.0.*,!=2.1.*,!=2.10.*,!=2.2.*,!=2.3.*,!=2.4.*,!=2.5.*,!=2.6.*,!=2.7.*,!=2.8.*,!=2.9.*,<3.0.0dev,>=1.34.1->google-cloud-speech) (1.67.1)\n",
            "Requirement already satisfied: grpcio-status<2.0.dev0,>=1.33.2 in /usr/local/lib/python3.10/dist-packages (from google-api-core[grpc]!=2.0.*,!=2.1.*,!=2.10.*,!=2.2.*,!=2.3.*,!=2.4.*,!=2.5.*,!=2.6.*,!=2.7.*,!=2.8.*,!=2.9.*,<3.0.0dev,>=1.34.1->google-cloud-speech) (1.62.3)\n",
            "Requirement already satisfied: cachetools<6.0,>=2.0.0 in /usr/local/lib/python3.10/dist-packages (from google-auth!=2.24.0,!=2.25.0,<3.0.0dev,>=2.14.1->google-cloud-speech) (5.5.0)\n",
            "Requirement already satisfied: pyasn1-modules>=0.2.1 in /usr/local/lib/python3.10/dist-packages (from google-auth!=2.24.0,!=2.25.0,<3.0.0dev,>=2.14.1->google-cloud-speech) (0.4.1)\n",
            "Requirement already satisfied: rsa<5,>=3.1.4 in /usr/local/lib/python3.10/dist-packages (from google-auth!=2.24.0,!=2.25.0,<3.0.0dev,>=2.14.1->google-cloud-speech) (4.9)\n",
            "Requirement already satisfied: charset-normalizer<4,>=2 in /usr/local/lib/python3.10/dist-packages (from requests->transformers) (3.4.0)\n",
            "Requirement already satisfied: idna<4,>=2.5 in /usr/local/lib/python3.10/dist-packages (from requests->transformers) (3.10)\n",
            "Requirement already satisfied: urllib3<3,>=1.21.1 in /usr/local/lib/python3.10/dist-packages (from requests->transformers) (2.2.3)\n",
            "Requirement already satisfied: certifi>=2017.4.17 in /usr/local/lib/python3.10/dist-packages (from requests->transformers) (2024.8.30)\n",
            "Requirement already satisfied: contourpy>=1.0.1 in /usr/local/lib/python3.10/dist-packages (from matplotlib->noisereduce) (1.3.1)\n",
            "Requirement already satisfied: cycler>=0.10 in /usr/local/lib/python3.10/dist-packages (from matplotlib->noisereduce) (0.12.1)\n",
            "Requirement already satisfied: fonttools>=4.22.0 in /usr/local/lib/python3.10/dist-packages (from matplotlib->noisereduce) (4.54.1)\n",
            "Requirement already satisfied: kiwisolver>=1.0.1 in /usr/local/lib/python3.10/dist-packages (from matplotlib->noisereduce) (1.4.7)\n",
            "Requirement already satisfied: pillow>=6.2.0 in /usr/local/lib/python3.10/dist-packages (from matplotlib->noisereduce) (11.0.0)\n",
            "Requirement already satisfied: pyparsing>=2.3.1 in /usr/local/lib/python3.10/dist-packages (from matplotlib->noisereduce) (3.2.0)\n",
            "Requirement already satisfied: python-dateutil>=2.7 in /usr/local/lib/python3.10/dist-packages (from matplotlib->noisereduce) (2.8.2)\n",
            "Requirement already satisfied: pyasn1<0.7.0,>=0.4.6 in /usr/local/lib/python3.10/dist-packages (from pyasn1-modules>=0.2.1->google-auth!=2.24.0,!=2.25.0,<3.0.0dev,>=2.14.1->google-cloud-speech) (0.6.1)\n",
            "Requirement already satisfied: six>=1.5 in /usr/local/lib/python3.10/dist-packages (from python-dateutil>=2.7->matplotlib->noisereduce) (1.16.0)\n",
            "Requirement already satisfied: MarkupSafe>=2.0 in /usr/local/lib/python3.10/dist-packages (from jinja2->torch==2.5.1->torchaudio) (3.0.2)\n",
            "Downloading pydub-0.25.1-py2.py3-none-any.whl (32 kB)\n",
            "Downloading noisereduce-3.0.3-py3-none-any.whl (22 kB)\n",
            "Downloading google_cloud_speech-2.28.1-py2.py3-none-any.whl (304 kB)\n",
            "\u001b[2K   \u001b[90m━━━━━━━━━━━━━━━━━━━━━━━━━━━━━━━━━━━━━━━━\u001b[0m \u001b[32m305.0/305.0 kB\u001b[0m \u001b[31m5.9 MB/s\u001b[0m eta \u001b[36m0:00:00\u001b[0m\n",
            "\u001b[?25hInstalling collected packages: pydub, noisereduce, google-cloud-speech\n",
            "Successfully installed google-cloud-speech-2.28.1 noisereduce-3.0.3 pydub-0.25.1\n"
          ]
        },
        {
          "output_type": "display_data",
          "data": {
            "application/vnd.colab-display-data+json": {
              "pip_warning": {
                "packages": [
                  "google"
                ]
              },
              "id": "84b1eaf4d6e04dddabc67b956fa49036"
            }
          },
          "metadata": {}
        }
      ]
    },
    {
      "cell_type": "code",
      "source": [
        "from google.colab import drive\n",
        "drive.mount('/content/drive')"
      ],
      "metadata": {
        "colab": {
          "base_uri": "https://localhost:8080/",
          "height": 304
        },
        "id": "o3x2vfp9zP0c",
        "outputId": "46a81fa4-62d2-4bd1-c296-9b46240dcb71",
        "collapsed": true
      },
      "execution_count": 2,
      "outputs": [
        {
          "output_type": "error",
          "ename": "MessageError",
          "evalue": "Error: credential propagation was unsuccessful",
          "traceback": [
            "\u001b[0;31m---------------------------------------------------------------------------\u001b[0m",
            "\u001b[0;31mMessageError\u001b[0m                              Traceback (most recent call last)",
            "\u001b[0;32m<ipython-input-2-d5df0069828e>\u001b[0m in \u001b[0;36m<cell line: 2>\u001b[0;34m()\u001b[0m\n\u001b[1;32m      1\u001b[0m \u001b[0;32mfrom\u001b[0m \u001b[0mgoogle\u001b[0m\u001b[0;34m.\u001b[0m\u001b[0mcolab\u001b[0m \u001b[0;32mimport\u001b[0m \u001b[0mdrive\u001b[0m\u001b[0;34m\u001b[0m\u001b[0;34m\u001b[0m\u001b[0m\n\u001b[0;32m----> 2\u001b[0;31m \u001b[0mdrive\u001b[0m\u001b[0;34m.\u001b[0m\u001b[0mmount\u001b[0m\u001b[0;34m(\u001b[0m\u001b[0;34m'/content/drive'\u001b[0m\u001b[0;34m)\u001b[0m\u001b[0;34m\u001b[0m\u001b[0;34m\u001b[0m\u001b[0m\n\u001b[0m",
            "\u001b[0;32m/usr/local/lib/python3.10/dist-packages/google/colab/drive.py\u001b[0m in \u001b[0;36mmount\u001b[0;34m(mountpoint, force_remount, timeout_ms, readonly)\u001b[0m\n\u001b[1;32m     98\u001b[0m \u001b[0;32mdef\u001b[0m \u001b[0mmount\u001b[0m\u001b[0;34m(\u001b[0m\u001b[0mmountpoint\u001b[0m\u001b[0;34m,\u001b[0m \u001b[0mforce_remount\u001b[0m\u001b[0;34m=\u001b[0m\u001b[0;32mFalse\u001b[0m\u001b[0;34m,\u001b[0m \u001b[0mtimeout_ms\u001b[0m\u001b[0;34m=\u001b[0m\u001b[0;36m120000\u001b[0m\u001b[0;34m,\u001b[0m \u001b[0mreadonly\u001b[0m\u001b[0;34m=\u001b[0m\u001b[0;32mFalse\u001b[0m\u001b[0;34m)\u001b[0m\u001b[0;34m:\u001b[0m\u001b[0;34m\u001b[0m\u001b[0;34m\u001b[0m\u001b[0m\n\u001b[1;32m     99\u001b[0m   \u001b[0;34m\"\"\"Mount your Google Drive at the specified mountpoint path.\"\"\"\u001b[0m\u001b[0;34m\u001b[0m\u001b[0;34m\u001b[0m\u001b[0m\n\u001b[0;32m--> 100\u001b[0;31m   return _mount(\n\u001b[0m\u001b[1;32m    101\u001b[0m       \u001b[0mmountpoint\u001b[0m\u001b[0;34m,\u001b[0m\u001b[0;34m\u001b[0m\u001b[0;34m\u001b[0m\u001b[0m\n\u001b[1;32m    102\u001b[0m       \u001b[0mforce_remount\u001b[0m\u001b[0;34m=\u001b[0m\u001b[0mforce_remount\u001b[0m\u001b[0;34m,\u001b[0m\u001b[0;34m\u001b[0m\u001b[0;34m\u001b[0m\u001b[0m\n",
            "\u001b[0;32m/usr/local/lib/python3.10/dist-packages/google/colab/drive.py\u001b[0m in \u001b[0;36m_mount\u001b[0;34m(mountpoint, force_remount, timeout_ms, ephemeral, readonly)\u001b[0m\n\u001b[1;32m    135\u001b[0m   )\n\u001b[1;32m    136\u001b[0m   \u001b[0;32mif\u001b[0m \u001b[0mephemeral\u001b[0m\u001b[0;34m:\u001b[0m\u001b[0;34m\u001b[0m\u001b[0;34m\u001b[0m\u001b[0m\n\u001b[0;32m--> 137\u001b[0;31m     _message.blocking_request(\n\u001b[0m\u001b[1;32m    138\u001b[0m         \u001b[0;34m'request_auth'\u001b[0m\u001b[0;34m,\u001b[0m\u001b[0;34m\u001b[0m\u001b[0;34m\u001b[0m\u001b[0m\n\u001b[1;32m    139\u001b[0m         \u001b[0mrequest\u001b[0m\u001b[0;34m=\u001b[0m\u001b[0;34m{\u001b[0m\u001b[0;34m'authType'\u001b[0m\u001b[0;34m:\u001b[0m \u001b[0;34m'dfs_ephemeral'\u001b[0m\u001b[0;34m}\u001b[0m\u001b[0;34m,\u001b[0m\u001b[0;34m\u001b[0m\u001b[0;34m\u001b[0m\u001b[0m\n",
            "\u001b[0;32m/usr/local/lib/python3.10/dist-packages/google/colab/_message.py\u001b[0m in \u001b[0;36mblocking_request\u001b[0;34m(request_type, request, timeout_sec, parent)\u001b[0m\n\u001b[1;32m    174\u001b[0m       \u001b[0mrequest_type\u001b[0m\u001b[0;34m,\u001b[0m \u001b[0mrequest\u001b[0m\u001b[0;34m,\u001b[0m \u001b[0mparent\u001b[0m\u001b[0;34m=\u001b[0m\u001b[0mparent\u001b[0m\u001b[0;34m,\u001b[0m \u001b[0mexpect_reply\u001b[0m\u001b[0;34m=\u001b[0m\u001b[0;32mTrue\u001b[0m\u001b[0;34m\u001b[0m\u001b[0;34m\u001b[0m\u001b[0m\n\u001b[1;32m    175\u001b[0m   )\n\u001b[0;32m--> 176\u001b[0;31m   \u001b[0;32mreturn\u001b[0m \u001b[0mread_reply_from_input\u001b[0m\u001b[0;34m(\u001b[0m\u001b[0mrequest_id\u001b[0m\u001b[0;34m,\u001b[0m \u001b[0mtimeout_sec\u001b[0m\u001b[0;34m)\u001b[0m\u001b[0;34m\u001b[0m\u001b[0;34m\u001b[0m\u001b[0m\n\u001b[0m",
            "\u001b[0;32m/usr/local/lib/python3.10/dist-packages/google/colab/_message.py\u001b[0m in \u001b[0;36mread_reply_from_input\u001b[0;34m(message_id, timeout_sec)\u001b[0m\n\u001b[1;32m    101\u001b[0m     ):\n\u001b[1;32m    102\u001b[0m       \u001b[0;32mif\u001b[0m \u001b[0;34m'error'\u001b[0m \u001b[0;32min\u001b[0m \u001b[0mreply\u001b[0m\u001b[0;34m:\u001b[0m\u001b[0;34m\u001b[0m\u001b[0;34m\u001b[0m\u001b[0m\n\u001b[0;32m--> 103\u001b[0;31m         \u001b[0;32mraise\u001b[0m \u001b[0mMessageError\u001b[0m\u001b[0;34m(\u001b[0m\u001b[0mreply\u001b[0m\u001b[0;34m[\u001b[0m\u001b[0;34m'error'\u001b[0m\u001b[0;34m]\u001b[0m\u001b[0;34m)\u001b[0m\u001b[0;34m\u001b[0m\u001b[0;34m\u001b[0m\u001b[0m\n\u001b[0m\u001b[1;32m    104\u001b[0m       \u001b[0;32mreturn\u001b[0m \u001b[0mreply\u001b[0m\u001b[0;34m.\u001b[0m\u001b[0mget\u001b[0m\u001b[0;34m(\u001b[0m\u001b[0;34m'data'\u001b[0m\u001b[0;34m,\u001b[0m \u001b[0;32mNone\u001b[0m\u001b[0;34m)\u001b[0m\u001b[0;34m\u001b[0m\u001b[0;34m\u001b[0m\u001b[0m\n\u001b[1;32m    105\u001b[0m \u001b[0;34m\u001b[0m\u001b[0m\n",
            "\u001b[0;31mMessageError\u001b[0m: Error: credential propagation was unsuccessful"
          ]
        }
      ]
    },
    {
      "cell_type": "code",
      "source": [
        "!pip install SpeechRecognition"
      ],
      "metadata": {
        "id": "ZnxAj3BQ1LMb",
        "collapsed": true
      },
      "execution_count": null,
      "outputs": []
    },
    {
      "cell_type": "code",
      "source": [
        "import os\n",
        "import librosa\n",
        "import librosa.display\n",
        "import matplotlib.pyplot as plt\n",
        "import noisereduce as nr\n",
        "import soundfile as sf\n",
        "import pandas as pd\n",
        "import speech_recognition as sr  # Ensure this is only used for speech recognition\n",
        "\n",
        "# Initialize speech recognizer\n",
        "recognizer = sr.Recognizer()\n",
        "\n",
        "# Define directories\n",
        "input_dir = '/content/drive/MyDrive/VaaniVrikshaAudio'  # Directory with .mp3 files\n",
        "temp_wav_dir = '/content/drive/MyDrive/VaaniVrikshaAudio/wav_files'  # Temp directory for .wav files\n",
        "output_dir = '/content/drive/MyDrive/VaaniVrikshaAudio/processed_wav_files'  # Directory for denoised .wav files\n",
        "transcript_csv_path = '/content/drive/MyDrive/VaaniVrikshaAudio/transcription_dataset.csv'\n",
        "\n",
        "# Ensure output directories exist\n",
        "os.makedirs(temp_wav_dir, exist_ok=True)\n",
        "os.makedirs(output_dir, exist_ok=True)\n",
        "\n",
        "# Function to process audio files\n",
        "def process_audio_files(input_dir, temp_wav_dir, output_dir):\n",
        "    dataset = []\n",
        "\n",
        "    for file_name in os.listdir(input_dir):\n",
        "        if file_name.endswith('.mp3'):\n",
        "            mp3_path = os.path.join(input_dir, file_name)\n",
        "            wav_temp_path = os.path.join(temp_wav_dir, file_name.replace('.mp3', '.wav'))\n",
        "            wav_output_path = os.path.join(output_dir, file_name.replace('.mp3', '_processed.wav'))\n",
        "\n",
        "            # Step 1: Convert .mp3 to .wav\n",
        "            print(f\"Converting {file_name} to .wav...\")\n",
        "            y, sr_value = librosa.load(mp3_path, sr=None)  # Use sr_value instead of sr\n",
        "            sf.write(wav_temp_path, y, sr_value)\n",
        "\n",
        "            # Step 2: Load .wav file and apply noise reduction\n",
        "            print(f\"Applying noise reduction for {file_name}...\")\n",
        "            y_denoised = nr.reduce_noise(y=y, sr=sr_value)\n",
        "            sf.write(wav_output_path, y_denoised, sr_value)\n",
        "\n",
        "            # Step 3: Split audio into 60-second chunks and transcribe\n",
        "            chunk_duration = 60  # in seconds\n",
        "            num_chunks = int(len(y_denoised) / (sr_value * chunk_duration)) + 1\n",
        "            full_transcription = \"\"\n",
        "\n",
        "            for i in range(num_chunks):\n",
        "                start_sample = i * chunk_duration * sr_value\n",
        "                end_sample = min((i + 1) * chunk_duration * sr_value, len(y_denoised))\n",
        "                chunk_data = y_denoised[start_sample:end_sample]\n",
        "\n",
        "                chunk_path = os.path.join(temp_wav_dir, f\"{file_name}chunk{i}.wav\")\n",
        "                sf.write(chunk_path, chunk_data, sr_value)\n",
        "\n",
        "                # Transcribe each chunk\n",
        "                try:\n",
        "                    with sr.AudioFile(chunk_path) as source:\n",
        "                        print(f\"Transcribing chunk {i + 1}/{num_chunks} of {file_name}...\")\n",
        "                        audio_text = recognizer.record(source)\n",
        "                        chunk_transcription = recognizer.recognize_google(audio_text, language='kn-IN')\n",
        "                        full_transcription += \" \" + chunk_transcription\n",
        "                except sr.UnknownValueError:\n",
        "                    print(f\"Could not understand audio in chunk {i + 1} of {file_name}\")\n",
        "                except sr.RequestError as e:\n",
        "                    print(f\"Could not request results from Google Speech Recognition service for {file_name}; {e}\")\n",
        "\n",
        "            # Add full transcription to dataset\n",
        "            dataset.append((wav_output_path, sr_value, full_transcription.strip()))\n",
        "            print(f\"Processed {file_name} successfully.\")\n",
        "\n",
        "    # Save dataset to CSV\n",
        "    dataset_df = pd.DataFrame(dataset, columns=['Audio Path', 'Sample Rate', 'Transcription'])\n",
        "    dataset_df.to_csv(transcript_csv_path, index=False, encoding='utf-8')\n",
        "    print(f\"Transcription dataset saved to {transcript_csv_path}\")\n",
        "\n",
        "# Run the function\n",
        "process_audio_files(input_dir, temp_wav_dir, output_dir)\n",
        "print(\"All audio files have been processed, visualized, and transcribed.\")"
      ],
      "metadata": {
        "colab": {
          "base_uri": "https://localhost:8080/",
          "height": 425
        },
        "id": "XJ2t1bmc6blt",
        "outputId": "61d6647a-773d-4278-876d-5f23fe7efb1a"
      },
      "execution_count": null,
      "outputs": [
        {
          "output_type": "stream",
          "name": "stdout",
          "text": [
            "Converting Copy of SandalWoodNewsStories_305.mp3 to .wav...\n"
          ]
        },
        {
          "output_type": "error",
          "ename": "KeyboardInterrupt",
          "evalue": "",
          "traceback": [
            "\u001b[0;31m---------------------------------------------------------------------------\u001b[0m",
            "\u001b[0;31mAttributeError\u001b[0m                            Traceback (most recent call last)",
            "\u001b[0;32m/usr/local/lib/python3.10/dist-packages/llvmlite/ir/_utils.py\u001b[0m in \u001b[0;36m__str__\u001b[0;34m(self)\u001b[0m\n\u001b[1;32m     45\u001b[0m         \u001b[0;32mtry\u001b[0m\u001b[0;34m:\u001b[0m\u001b[0;34m\u001b[0m\u001b[0;34m\u001b[0m\u001b[0m\n\u001b[0;32m---> 46\u001b[0;31m             \u001b[0;32mreturn\u001b[0m \u001b[0mself\u001b[0m\u001b[0;34m.\u001b[0m\u001b[0m__cached_str\u001b[0m\u001b[0;34m\u001b[0m\u001b[0;34m\u001b[0m\u001b[0m\n\u001b[0m\u001b[1;32m     47\u001b[0m         \u001b[0;32mexcept\u001b[0m \u001b[0mAttributeError\u001b[0m\u001b[0;34m:\u001b[0m\u001b[0;34m\u001b[0m\u001b[0;34m\u001b[0m\u001b[0m\n",
            "\u001b[0;31mAttributeError\u001b[0m: 'ConditionalBranch' object has no attribute '_StrCaching__cached_str'",
            "\nDuring handling of the above exception, another exception occurred:\n",
            "\u001b[0;31mKeyboardInterrupt\u001b[0m                         Traceback (most recent call last)",
            "\u001b[0;32m<ipython-input-4-87682c141992>\u001b[0m in \u001b[0;36m<cell line: 78>\u001b[0;34m()\u001b[0m\n\u001b[1;32m     76\u001b[0m \u001b[0;34m\u001b[0m\u001b[0m\n\u001b[1;32m     77\u001b[0m \u001b[0;31m# Run the function\u001b[0m\u001b[0;34m\u001b[0m\u001b[0;34m\u001b[0m\u001b[0m\n\u001b[0;32m---> 78\u001b[0;31m \u001b[0mprocess_audio_files\u001b[0m\u001b[0;34m(\u001b[0m\u001b[0minput_dir\u001b[0m\u001b[0;34m,\u001b[0m \u001b[0mtemp_wav_dir\u001b[0m\u001b[0;34m,\u001b[0m \u001b[0moutput_dir\u001b[0m\u001b[0;34m)\u001b[0m\u001b[0;34m\u001b[0m\u001b[0;34m\u001b[0m\u001b[0m\n\u001b[0m\u001b[1;32m     79\u001b[0m \u001b[0mprint\u001b[0m\u001b[0;34m(\u001b[0m\u001b[0;34m\"All audio files have been processed, visualized, and transcribed.\"\u001b[0m\u001b[0;34m)\u001b[0m\u001b[0;34m\u001b[0m\u001b[0;34m\u001b[0m\u001b[0m\n",
            "\u001b[0;32m<ipython-input-4-87682c141992>\u001b[0m in \u001b[0;36mprocess_audio_files\u001b[0;34m(input_dir, temp_wav_dir, output_dir)\u001b[0m\n\u001b[1;32m     33\u001b[0m             \u001b[0;31m# Step 1: Convert .mp3 to .wav\u001b[0m\u001b[0;34m\u001b[0m\u001b[0;34m\u001b[0m\u001b[0m\n\u001b[1;32m     34\u001b[0m             \u001b[0mprint\u001b[0m\u001b[0;34m(\u001b[0m\u001b[0;34mf\"Converting {file_name} to .wav...\"\u001b[0m\u001b[0;34m)\u001b[0m\u001b[0;34m\u001b[0m\u001b[0;34m\u001b[0m\u001b[0m\n\u001b[0;32m---> 35\u001b[0;31m             \u001b[0my\u001b[0m\u001b[0;34m,\u001b[0m \u001b[0msr_value\u001b[0m \u001b[0;34m=\u001b[0m \u001b[0mlibrosa\u001b[0m\u001b[0;34m.\u001b[0m\u001b[0mload\u001b[0m\u001b[0;34m(\u001b[0m\u001b[0mmp3_path\u001b[0m\u001b[0;34m,\u001b[0m \u001b[0msr\u001b[0m\u001b[0;34m=\u001b[0m\u001b[0;32mNone\u001b[0m\u001b[0;34m)\u001b[0m  \u001b[0;31m# Use sr_value instead of sr\u001b[0m\u001b[0;34m\u001b[0m\u001b[0;34m\u001b[0m\u001b[0m\n\u001b[0m\u001b[1;32m     36\u001b[0m             \u001b[0msf\u001b[0m\u001b[0;34m.\u001b[0m\u001b[0mwrite\u001b[0m\u001b[0;34m(\u001b[0m\u001b[0mwav_temp_path\u001b[0m\u001b[0;34m,\u001b[0m \u001b[0my\u001b[0m\u001b[0;34m,\u001b[0m \u001b[0msr_value\u001b[0m\u001b[0;34m)\u001b[0m\u001b[0;34m\u001b[0m\u001b[0;34m\u001b[0m\u001b[0m\n\u001b[1;32m     37\u001b[0m \u001b[0;34m\u001b[0m\u001b[0m\n",
            "\u001b[0;32m/usr/local/lib/python3.10/dist-packages/librosa/core/audio.py\u001b[0m in \u001b[0;36mload\u001b[0;34m(path, sr, mono, offset, duration, dtype, res_type)\u001b[0m\n\u001b[1;32m    188\u001b[0m     \u001b[0;31m# Final cleanup for dtype and contiguity\u001b[0m\u001b[0;34m\u001b[0m\u001b[0;34m\u001b[0m\u001b[0m\n\u001b[1;32m    189\u001b[0m     \u001b[0;32mif\u001b[0m \u001b[0mmono\u001b[0m\u001b[0;34m:\u001b[0m\u001b[0;34m\u001b[0m\u001b[0;34m\u001b[0m\u001b[0m\n\u001b[0;32m--> 190\u001b[0;31m         \u001b[0my\u001b[0m \u001b[0;34m=\u001b[0m \u001b[0mto_mono\u001b[0m\u001b[0;34m(\u001b[0m\u001b[0my\u001b[0m\u001b[0;34m)\u001b[0m\u001b[0;34m\u001b[0m\u001b[0;34m\u001b[0m\u001b[0m\n\u001b[0m\u001b[1;32m    191\u001b[0m \u001b[0;34m\u001b[0m\u001b[0m\n\u001b[1;32m    192\u001b[0m     \u001b[0;32mif\u001b[0m \u001b[0msr\u001b[0m \u001b[0;32mis\u001b[0m \u001b[0;32mnot\u001b[0m \u001b[0;32mNone\u001b[0m\u001b[0;34m:\u001b[0m\u001b[0;34m\u001b[0m\u001b[0;34m\u001b[0m\u001b[0m\n",
            "\u001b[0;32m/usr/local/lib/python3.10/dist-packages/librosa/core/audio.py\u001b[0m in \u001b[0;36mto_mono\u001b[0;34m(y)\u001b[0m\n\u001b[1;32m    503\u001b[0m     \"\"\"\n\u001b[1;32m    504\u001b[0m     \u001b[0;31m# Validate the buffer.  Stereo is ok here.\u001b[0m\u001b[0;34m\u001b[0m\u001b[0;34m\u001b[0m\u001b[0m\n\u001b[0;32m--> 505\u001b[0;31m     \u001b[0mutil\u001b[0m\u001b[0;34m.\u001b[0m\u001b[0mvalid_audio\u001b[0m\u001b[0;34m(\u001b[0m\u001b[0my\u001b[0m\u001b[0;34m,\u001b[0m \u001b[0mmono\u001b[0m\u001b[0;34m=\u001b[0m\u001b[0;32mFalse\u001b[0m\u001b[0;34m)\u001b[0m\u001b[0;34m\u001b[0m\u001b[0;34m\u001b[0m\u001b[0m\n\u001b[0m\u001b[1;32m    506\u001b[0m \u001b[0;34m\u001b[0m\u001b[0m\n\u001b[1;32m    507\u001b[0m     \u001b[0;32mif\u001b[0m \u001b[0my\u001b[0m\u001b[0;34m.\u001b[0m\u001b[0mndim\u001b[0m \u001b[0;34m>\u001b[0m \u001b[0;36m1\u001b[0m\u001b[0;34m:\u001b[0m\u001b[0;34m\u001b[0m\u001b[0;34m\u001b[0m\u001b[0m\n",
            "\u001b[0;32m/usr/local/lib/python3.10/dist-packages/lazy_loader/__init__.py\u001b[0m in \u001b[0;36m__getattr__\u001b[0;34m(name)\u001b[0m\n\u001b[1;32m     80\u001b[0m         \u001b[0;32melif\u001b[0m \u001b[0mname\u001b[0m \u001b[0;32min\u001b[0m \u001b[0mattr_to_modules\u001b[0m\u001b[0;34m:\u001b[0m\u001b[0;34m\u001b[0m\u001b[0;34m\u001b[0m\u001b[0m\n\u001b[1;32m     81\u001b[0m             \u001b[0msubmod_path\u001b[0m \u001b[0;34m=\u001b[0m \u001b[0;34mf\"{package_name}.{attr_to_modules[name]}\"\u001b[0m\u001b[0;34m\u001b[0m\u001b[0;34m\u001b[0m\u001b[0m\n\u001b[0;32m---> 82\u001b[0;31m             \u001b[0msubmod\u001b[0m \u001b[0;34m=\u001b[0m \u001b[0mimportlib\u001b[0m\u001b[0;34m.\u001b[0m\u001b[0mimport_module\u001b[0m\u001b[0;34m(\u001b[0m\u001b[0msubmod_path\u001b[0m\u001b[0;34m)\u001b[0m\u001b[0;34m\u001b[0m\u001b[0;34m\u001b[0m\u001b[0m\n\u001b[0m\u001b[1;32m     83\u001b[0m             \u001b[0mattr\u001b[0m \u001b[0;34m=\u001b[0m \u001b[0mgetattr\u001b[0m\u001b[0;34m(\u001b[0m\u001b[0msubmod\u001b[0m\u001b[0;34m,\u001b[0m \u001b[0mname\u001b[0m\u001b[0;34m)\u001b[0m\u001b[0;34m\u001b[0m\u001b[0;34m\u001b[0m\u001b[0m\n\u001b[1;32m     84\u001b[0m \u001b[0;34m\u001b[0m\u001b[0m\n",
            "\u001b[0;32m/usr/lib/python3.10/importlib/__init__.py\u001b[0m in \u001b[0;36mimport_module\u001b[0;34m(name, package)\u001b[0m\n\u001b[1;32m    124\u001b[0m                 \u001b[0;32mbreak\u001b[0m\u001b[0;34m\u001b[0m\u001b[0;34m\u001b[0m\u001b[0m\n\u001b[1;32m    125\u001b[0m             \u001b[0mlevel\u001b[0m \u001b[0;34m+=\u001b[0m \u001b[0;36m1\u001b[0m\u001b[0;34m\u001b[0m\u001b[0;34m\u001b[0m\u001b[0m\n\u001b[0;32m--> 126\u001b[0;31m     \u001b[0;32mreturn\u001b[0m \u001b[0m_bootstrap\u001b[0m\u001b[0;34m.\u001b[0m\u001b[0m_gcd_import\u001b[0m\u001b[0;34m(\u001b[0m\u001b[0mname\u001b[0m\u001b[0;34m[\u001b[0m\u001b[0mlevel\u001b[0m\u001b[0;34m:\u001b[0m\u001b[0;34m]\u001b[0m\u001b[0;34m,\u001b[0m \u001b[0mpackage\u001b[0m\u001b[0;34m,\u001b[0m \u001b[0mlevel\u001b[0m\u001b[0;34m)\u001b[0m\u001b[0;34m\u001b[0m\u001b[0;34m\u001b[0m\u001b[0m\n\u001b[0m\u001b[1;32m    127\u001b[0m \u001b[0;34m\u001b[0m\u001b[0m\n\u001b[1;32m    128\u001b[0m \u001b[0;34m\u001b[0m\u001b[0m\n",
            "\u001b[0;32m/usr/lib/python3.10/importlib/_bootstrap.py\u001b[0m in \u001b[0;36m_gcd_import\u001b[0;34m(name, package, level)\u001b[0m\n",
            "\u001b[0;32m/usr/lib/python3.10/importlib/_bootstrap.py\u001b[0m in \u001b[0;36m_find_and_load\u001b[0;34m(name, import_)\u001b[0m\n",
            "\u001b[0;32m/usr/lib/python3.10/importlib/_bootstrap.py\u001b[0m in \u001b[0;36m_find_and_load_unlocked\u001b[0;34m(name, import_)\u001b[0m\n",
            "\u001b[0;32m/usr/lib/python3.10/importlib/_bootstrap.py\u001b[0m in \u001b[0;36m_load_unlocked\u001b[0;34m(spec)\u001b[0m\n",
            "\u001b[0;32m/usr/lib/python3.10/importlib/_bootstrap_external.py\u001b[0m in \u001b[0;36mexec_module\u001b[0;34m(self, module)\u001b[0m\n",
            "\u001b[0;32m/usr/lib/python3.10/importlib/_bootstrap.py\u001b[0m in \u001b[0;36m_call_with_frames_removed\u001b[0;34m(f, *args, **kwds)\u001b[0m\n",
            "\u001b[0;32m/usr/local/lib/python3.10/dist-packages/librosa/util/utils.py\u001b[0m in \u001b[0;36m<module>\u001b[0;34m\u001b[0m\n\u001b[1;32m   1061\u001b[0m     \u001b[0mnopython\u001b[0m\u001b[0;34m=\u001b[0m\u001b[0;32mTrue\u001b[0m\u001b[0;34m,\u001b[0m\u001b[0;34m\u001b[0m\u001b[0;34m\u001b[0m\u001b[0m\n\u001b[1;32m   1062\u001b[0m )\n\u001b[0;32m-> 1063\u001b[0;31m \u001b[0;32mdef\u001b[0m \u001b[0m_localmax\u001b[0m\u001b[0;34m(\u001b[0m\u001b[0mx\u001b[0m\u001b[0;34m,\u001b[0m \u001b[0my\u001b[0m\u001b[0;34m)\u001b[0m\u001b[0;34m:\u001b[0m  \u001b[0;31m# pragma: no cover\u001b[0m\u001b[0;34m\u001b[0m\u001b[0;34m\u001b[0m\u001b[0m\n\u001b[0m\u001b[1;32m   1064\u001b[0m     \u001b[0;34m\"\"\"Vectorized wrapper for the localmax stencil\"\"\"\u001b[0m\u001b[0;34m\u001b[0m\u001b[0;34m\u001b[0m\u001b[0m\n\u001b[1;32m   1065\u001b[0m     \u001b[0my\u001b[0m\u001b[0;34m[\u001b[0m\u001b[0;34m:\u001b[0m\u001b[0;34m]\u001b[0m \u001b[0;34m=\u001b[0m \u001b[0m_localmax_sten\u001b[0m\u001b[0;34m(\u001b[0m\u001b[0mx\u001b[0m\u001b[0;34m)\u001b[0m\u001b[0;34m\u001b[0m\u001b[0;34m\u001b[0m\u001b[0m\n",
            "\u001b[0;32m/usr/local/lib/python3.10/dist-packages/numba/np/ufunc/decorators.py\u001b[0m in \u001b[0;36mwrap\u001b[0;34m(func)\u001b[0m\n\u001b[1;32m    201\u001b[0m         \u001b[0mguvec\u001b[0m \u001b[0;34m=\u001b[0m \u001b[0mGUVectorize\u001b[0m\u001b[0;34m(\u001b[0m\u001b[0mfunc\u001b[0m\u001b[0;34m,\u001b[0m \u001b[0msignature\u001b[0m\u001b[0;34m,\u001b[0m \u001b[0;34m**\u001b[0m\u001b[0mkwargs\u001b[0m\u001b[0;34m)\u001b[0m\u001b[0;34m\u001b[0m\u001b[0;34m\u001b[0m\u001b[0m\n\u001b[1;32m    202\u001b[0m         \u001b[0;32mfor\u001b[0m \u001b[0mfty\u001b[0m \u001b[0;32min\u001b[0m \u001b[0mftylist\u001b[0m\u001b[0;34m:\u001b[0m\u001b[0;34m\u001b[0m\u001b[0;34m\u001b[0m\u001b[0m\n\u001b[0;32m--> 203\u001b[0;31m             \u001b[0mguvec\u001b[0m\u001b[0;34m.\u001b[0m\u001b[0madd\u001b[0m\u001b[0;34m(\u001b[0m\u001b[0mfty\u001b[0m\u001b[0;34m)\u001b[0m\u001b[0;34m\u001b[0m\u001b[0;34m\u001b[0m\u001b[0m\n\u001b[0m\u001b[1;32m    204\u001b[0m         \u001b[0;32mif\u001b[0m \u001b[0mlen\u001b[0m\u001b[0;34m(\u001b[0m\u001b[0mftylist\u001b[0m\u001b[0;34m)\u001b[0m \u001b[0;34m>\u001b[0m \u001b[0;36m0\u001b[0m\u001b[0;34m:\u001b[0m\u001b[0;34m\u001b[0m\u001b[0;34m\u001b[0m\u001b[0m\n\u001b[1;32m    205\u001b[0m             \u001b[0mguvec\u001b[0m\u001b[0;34m.\u001b[0m\u001b[0mdisable_compile\u001b[0m\u001b[0;34m(\u001b[0m\u001b[0;34m)\u001b[0m\u001b[0;34m\u001b[0m\u001b[0;34m\u001b[0m\u001b[0m\n",
            "\u001b[0;32m/usr/local/lib/python3.10/dist-packages/numba/np/ufunc/gufunc.py\u001b[0m in \u001b[0;36madd\u001b[0;34m(self, fty)\u001b[0m\n\u001b[1;32m    135\u001b[0m \u001b[0;34m\u001b[0m\u001b[0m\n\u001b[1;32m    136\u001b[0m     \u001b[0;32mdef\u001b[0m \u001b[0madd\u001b[0m\u001b[0;34m(\u001b[0m\u001b[0mself\u001b[0m\u001b[0;34m,\u001b[0m \u001b[0mfty\u001b[0m\u001b[0;34m)\u001b[0m\u001b[0;34m:\u001b[0m\u001b[0;34m\u001b[0m\u001b[0;34m\u001b[0m\u001b[0m\n\u001b[0;32m--> 137\u001b[0;31m         \u001b[0mself\u001b[0m\u001b[0;34m.\u001b[0m\u001b[0mgufunc_builder\u001b[0m\u001b[0;34m.\u001b[0m\u001b[0madd\u001b[0m\u001b[0;34m(\u001b[0m\u001b[0mfty\u001b[0m\u001b[0;34m)\u001b[0m\u001b[0;34m\u001b[0m\u001b[0;34m\u001b[0m\u001b[0m\n\u001b[0m\u001b[1;32m    138\u001b[0m \u001b[0;34m\u001b[0m\u001b[0m\n\u001b[1;32m    139\u001b[0m     \u001b[0;32mdef\u001b[0m \u001b[0mbuild_ufunc\u001b[0m\u001b[0;34m(\u001b[0m\u001b[0mself\u001b[0m\u001b[0;34m)\u001b[0m\u001b[0;34m:\u001b[0m\u001b[0;34m\u001b[0m\u001b[0;34m\u001b[0m\u001b[0m\n",
            "\u001b[0;32m/usr/local/lib/python3.10/dist-packages/numba/np/ufunc/ufuncbuilder.py\u001b[0m in \u001b[0;36madd\u001b[0;34m(self, sig)\u001b[0m\n\u001b[1;32m    255\u001b[0m         \u001b[0;32melse\u001b[0m\u001b[0;34m:\u001b[0m\u001b[0;34m\u001b[0m\u001b[0;34m\u001b[0m\u001b[0m\n\u001b[1;32m    256\u001b[0m             \u001b[0mtargetoptions\u001b[0m \u001b[0;34m=\u001b[0m \u001b[0mself\u001b[0m\u001b[0;34m.\u001b[0m\u001b[0mnb_func\u001b[0m\u001b[0;34m.\u001b[0m\u001b[0mtargetoptions\u001b[0m\u001b[0;34m\u001b[0m\u001b[0;34m\u001b[0m\u001b[0m\n\u001b[0;32m--> 257\u001b[0;31m         cres, args, return_type = _compile_element_wise_function(\n\u001b[0m\u001b[1;32m    258\u001b[0m             self.nb_func, targetoptions, sig)\n\u001b[1;32m    259\u001b[0m         \u001b[0msig\u001b[0m \u001b[0;34m=\u001b[0m \u001b[0mself\u001b[0m\u001b[0;34m.\u001b[0m\u001b[0m_finalize_signature\u001b[0m\u001b[0;34m(\u001b[0m\u001b[0mcres\u001b[0m\u001b[0;34m,\u001b[0m \u001b[0margs\u001b[0m\u001b[0;34m,\u001b[0m \u001b[0mreturn_type\u001b[0m\u001b[0;34m)\u001b[0m\u001b[0;34m\u001b[0m\u001b[0;34m\u001b[0m\u001b[0m\n",
            "\u001b[0;32m/usr/local/lib/python3.10/dist-packages/numba/np/ufunc/ufuncbuilder.py\u001b[0m in \u001b[0;36m_compile_element_wise_function\u001b[0;34m(nb_func, targetoptions, sig)\u001b[0m\n\u001b[1;32m    173\u001b[0m     \u001b[0;31m# Do compilation\u001b[0m\u001b[0;34m\u001b[0m\u001b[0;34m\u001b[0m\u001b[0m\n\u001b[1;32m    174\u001b[0m     \u001b[0;31m# Return CompileResult to test\u001b[0m\u001b[0;34m\u001b[0m\u001b[0;34m\u001b[0m\u001b[0m\n\u001b[0;32m--> 175\u001b[0;31m     \u001b[0mcres\u001b[0m \u001b[0;34m=\u001b[0m \u001b[0mnb_func\u001b[0m\u001b[0;34m.\u001b[0m\u001b[0mcompile\u001b[0m\u001b[0;34m(\u001b[0m\u001b[0msig\u001b[0m\u001b[0;34m,\u001b[0m \u001b[0;34m**\u001b[0m\u001b[0mtargetoptions\u001b[0m\u001b[0;34m)\u001b[0m\u001b[0;34m\u001b[0m\u001b[0;34m\u001b[0m\u001b[0m\n\u001b[0m\u001b[1;32m    176\u001b[0m     \u001b[0margs\u001b[0m\u001b[0;34m,\u001b[0m \u001b[0mreturn_type\u001b[0m \u001b[0;34m=\u001b[0m \u001b[0msigutils\u001b[0m\u001b[0;34m.\u001b[0m\u001b[0mnormalize_signature\u001b[0m\u001b[0;34m(\u001b[0m\u001b[0msig\u001b[0m\u001b[0;34m)\u001b[0m\u001b[0;34m\u001b[0m\u001b[0;34m\u001b[0m\u001b[0m\n\u001b[1;32m    177\u001b[0m     \u001b[0;32mreturn\u001b[0m \u001b[0mcres\u001b[0m\u001b[0;34m,\u001b[0m \u001b[0margs\u001b[0m\u001b[0;34m,\u001b[0m \u001b[0mreturn_type\u001b[0m\u001b[0;34m\u001b[0m\u001b[0;34m\u001b[0m\u001b[0m\n",
            "\u001b[0;32m/usr/local/lib/python3.10/dist-packages/numba/np/ufunc/ufuncbuilder.py\u001b[0m in \u001b[0;36mcompile\u001b[0;34m(self, sig, locals, **targetoptions)\u001b[0m\n\u001b[1;32m    121\u001b[0m         \u001b[0mflags\u001b[0m\u001b[0;34m.\u001b[0m\u001b[0menable_looplift\u001b[0m \u001b[0;34m=\u001b[0m \u001b[0;32mFalse\u001b[0m\u001b[0;34m\u001b[0m\u001b[0;34m\u001b[0m\u001b[0m\n\u001b[1;32m    122\u001b[0m \u001b[0;34m\u001b[0m\u001b[0m\n\u001b[0;32m--> 123\u001b[0;31m         \u001b[0;32mreturn\u001b[0m \u001b[0mself\u001b[0m\u001b[0;34m.\u001b[0m\u001b[0m_compile_core\u001b[0m\u001b[0;34m(\u001b[0m\u001b[0msig\u001b[0m\u001b[0;34m,\u001b[0m \u001b[0mflags\u001b[0m\u001b[0;34m,\u001b[0m \u001b[0mlocals\u001b[0m\u001b[0;34m)\u001b[0m\u001b[0;34m\u001b[0m\u001b[0;34m\u001b[0m\u001b[0m\n\u001b[0m\u001b[1;32m    124\u001b[0m \u001b[0;34m\u001b[0m\u001b[0m\n\u001b[1;32m    125\u001b[0m     \u001b[0;32mdef\u001b[0m \u001b[0m_compile_core\u001b[0m\u001b[0;34m(\u001b[0m\u001b[0mself\u001b[0m\u001b[0;34m,\u001b[0m \u001b[0msig\u001b[0m\u001b[0;34m,\u001b[0m \u001b[0mflags\u001b[0m\u001b[0;34m,\u001b[0m \u001b[0mlocals\u001b[0m\u001b[0;34m)\u001b[0m\u001b[0;34m:\u001b[0m\u001b[0;34m\u001b[0m\u001b[0;34m\u001b[0m\u001b[0m\n",
            "\u001b[0;32m/usr/local/lib/python3.10/dist-packages/numba/np/ufunc/ufuncbuilder.py\u001b[0m in \u001b[0;36m_compile_core\u001b[0;34m(self, sig, flags, locals)\u001b[0m\n\u001b[1;32m    154\u001b[0m                     \u001b[0;31m# Compile\u001b[0m\u001b[0;34m\u001b[0m\u001b[0;34m\u001b[0m\u001b[0m\n\u001b[1;32m    155\u001b[0m                     \u001b[0margs\u001b[0m\u001b[0;34m,\u001b[0m \u001b[0mreturn_type\u001b[0m \u001b[0;34m=\u001b[0m \u001b[0msigutils\u001b[0m\u001b[0;34m.\u001b[0m\u001b[0mnormalize_signature\u001b[0m\u001b[0;34m(\u001b[0m\u001b[0msig\u001b[0m\u001b[0;34m)\u001b[0m\u001b[0;34m\u001b[0m\u001b[0;34m\u001b[0m\u001b[0m\n\u001b[0;32m--> 156\u001b[0;31m                     cres = compiler.compile_extra(typingctx, targetctx,\n\u001b[0m\u001b[1;32m    157\u001b[0m                                                   \u001b[0mself\u001b[0m\u001b[0;34m.\u001b[0m\u001b[0mpy_func\u001b[0m\u001b[0;34m,\u001b[0m \u001b[0margs\u001b[0m\u001b[0;34m=\u001b[0m\u001b[0margs\u001b[0m\u001b[0;34m,\u001b[0m\u001b[0;34m\u001b[0m\u001b[0;34m\u001b[0m\u001b[0m\n\u001b[1;32m    158\u001b[0m                                                   \u001b[0mreturn_type\u001b[0m\u001b[0;34m=\u001b[0m\u001b[0mreturn_type\u001b[0m\u001b[0;34m,\u001b[0m\u001b[0;34m\u001b[0m\u001b[0;34m\u001b[0m\u001b[0m\n",
            "\u001b[0;32m/usr/local/lib/python3.10/dist-packages/numba/core/compiler.py\u001b[0m in \u001b[0;36mcompile_extra\u001b[0;34m(typingctx, targetctx, func, args, return_type, flags, locals, library, pipeline_class)\u001b[0m\n\u001b[1;32m    742\u001b[0m     pipeline = pipeline_class(typingctx, targetctx, library,\n\u001b[1;32m    743\u001b[0m                               args, return_type, flags, locals)\n\u001b[0;32m--> 744\u001b[0;31m     \u001b[0;32mreturn\u001b[0m \u001b[0mpipeline\u001b[0m\u001b[0;34m.\u001b[0m\u001b[0mcompile_extra\u001b[0m\u001b[0;34m(\u001b[0m\u001b[0mfunc\u001b[0m\u001b[0;34m)\u001b[0m\u001b[0;34m\u001b[0m\u001b[0;34m\u001b[0m\u001b[0m\n\u001b[0m\u001b[1;32m    745\u001b[0m \u001b[0;34m\u001b[0m\u001b[0m\n\u001b[1;32m    746\u001b[0m \u001b[0;34m\u001b[0m\u001b[0m\n",
            "\u001b[0;32m/usr/local/lib/python3.10/dist-packages/numba/core/compiler.py\u001b[0m in \u001b[0;36mcompile_extra\u001b[0;34m(self, func)\u001b[0m\n\u001b[1;32m    436\u001b[0m         \u001b[0mself\u001b[0m\u001b[0;34m.\u001b[0m\u001b[0mstate\u001b[0m\u001b[0;34m.\u001b[0m\u001b[0mlifted\u001b[0m \u001b[0;34m=\u001b[0m \u001b[0;34m(\u001b[0m\u001b[0;34m)\u001b[0m\u001b[0;34m\u001b[0m\u001b[0;34m\u001b[0m\u001b[0m\n\u001b[1;32m    437\u001b[0m         \u001b[0mself\u001b[0m\u001b[0;34m.\u001b[0m\u001b[0mstate\u001b[0m\u001b[0;34m.\u001b[0m\u001b[0mlifted_from\u001b[0m \u001b[0;34m=\u001b[0m \u001b[0;32mNone\u001b[0m\u001b[0;34m\u001b[0m\u001b[0;34m\u001b[0m\u001b[0m\n\u001b[0;32m--> 438\u001b[0;31m         \u001b[0;32mreturn\u001b[0m \u001b[0mself\u001b[0m\u001b[0;34m.\u001b[0m\u001b[0m_compile_bytecode\u001b[0m\u001b[0;34m(\u001b[0m\u001b[0;34m)\u001b[0m\u001b[0;34m\u001b[0m\u001b[0;34m\u001b[0m\u001b[0m\n\u001b[0m\u001b[1;32m    439\u001b[0m \u001b[0;34m\u001b[0m\u001b[0m\n\u001b[1;32m    440\u001b[0m     \u001b[0;32mdef\u001b[0m \u001b[0mcompile_ir\u001b[0m\u001b[0;34m(\u001b[0m\u001b[0mself\u001b[0m\u001b[0;34m,\u001b[0m \u001b[0mfunc_ir\u001b[0m\u001b[0;34m,\u001b[0m \u001b[0mlifted\u001b[0m\u001b[0;34m=\u001b[0m\u001b[0;34m(\u001b[0m\u001b[0;34m)\u001b[0m\u001b[0;34m,\u001b[0m \u001b[0mlifted_from\u001b[0m\u001b[0;34m=\u001b[0m\u001b[0;32mNone\u001b[0m\u001b[0;34m)\u001b[0m\u001b[0;34m:\u001b[0m\u001b[0;34m\u001b[0m\u001b[0;34m\u001b[0m\u001b[0m\n",
            "\u001b[0;32m/usr/local/lib/python3.10/dist-packages/numba/core/compiler.py\u001b[0m in \u001b[0;36m_compile_bytecode\u001b[0;34m(self)\u001b[0m\n\u001b[1;32m    504\u001b[0m         \"\"\"\n\u001b[1;32m    505\u001b[0m         \u001b[0;32massert\u001b[0m \u001b[0mself\u001b[0m\u001b[0;34m.\u001b[0m\u001b[0mstate\u001b[0m\u001b[0;34m.\u001b[0m\u001b[0mfunc_ir\u001b[0m \u001b[0;32mis\u001b[0m \u001b[0;32mNone\u001b[0m\u001b[0;34m\u001b[0m\u001b[0;34m\u001b[0m\u001b[0m\n\u001b[0;32m--> 506\u001b[0;31m         \u001b[0;32mreturn\u001b[0m \u001b[0mself\u001b[0m\u001b[0;34m.\u001b[0m\u001b[0m_compile_core\u001b[0m\u001b[0;34m(\u001b[0m\u001b[0;34m)\u001b[0m\u001b[0;34m\u001b[0m\u001b[0;34m\u001b[0m\u001b[0m\n\u001b[0m\u001b[1;32m    507\u001b[0m \u001b[0;34m\u001b[0m\u001b[0m\n\u001b[1;32m    508\u001b[0m     \u001b[0;32mdef\u001b[0m \u001b[0m_compile_ir\u001b[0m\u001b[0;34m(\u001b[0m\u001b[0mself\u001b[0m\u001b[0;34m)\u001b[0m\u001b[0;34m:\u001b[0m\u001b[0;34m\u001b[0m\u001b[0;34m\u001b[0m\u001b[0m\n",
            "\u001b[0;32m/usr/local/lib/python3.10/dist-packages/numba/core/compiler.py\u001b[0m in \u001b[0;36m_compile_core\u001b[0;34m(self)\u001b[0m\n\u001b[1;32m    470\u001b[0m                 \u001b[0mres\u001b[0m \u001b[0;34m=\u001b[0m \u001b[0;32mNone\u001b[0m\u001b[0;34m\u001b[0m\u001b[0;34m\u001b[0m\u001b[0m\n\u001b[1;32m    471\u001b[0m                 \u001b[0;32mtry\u001b[0m\u001b[0;34m:\u001b[0m\u001b[0;34m\u001b[0m\u001b[0;34m\u001b[0m\u001b[0m\n\u001b[0;32m--> 472\u001b[0;31m                     \u001b[0mpm\u001b[0m\u001b[0;34m.\u001b[0m\u001b[0mrun\u001b[0m\u001b[0;34m(\u001b[0m\u001b[0mself\u001b[0m\u001b[0;34m.\u001b[0m\u001b[0mstate\u001b[0m\u001b[0;34m)\u001b[0m\u001b[0;34m\u001b[0m\u001b[0;34m\u001b[0m\u001b[0m\n\u001b[0m\u001b[1;32m    473\u001b[0m                     \u001b[0;32mif\u001b[0m \u001b[0mself\u001b[0m\u001b[0;34m.\u001b[0m\u001b[0mstate\u001b[0m\u001b[0;34m.\u001b[0m\u001b[0mcr\u001b[0m \u001b[0;32mis\u001b[0m \u001b[0;32mnot\u001b[0m \u001b[0;32mNone\u001b[0m\u001b[0;34m:\u001b[0m\u001b[0;34m\u001b[0m\u001b[0;34m\u001b[0m\u001b[0m\n\u001b[1;32m    474\u001b[0m                         \u001b[0;32mbreak\u001b[0m\u001b[0;34m\u001b[0m\u001b[0;34m\u001b[0m\u001b[0m\n",
            "\u001b[0;32m/usr/local/lib/python3.10/dist-packages/numba/core/compiler_machinery.py\u001b[0m in \u001b[0;36mrun\u001b[0;34m(self, state)\u001b[0m\n\u001b[1;32m    354\u001b[0m                 \u001b[0mpass_inst\u001b[0m \u001b[0;34m=\u001b[0m \u001b[0m_pass_registry\u001b[0m\u001b[0;34m.\u001b[0m\u001b[0mget\u001b[0m\u001b[0;34m(\u001b[0m\u001b[0mpss\u001b[0m\u001b[0;34m)\u001b[0m\u001b[0;34m.\u001b[0m\u001b[0mpass_inst\u001b[0m\u001b[0;34m\u001b[0m\u001b[0;34m\u001b[0m\u001b[0m\n\u001b[1;32m    355\u001b[0m                 \u001b[0;32mif\u001b[0m \u001b[0misinstance\u001b[0m\u001b[0;34m(\u001b[0m\u001b[0mpass_inst\u001b[0m\u001b[0;34m,\u001b[0m \u001b[0mCompilerPass\u001b[0m\u001b[0;34m)\u001b[0m\u001b[0;34m:\u001b[0m\u001b[0;34m\u001b[0m\u001b[0;34m\u001b[0m\u001b[0m\n\u001b[0;32m--> 356\u001b[0;31m                     \u001b[0mself\u001b[0m\u001b[0;34m.\u001b[0m\u001b[0m_runPass\u001b[0m\u001b[0;34m(\u001b[0m\u001b[0midx\u001b[0m\u001b[0;34m,\u001b[0m \u001b[0mpass_inst\u001b[0m\u001b[0;34m,\u001b[0m \u001b[0mstate\u001b[0m\u001b[0;34m)\u001b[0m\u001b[0;34m\u001b[0m\u001b[0;34m\u001b[0m\u001b[0m\n\u001b[0m\u001b[1;32m    357\u001b[0m                 \u001b[0;32melse\u001b[0m\u001b[0;34m:\u001b[0m\u001b[0;34m\u001b[0m\u001b[0;34m\u001b[0m\u001b[0m\n\u001b[1;32m    358\u001b[0m                     \u001b[0;32mraise\u001b[0m \u001b[0mBaseException\u001b[0m\u001b[0;34m(\u001b[0m\u001b[0;34m\"Legacy pass in use\"\u001b[0m\u001b[0;34m)\u001b[0m\u001b[0;34m\u001b[0m\u001b[0;34m\u001b[0m\u001b[0m\n",
            "\u001b[0;32m/usr/local/lib/python3.10/dist-packages/numba/core/compiler_lock.py\u001b[0m in \u001b[0;36m_acquire_compile_lock\u001b[0;34m(*args, **kwargs)\u001b[0m\n\u001b[1;32m     33\u001b[0m         \u001b[0;32mdef\u001b[0m \u001b[0m_acquire_compile_lock\u001b[0m\u001b[0;34m(\u001b[0m\u001b[0;34m*\u001b[0m\u001b[0margs\u001b[0m\u001b[0;34m,\u001b[0m \u001b[0;34m**\u001b[0m\u001b[0mkwargs\u001b[0m\u001b[0;34m)\u001b[0m\u001b[0;34m:\u001b[0m\u001b[0;34m\u001b[0m\u001b[0;34m\u001b[0m\u001b[0m\n\u001b[1;32m     34\u001b[0m             \u001b[0;32mwith\u001b[0m \u001b[0mself\u001b[0m\u001b[0;34m:\u001b[0m\u001b[0;34m\u001b[0m\u001b[0;34m\u001b[0m\u001b[0m\n\u001b[0;32m---> 35\u001b[0;31m                 \u001b[0;32mreturn\u001b[0m \u001b[0mfunc\u001b[0m\u001b[0;34m(\u001b[0m\u001b[0;34m*\u001b[0m\u001b[0margs\u001b[0m\u001b[0;34m,\u001b[0m \u001b[0;34m**\u001b[0m\u001b[0mkwargs\u001b[0m\u001b[0;34m)\u001b[0m\u001b[0;34m\u001b[0m\u001b[0;34m\u001b[0m\u001b[0m\n\u001b[0m\u001b[1;32m     36\u001b[0m         \u001b[0;32mreturn\u001b[0m \u001b[0m_acquire_compile_lock\u001b[0m\u001b[0;34m\u001b[0m\u001b[0;34m\u001b[0m\u001b[0m\n\u001b[1;32m     37\u001b[0m \u001b[0;34m\u001b[0m\u001b[0m\n",
            "\u001b[0;32m/usr/local/lib/python3.10/dist-packages/numba/core/compiler_machinery.py\u001b[0m in \u001b[0;36m_runPass\u001b[0;34m(self, index, pss, internal_state)\u001b[0m\n\u001b[1;32m    309\u001b[0m                 \u001b[0mmutated\u001b[0m \u001b[0;34m|=\u001b[0m \u001b[0mcheck\u001b[0m\u001b[0;34m(\u001b[0m\u001b[0mpss\u001b[0m\u001b[0;34m.\u001b[0m\u001b[0mrun_initialization\u001b[0m\u001b[0;34m,\u001b[0m \u001b[0minternal_state\u001b[0m\u001b[0;34m)\u001b[0m\u001b[0;34m\u001b[0m\u001b[0;34m\u001b[0m\u001b[0m\n\u001b[1;32m    310\u001b[0m             \u001b[0;32mwith\u001b[0m \u001b[0mSimpleTimer\u001b[0m\u001b[0;34m(\u001b[0m\u001b[0;34m)\u001b[0m \u001b[0;32mas\u001b[0m \u001b[0mpass_time\u001b[0m\u001b[0;34m:\u001b[0m\u001b[0;34m\u001b[0m\u001b[0;34m\u001b[0m\u001b[0m\n\u001b[0;32m--> 311\u001b[0;31m                 \u001b[0mmutated\u001b[0m \u001b[0;34m|=\u001b[0m \u001b[0mcheck\u001b[0m\u001b[0;34m(\u001b[0m\u001b[0mpss\u001b[0m\u001b[0;34m.\u001b[0m\u001b[0mrun_pass\u001b[0m\u001b[0;34m,\u001b[0m \u001b[0minternal_state\u001b[0m\u001b[0;34m)\u001b[0m\u001b[0;34m\u001b[0m\u001b[0;34m\u001b[0m\u001b[0m\n\u001b[0m\u001b[1;32m    312\u001b[0m             \u001b[0;32mwith\u001b[0m \u001b[0mSimpleTimer\u001b[0m\u001b[0;34m(\u001b[0m\u001b[0;34m)\u001b[0m \u001b[0;32mas\u001b[0m \u001b[0mfinalize_time\u001b[0m\u001b[0;34m:\u001b[0m\u001b[0;34m\u001b[0m\u001b[0;34m\u001b[0m\u001b[0m\n\u001b[1;32m    313\u001b[0m                 \u001b[0mmutated\u001b[0m \u001b[0;34m|=\u001b[0m \u001b[0mcheck\u001b[0m\u001b[0;34m(\u001b[0m\u001b[0mpss\u001b[0m\u001b[0;34m.\u001b[0m\u001b[0mrun_finalizer\u001b[0m\u001b[0;34m,\u001b[0m \u001b[0minternal_state\u001b[0m\u001b[0;34m)\u001b[0m\u001b[0;34m\u001b[0m\u001b[0;34m\u001b[0m\u001b[0m\n",
            "\u001b[0;32m/usr/local/lib/python3.10/dist-packages/numba/core/compiler_machinery.py\u001b[0m in \u001b[0;36mcheck\u001b[0;34m(func, compiler_state)\u001b[0m\n\u001b[1;32m    271\u001b[0m \u001b[0;34m\u001b[0m\u001b[0m\n\u001b[1;32m    272\u001b[0m         \u001b[0;32mdef\u001b[0m \u001b[0mcheck\u001b[0m\u001b[0;34m(\u001b[0m\u001b[0mfunc\u001b[0m\u001b[0;34m,\u001b[0m \u001b[0mcompiler_state\u001b[0m\u001b[0;34m)\u001b[0m\u001b[0;34m:\u001b[0m\u001b[0;34m\u001b[0m\u001b[0;34m\u001b[0m\u001b[0m\n\u001b[0;32m--> 273\u001b[0;31m             \u001b[0mmangled\u001b[0m \u001b[0;34m=\u001b[0m \u001b[0mfunc\u001b[0m\u001b[0;34m(\u001b[0m\u001b[0mcompiler_state\u001b[0m\u001b[0;34m)\u001b[0m\u001b[0;34m\u001b[0m\u001b[0;34m\u001b[0m\u001b[0m\n\u001b[0m\u001b[1;32m    274\u001b[0m             \u001b[0;32mif\u001b[0m \u001b[0mmangled\u001b[0m \u001b[0;32mnot\u001b[0m \u001b[0;32min\u001b[0m \u001b[0;34m(\u001b[0m\u001b[0;32mTrue\u001b[0m\u001b[0;34m,\u001b[0m \u001b[0;32mFalse\u001b[0m\u001b[0;34m)\u001b[0m\u001b[0;34m:\u001b[0m\u001b[0;34m\u001b[0m\u001b[0;34m\u001b[0m\u001b[0m\n\u001b[1;32m    275\u001b[0m                 msg = (\"CompilerPass implementations should return True/False. \"\n",
            "\u001b[0;32m/usr/local/lib/python3.10/dist-packages/numba/core/typed_passes.py\u001b[0m in \u001b[0;36mrun_pass\u001b[0;34m(self, state)\u001b[0m\n\u001b[1;32m    466\u001b[0m                 lower = self.lowering_class(targetctx, library, fndesc, interp,\n\u001b[1;32m    467\u001b[0m                                             metadata=metadata)\n\u001b[0;32m--> 468\u001b[0;31m                 \u001b[0mlower\u001b[0m\u001b[0;34m.\u001b[0m\u001b[0mlower\u001b[0m\u001b[0;34m(\u001b[0m\u001b[0;34m)\u001b[0m\u001b[0;34m\u001b[0m\u001b[0;34m\u001b[0m\u001b[0m\n\u001b[0m\u001b[1;32m    469\u001b[0m                 \u001b[0;32mif\u001b[0m \u001b[0;32mnot\u001b[0m \u001b[0mflags\u001b[0m\u001b[0;34m.\u001b[0m\u001b[0mno_cpython_wrapper\u001b[0m\u001b[0;34m:\u001b[0m\u001b[0;34m\u001b[0m\u001b[0;34m\u001b[0m\u001b[0m\n\u001b[1;32m    470\u001b[0m                     \u001b[0mlower\u001b[0m\u001b[0;34m.\u001b[0m\u001b[0mcreate_cpython_wrapper\u001b[0m\u001b[0;34m(\u001b[0m\u001b[0mflags\u001b[0m\u001b[0;34m.\u001b[0m\u001b[0mrelease_gil\u001b[0m\u001b[0;34m)\u001b[0m\u001b[0;34m\u001b[0m\u001b[0;34m\u001b[0m\u001b[0m\n",
            "\u001b[0;32m/usr/local/lib/python3.10/dist-packages/numba/core/lowering.py\u001b[0m in \u001b[0;36mlower\u001b[0;34m(self)\u001b[0m\n\u001b[1;32m    185\u001b[0m         \u001b[0;32mif\u001b[0m \u001b[0mself\u001b[0m\u001b[0;34m.\u001b[0m\u001b[0mgenerator_info\u001b[0m \u001b[0;32mis\u001b[0m \u001b[0;32mNone\u001b[0m\u001b[0;34m:\u001b[0m\u001b[0;34m\u001b[0m\u001b[0;34m\u001b[0m\u001b[0m\n\u001b[1;32m    186\u001b[0m             \u001b[0mself\u001b[0m\u001b[0;34m.\u001b[0m\u001b[0mgenlower\u001b[0m \u001b[0;34m=\u001b[0m \u001b[0;32mNone\u001b[0m\u001b[0;34m\u001b[0m\u001b[0;34m\u001b[0m\u001b[0m\n\u001b[0;32m--> 187\u001b[0;31m             \u001b[0mself\u001b[0m\u001b[0;34m.\u001b[0m\u001b[0mlower_normal_function\u001b[0m\u001b[0;34m(\u001b[0m\u001b[0mself\u001b[0m\u001b[0;34m.\u001b[0m\u001b[0mfndesc\u001b[0m\u001b[0;34m)\u001b[0m\u001b[0;34m\u001b[0m\u001b[0;34m\u001b[0m\u001b[0m\n\u001b[0m\u001b[1;32m    188\u001b[0m         \u001b[0;32melse\u001b[0m\u001b[0;34m:\u001b[0m\u001b[0;34m\u001b[0m\u001b[0;34m\u001b[0m\u001b[0m\n\u001b[1;32m    189\u001b[0m             \u001b[0mself\u001b[0m\u001b[0;34m.\u001b[0m\u001b[0mgenlower\u001b[0m \u001b[0;34m=\u001b[0m \u001b[0mself\u001b[0m\u001b[0;34m.\u001b[0m\u001b[0mGeneratorLower\u001b[0m\u001b[0;34m(\u001b[0m\u001b[0mself\u001b[0m\u001b[0;34m)\u001b[0m\u001b[0;34m\u001b[0m\u001b[0;34m\u001b[0m\u001b[0m\n",
            "\u001b[0;32m/usr/local/lib/python3.10/dist-packages/numba/core/lowering.py\u001b[0m in \u001b[0;36mlower_normal_function\u001b[0;34m(self, fndesc)\u001b[0m\n\u001b[1;32m    224\u001b[0m         \u001b[0;31m# Init argument values\u001b[0m\u001b[0;34m\u001b[0m\u001b[0;34m\u001b[0m\u001b[0m\n\u001b[1;32m    225\u001b[0m         \u001b[0mself\u001b[0m\u001b[0;34m.\u001b[0m\u001b[0mextract_function_arguments\u001b[0m\u001b[0;34m(\u001b[0m\u001b[0;34m)\u001b[0m\u001b[0;34m\u001b[0m\u001b[0;34m\u001b[0m\u001b[0m\n\u001b[0;32m--> 226\u001b[0;31m         \u001b[0mentry_block_tail\u001b[0m \u001b[0;34m=\u001b[0m \u001b[0mself\u001b[0m\u001b[0;34m.\u001b[0m\u001b[0mlower_function_body\u001b[0m\u001b[0;34m(\u001b[0m\u001b[0;34m)\u001b[0m\u001b[0;34m\u001b[0m\u001b[0;34m\u001b[0m\u001b[0m\n\u001b[0m\u001b[1;32m    227\u001b[0m \u001b[0;34m\u001b[0m\u001b[0m\n\u001b[1;32m    228\u001b[0m         \u001b[0;31m# Close tail of entry block, do not emit debug metadata else the\u001b[0m\u001b[0;34m\u001b[0m\u001b[0;34m\u001b[0m\u001b[0m\n",
            "\u001b[0;32m/usr/local/lib/python3.10/dist-packages/numba/core/lowering.py\u001b[0m in \u001b[0;36mlower_function_body\u001b[0;34m(self)\u001b[0m\n\u001b[1;32m    254\u001b[0m             \u001b[0mself\u001b[0m\u001b[0;34m.\u001b[0m\u001b[0mbuilder\u001b[0m\u001b[0;34m.\u001b[0m\u001b[0mposition_at_end\u001b[0m\u001b[0;34m(\u001b[0m\u001b[0mbb\u001b[0m\u001b[0;34m)\u001b[0m\u001b[0;34m\u001b[0m\u001b[0;34m\u001b[0m\u001b[0m\n\u001b[1;32m    255\u001b[0m             \u001b[0mself\u001b[0m\u001b[0;34m.\u001b[0m\u001b[0mdebug_print\u001b[0m\u001b[0;34m(\u001b[0m\u001b[0;34mf\"# lower block: {offset}\"\u001b[0m\u001b[0;34m)\u001b[0m\u001b[0;34m\u001b[0m\u001b[0;34m\u001b[0m\u001b[0m\n\u001b[0;32m--> 256\u001b[0;31m             \u001b[0mself\u001b[0m\u001b[0;34m.\u001b[0m\u001b[0mlower_block\u001b[0m\u001b[0;34m(\u001b[0m\u001b[0mblock\u001b[0m\u001b[0;34m)\u001b[0m\u001b[0;34m\u001b[0m\u001b[0;34m\u001b[0m\u001b[0m\n\u001b[0m\u001b[1;32m    257\u001b[0m         \u001b[0mself\u001b[0m\u001b[0;34m.\u001b[0m\u001b[0mpost_lower\u001b[0m\u001b[0;34m(\u001b[0m\u001b[0;34m)\u001b[0m\u001b[0;34m\u001b[0m\u001b[0;34m\u001b[0m\u001b[0m\n\u001b[1;32m    258\u001b[0m         \u001b[0;32mreturn\u001b[0m \u001b[0mentry_block_tail\u001b[0m\u001b[0;34m\u001b[0m\u001b[0;34m\u001b[0m\u001b[0m\n",
            "\u001b[0;32m/usr/local/lib/python3.10/dist-packages/numba/core/lowering.py\u001b[0m in \u001b[0;36mlower_block\u001b[0;34m(self, block)\u001b[0m\n\u001b[1;32m    268\u001b[0m             with new_error_context('lowering \"{inst}\" at {loc}', inst=inst,\n\u001b[1;32m    269\u001b[0m                                    loc=self.loc, errcls_=defaulterrcls):\n\u001b[0;32m--> 270\u001b[0;31m                 \u001b[0mself\u001b[0m\u001b[0;34m.\u001b[0m\u001b[0mlower_inst\u001b[0m\u001b[0;34m(\u001b[0m\u001b[0minst\u001b[0m\u001b[0;34m)\u001b[0m\u001b[0;34m\u001b[0m\u001b[0;34m\u001b[0m\u001b[0m\n\u001b[0m\u001b[1;32m    271\u001b[0m         \u001b[0mself\u001b[0m\u001b[0;34m.\u001b[0m\u001b[0mpost_block\u001b[0m\u001b[0;34m(\u001b[0m\u001b[0mblock\u001b[0m\u001b[0;34m)\u001b[0m\u001b[0;34m\u001b[0m\u001b[0;34m\u001b[0m\u001b[0m\n\u001b[1;32m    272\u001b[0m \u001b[0;34m\u001b[0m\u001b[0m\n",
            "\u001b[0;32m/usr/local/lib/python3.10/dist-packages/numba/core/lowering.py\u001b[0m in \u001b[0;36mlower_inst\u001b[0;34m(self, inst)\u001b[0m\n\u001b[1;32m    446\u001b[0m         \u001b[0;32mif\u001b[0m \u001b[0misinstance\u001b[0m\u001b[0;34m(\u001b[0m\u001b[0minst\u001b[0m\u001b[0;34m,\u001b[0m \u001b[0mir\u001b[0m\u001b[0;34m.\u001b[0m\u001b[0mAssign\u001b[0m\u001b[0;34m)\u001b[0m\u001b[0;34m:\u001b[0m\u001b[0;34m\u001b[0m\u001b[0;34m\u001b[0m\u001b[0m\n\u001b[1;32m    447\u001b[0m             \u001b[0mty\u001b[0m \u001b[0;34m=\u001b[0m \u001b[0mself\u001b[0m\u001b[0;34m.\u001b[0m\u001b[0mtypeof\u001b[0m\u001b[0;34m(\u001b[0m\u001b[0minst\u001b[0m\u001b[0;34m.\u001b[0m\u001b[0mtarget\u001b[0m\u001b[0;34m.\u001b[0m\u001b[0mname\u001b[0m\u001b[0;34m)\u001b[0m\u001b[0;34m\u001b[0m\u001b[0;34m\u001b[0m\u001b[0m\n\u001b[0;32m--> 448\u001b[0;31m             \u001b[0mval\u001b[0m \u001b[0;34m=\u001b[0m \u001b[0mself\u001b[0m\u001b[0;34m.\u001b[0m\u001b[0mlower_assign\u001b[0m\u001b[0;34m(\u001b[0m\u001b[0mty\u001b[0m\u001b[0;34m,\u001b[0m \u001b[0minst\u001b[0m\u001b[0;34m)\u001b[0m\u001b[0;34m\u001b[0m\u001b[0;34m\u001b[0m\u001b[0m\n\u001b[0m\u001b[1;32m    449\u001b[0m             \u001b[0margidx\u001b[0m \u001b[0;34m=\u001b[0m \u001b[0;32mNone\u001b[0m\u001b[0;34m\u001b[0m\u001b[0;34m\u001b[0m\u001b[0m\n\u001b[1;32m    450\u001b[0m             \u001b[0;31m# If this is a store from an arg, like x = arg.x then tell debuginfo\u001b[0m\u001b[0;34m\u001b[0m\u001b[0;34m\u001b[0m\u001b[0m\n",
            "\u001b[0;32m/usr/local/lib/python3.10/dist-packages/numba/core/lowering.py\u001b[0m in \u001b[0;36mlower_assign\u001b[0;34m(self, ty, inst)\u001b[0m\n\u001b[1;32m    658\u001b[0m \u001b[0;34m\u001b[0m\u001b[0m\n\u001b[1;32m    659\u001b[0m         \u001b[0;32melif\u001b[0m \u001b[0misinstance\u001b[0m\u001b[0;34m(\u001b[0m\u001b[0mvalue\u001b[0m\u001b[0;34m,\u001b[0m \u001b[0mir\u001b[0m\u001b[0;34m.\u001b[0m\u001b[0mExpr\u001b[0m\u001b[0;34m)\u001b[0m\u001b[0;34m:\u001b[0m\u001b[0;34m\u001b[0m\u001b[0;34m\u001b[0m\u001b[0m\n\u001b[0;32m--> 660\u001b[0;31m             \u001b[0;32mreturn\u001b[0m \u001b[0mself\u001b[0m\u001b[0;34m.\u001b[0m\u001b[0mlower_expr\u001b[0m\u001b[0;34m(\u001b[0m\u001b[0mty\u001b[0m\u001b[0;34m,\u001b[0m \u001b[0mvalue\u001b[0m\u001b[0;34m)\u001b[0m\u001b[0;34m\u001b[0m\u001b[0;34m\u001b[0m\u001b[0m\n\u001b[0m\u001b[1;32m    661\u001b[0m \u001b[0;34m\u001b[0m\u001b[0m\n\u001b[1;32m    662\u001b[0m         \u001b[0;32melif\u001b[0m \u001b[0misinstance\u001b[0m\u001b[0;34m(\u001b[0m\u001b[0mvalue\u001b[0m\u001b[0;34m,\u001b[0m \u001b[0mir\u001b[0m\u001b[0;34m.\u001b[0m\u001b[0mVar\u001b[0m\u001b[0;34m)\u001b[0m\u001b[0;34m:\u001b[0m\u001b[0;34m\u001b[0m\u001b[0;34m\u001b[0m\u001b[0m\n",
            "\u001b[0;32m/usr/local/lib/python3.10/dist-packages/numba/core/lowering.py\u001b[0m in \u001b[0;36mlower_expr\u001b[0;34m(self, resty, expr)\u001b[0m\n\u001b[1;32m   1194\u001b[0m \u001b[0;34m\u001b[0m\u001b[0m\n\u001b[1;32m   1195\u001b[0m         \u001b[0;32melif\u001b[0m \u001b[0mexpr\u001b[0m\u001b[0;34m.\u001b[0m\u001b[0mop\u001b[0m \u001b[0;34m==\u001b[0m \u001b[0;34m'call'\u001b[0m\u001b[0;34m:\u001b[0m\u001b[0;34m\u001b[0m\u001b[0;34m\u001b[0m\u001b[0m\n\u001b[0;32m-> 1196\u001b[0;31m             \u001b[0mres\u001b[0m \u001b[0;34m=\u001b[0m \u001b[0mself\u001b[0m\u001b[0;34m.\u001b[0m\u001b[0mlower_call\u001b[0m\u001b[0;34m(\u001b[0m\u001b[0mresty\u001b[0m\u001b[0;34m,\u001b[0m \u001b[0mexpr\u001b[0m\u001b[0;34m)\u001b[0m\u001b[0;34m\u001b[0m\u001b[0;34m\u001b[0m\u001b[0m\n\u001b[0m\u001b[1;32m   1197\u001b[0m             \u001b[0;32mreturn\u001b[0m \u001b[0mres\u001b[0m\u001b[0;34m\u001b[0m\u001b[0;34m\u001b[0m\u001b[0m\n\u001b[1;32m   1198\u001b[0m \u001b[0;34m\u001b[0m\u001b[0m\n",
            "\u001b[0;32m/usr/local/lib/python3.10/dist-packages/numba/core/lowering.py\u001b[0m in \u001b[0;36mlower_call\u001b[0;34m(self, resty, expr)\u001b[0m\n\u001b[1;32m    923\u001b[0m \u001b[0;34m\u001b[0m\u001b[0m\n\u001b[1;32m    924\u001b[0m         \u001b[0;32melse\u001b[0m\u001b[0;34m:\u001b[0m\u001b[0;34m\u001b[0m\u001b[0;34m\u001b[0m\u001b[0m\n\u001b[0;32m--> 925\u001b[0;31m             \u001b[0mres\u001b[0m \u001b[0;34m=\u001b[0m \u001b[0mself\u001b[0m\u001b[0;34m.\u001b[0m\u001b[0m_lower_call_normal\u001b[0m\u001b[0;34m(\u001b[0m\u001b[0mfnty\u001b[0m\u001b[0;34m,\u001b[0m \u001b[0mexpr\u001b[0m\u001b[0;34m,\u001b[0m \u001b[0msignature\u001b[0m\u001b[0;34m)\u001b[0m\u001b[0;34m\u001b[0m\u001b[0;34m\u001b[0m\u001b[0m\n\u001b[0m\u001b[1;32m    926\u001b[0m \u001b[0;34m\u001b[0m\u001b[0m\n\u001b[1;32m    927\u001b[0m         \u001b[0;31m# If lowering the call returned None, interpret that as returning dummy\u001b[0m\u001b[0;34m\u001b[0m\u001b[0;34m\u001b[0m\u001b[0m\n",
            "\u001b[0;32m/usr/local/lib/python3.10/dist-packages/numba/core/lowering.py\u001b[0m in \u001b[0;36m_lower_call_normal\u001b[0;34m(self, fnty, expr, signature)\u001b[0m\n\u001b[1;32m   1165\u001b[0m             \u001b[0margvals\u001b[0m \u001b[0;34m=\u001b[0m \u001b[0;34m[\u001b[0m\u001b[0mthe_self\u001b[0m\u001b[0;34m]\u001b[0m \u001b[0;34m+\u001b[0m \u001b[0mlist\u001b[0m\u001b[0;34m(\u001b[0m\u001b[0margvals\u001b[0m\u001b[0;34m)\u001b[0m\u001b[0;34m\u001b[0m\u001b[0;34m\u001b[0m\u001b[0m\n\u001b[1;32m   1166\u001b[0m \u001b[0;34m\u001b[0m\u001b[0m\n\u001b[0;32m-> 1167\u001b[0;31m         \u001b[0mres\u001b[0m \u001b[0;34m=\u001b[0m \u001b[0mimpl\u001b[0m\u001b[0;34m(\u001b[0m\u001b[0mself\u001b[0m\u001b[0;34m.\u001b[0m\u001b[0mbuilder\u001b[0m\u001b[0;34m,\u001b[0m \u001b[0margvals\u001b[0m\u001b[0;34m,\u001b[0m \u001b[0mself\u001b[0m\u001b[0;34m.\u001b[0m\u001b[0mloc\u001b[0m\u001b[0;34m)\u001b[0m\u001b[0;34m\u001b[0m\u001b[0;34m\u001b[0m\u001b[0m\n\u001b[0m\u001b[1;32m   1168\u001b[0m         \u001b[0;32mreturn\u001b[0m \u001b[0mres\u001b[0m\u001b[0;34m\u001b[0m\u001b[0;34m\u001b[0m\u001b[0m\n\u001b[1;32m   1169\u001b[0m \u001b[0;34m\u001b[0m\u001b[0m\n",
            "\u001b[0;32m/usr/local/lib/python3.10/dist-packages/numba/core/base.py\u001b[0m in \u001b[0;36m__call__\u001b[0;34m(self, builder, args, loc)\u001b[0m\n\u001b[1;32m   1188\u001b[0m \u001b[0;34m\u001b[0m\u001b[0m\n\u001b[1;32m   1189\u001b[0m     \u001b[0;32mdef\u001b[0m \u001b[0m__call__\u001b[0m\u001b[0;34m(\u001b[0m\u001b[0mself\u001b[0m\u001b[0;34m,\u001b[0m \u001b[0mbuilder\u001b[0m\u001b[0;34m,\u001b[0m \u001b[0margs\u001b[0m\u001b[0;34m,\u001b[0m \u001b[0mloc\u001b[0m\u001b[0;34m=\u001b[0m\u001b[0;32mNone\u001b[0m\u001b[0;34m)\u001b[0m\u001b[0;34m:\u001b[0m\u001b[0;34m\u001b[0m\u001b[0;34m\u001b[0m\u001b[0m\n\u001b[0;32m-> 1190\u001b[0;31m         \u001b[0mres\u001b[0m \u001b[0;34m=\u001b[0m \u001b[0mself\u001b[0m\u001b[0;34m.\u001b[0m\u001b[0m_imp\u001b[0m\u001b[0;34m(\u001b[0m\u001b[0mself\u001b[0m\u001b[0;34m.\u001b[0m\u001b[0m_context\u001b[0m\u001b[0;34m,\u001b[0m \u001b[0mbuilder\u001b[0m\u001b[0;34m,\u001b[0m \u001b[0mself\u001b[0m\u001b[0;34m.\u001b[0m\u001b[0m_sig\u001b[0m\u001b[0;34m,\u001b[0m \u001b[0margs\u001b[0m\u001b[0;34m,\u001b[0m \u001b[0mloc\u001b[0m\u001b[0;34m=\u001b[0m\u001b[0mloc\u001b[0m\u001b[0;34m)\u001b[0m\u001b[0;34m\u001b[0m\u001b[0;34m\u001b[0m\u001b[0m\n\u001b[0m\u001b[1;32m   1191\u001b[0m         \u001b[0mself\u001b[0m\u001b[0;34m.\u001b[0m\u001b[0m_context\u001b[0m\u001b[0;34m.\u001b[0m\u001b[0madd_linking_libs\u001b[0m\u001b[0;34m(\u001b[0m\u001b[0mgetattr\u001b[0m\u001b[0;34m(\u001b[0m\u001b[0mself\u001b[0m\u001b[0;34m,\u001b[0m \u001b[0;34m'libs'\u001b[0m\u001b[0;34m,\u001b[0m \u001b[0;34m(\u001b[0m\u001b[0;34m)\u001b[0m\u001b[0;34m)\u001b[0m\u001b[0;34m)\u001b[0m\u001b[0;34m\u001b[0m\u001b[0;34m\u001b[0m\u001b[0m\n\u001b[1;32m   1192\u001b[0m         \u001b[0;32mreturn\u001b[0m \u001b[0mres\u001b[0m\u001b[0;34m\u001b[0m\u001b[0;34m\u001b[0m\u001b[0m\n",
            "\u001b[0;32m/usr/local/lib/python3.10/dist-packages/numba/core/base.py\u001b[0m in \u001b[0;36mwrapper\u001b[0;34m(*args, **kwargs)\u001b[0m\n\u001b[1;32m   1218\u001b[0m             \u001b[0;32mdef\u001b[0m \u001b[0mwrapper\u001b[0m\u001b[0;34m(\u001b[0m\u001b[0;34m*\u001b[0m\u001b[0margs\u001b[0m\u001b[0;34m,\u001b[0m \u001b[0;34m**\u001b[0m\u001b[0mkwargs\u001b[0m\u001b[0;34m)\u001b[0m\u001b[0;34m:\u001b[0m\u001b[0;34m\u001b[0m\u001b[0;34m\u001b[0m\u001b[0m\n\u001b[1;32m   1219\u001b[0m                 \u001b[0mkwargs\u001b[0m\u001b[0;34m.\u001b[0m\u001b[0mpop\u001b[0m\u001b[0;34m(\u001b[0m\u001b[0;34m'loc'\u001b[0m\u001b[0;34m)\u001b[0m     \u001b[0;31m# drop unused loc\u001b[0m\u001b[0;34m\u001b[0m\u001b[0;34m\u001b[0m\u001b[0m\n\u001b[0;32m-> 1220\u001b[0;31m                 \u001b[0;32mreturn\u001b[0m \u001b[0mfn\u001b[0m\u001b[0;34m(\u001b[0m\u001b[0;34m*\u001b[0m\u001b[0margs\u001b[0m\u001b[0;34m,\u001b[0m \u001b[0;34m**\u001b[0m\u001b[0mkwargs\u001b[0m\u001b[0;34m)\u001b[0m\u001b[0;34m\u001b[0m\u001b[0;34m\u001b[0m\u001b[0m\n\u001b[0m\u001b[1;32m   1221\u001b[0m \u001b[0;34m\u001b[0m\u001b[0m\n\u001b[1;32m   1222\u001b[0m             \u001b[0;31m# Copy the following attributes from the wrapped.\u001b[0m\u001b[0;34m\u001b[0m\u001b[0;34m\u001b[0m\u001b[0m\n",
            "\u001b[0;32m/usr/local/lib/python3.10/dist-packages/numba/stencils/stencil.py\u001b[0m in \u001b[0;36m__call__\u001b[0;34m(self, context, builder, sig, args)\u001b[0m\n\u001b[1;32m     28\u001b[0m \u001b[0;34m\u001b[0m\u001b[0m\n\u001b[1;32m     29\u001b[0m     \u001b[0;32mdef\u001b[0m \u001b[0m__call__\u001b[0m\u001b[0;34m(\u001b[0m\u001b[0mself\u001b[0m\u001b[0;34m,\u001b[0m \u001b[0mcontext\u001b[0m\u001b[0;34m,\u001b[0m \u001b[0mbuilder\u001b[0m\u001b[0;34m,\u001b[0m \u001b[0msig\u001b[0m\u001b[0;34m,\u001b[0m \u001b[0margs\u001b[0m\u001b[0;34m)\u001b[0m\u001b[0;34m:\u001b[0m\u001b[0;34m\u001b[0m\u001b[0;34m\u001b[0m\u001b[0m\n\u001b[0;32m---> 30\u001b[0;31m         cres = self.stencilFunc.compile_for_argtys(sig.args, {},\n\u001b[0m\u001b[1;32m     31\u001b[0m                     sig.return_type, None)\n\u001b[1;32m     32\u001b[0m         \u001b[0mres\u001b[0m \u001b[0;34m=\u001b[0m \u001b[0mcontext\u001b[0m\u001b[0;34m.\u001b[0m\u001b[0mcall_internal\u001b[0m\u001b[0;34m(\u001b[0m\u001b[0mbuilder\u001b[0m\u001b[0;34m,\u001b[0m \u001b[0mcres\u001b[0m\u001b[0;34m.\u001b[0m\u001b[0mfndesc\u001b[0m\u001b[0;34m,\u001b[0m \u001b[0msig\u001b[0m\u001b[0;34m,\u001b[0m \u001b[0margs\u001b[0m\u001b[0;34m)\u001b[0m\u001b[0;34m\u001b[0m\u001b[0;34m\u001b[0m\u001b[0m\n",
            "\u001b[0;32m/usr/local/lib/python3.10/dist-packages/numba/stencils/stencil.py\u001b[0m in \u001b[0;36mcompile_for_argtys\u001b[0;34m(self, argtys, kwtys, return_type, sigret)\u001b[0m\n\u001b[1;32m    366\u001b[0m         \u001b[0;31m# look in the type cache to find if result array is passed\u001b[0m\u001b[0;34m\u001b[0m\u001b[0;34m\u001b[0m\u001b[0m\n\u001b[1;32m    367\u001b[0m         \u001b[0;34m(\u001b[0m\u001b[0m_\u001b[0m\u001b[0;34m,\u001b[0m \u001b[0mresult\u001b[0m\u001b[0;34m,\u001b[0m \u001b[0mtypemap\u001b[0m\u001b[0;34m,\u001b[0m \u001b[0mcalltypes\u001b[0m\u001b[0;34m)\u001b[0m \u001b[0;34m=\u001b[0m \u001b[0mself\u001b[0m\u001b[0;34m.\u001b[0m\u001b[0m_type_cache\u001b[0m\u001b[0;34m[\u001b[0m\u001b[0margtys\u001b[0m\u001b[0;34m]\u001b[0m\u001b[0;34m\u001b[0m\u001b[0;34m\u001b[0m\u001b[0m\n\u001b[0;32m--> 368\u001b[0;31m         new_func = self._stencil_wrapper(result, sigret, return_type,\n\u001b[0m\u001b[1;32m    369\u001b[0m                                          typemap, calltypes, *argtys)\n\u001b[1;32m    370\u001b[0m         \u001b[0;32mreturn\u001b[0m \u001b[0mnew_func\u001b[0m\u001b[0;34m\u001b[0m\u001b[0;34m\u001b[0m\u001b[0m\n",
            "\u001b[0;32m/usr/local/lib/python3.10/dist-packages/numba/stencils/stencil.py\u001b[0m in \u001b[0;36m_stencil_wrapper\u001b[0;34m(self, result, sigret, return_type, typemap, calltypes, *args)\u001b[0m\n\u001b[1;32m    754\u001b[0m         \u001b[0;31m# body in it.\u001b[0m\u001b[0;34m\u001b[0m\u001b[0;34m\u001b[0m\u001b[0m\n\u001b[1;32m    755\u001b[0m         \u001b[0mir_utils\u001b[0m\u001b[0;34m.\u001b[0m\u001b[0mfixup_var_define_in_scope\u001b[0m\u001b[0;34m(\u001b[0m\u001b[0mstencil_ir\u001b[0m\u001b[0;34m.\u001b[0m\u001b[0mblocks\u001b[0m\u001b[0;34m)\u001b[0m\u001b[0;34m\u001b[0m\u001b[0;34m\u001b[0m\u001b[0m\n\u001b[0;32m--> 756\u001b[0;31m         new_func = compiler.compile_ir(\n\u001b[0m\u001b[1;32m    757\u001b[0m             \u001b[0mself\u001b[0m\u001b[0;34m.\u001b[0m\u001b[0m_typingctx\u001b[0m\u001b[0;34m,\u001b[0m\u001b[0;34m\u001b[0m\u001b[0;34m\u001b[0m\u001b[0m\n\u001b[1;32m    758\u001b[0m             \u001b[0mself\u001b[0m\u001b[0;34m.\u001b[0m\u001b[0m_targetctx\u001b[0m\u001b[0;34m,\u001b[0m\u001b[0;34m\u001b[0m\u001b[0;34m\u001b[0m\u001b[0m\n",
            "\u001b[0;32m/usr/local/lib/python3.10/dist-packages/numba/core/compiler.py\u001b[0m in \u001b[0;36mcompile_ir\u001b[0;34m(typingctx, targetctx, func_ir, args, return_type, flags, locals, lifted, lifted_from, is_lifted_loop, library, pipeline_class)\u001b[0m\n\u001b[1;32m    805\u001b[0m         pipeline = pipeline_class(typingctx, targetctx, library,\n\u001b[1;32m    806\u001b[0m                                   args, return_type, flags, locals)\n\u001b[0;32m--> 807\u001b[0;31m         return pipeline.compile_ir(func_ir=func_ir, lifted=lifted,\n\u001b[0m\u001b[1;32m    808\u001b[0m                                    lifted_from=lifted_from)\n\u001b[1;32m    809\u001b[0m \u001b[0;34m\u001b[0m\u001b[0m\n",
            "\u001b[0;32m/usr/local/lib/python3.10/dist-packages/numba/core/compiler.py\u001b[0m in \u001b[0;36mcompile_ir\u001b[0;34m(self, func_ir, lifted, lifted_from)\u001b[0m\n\u001b[1;32m    446\u001b[0m \u001b[0;34m\u001b[0m\u001b[0m\n\u001b[1;32m    447\u001b[0m         \u001b[0mFixupArgs\u001b[0m\u001b[0;34m(\u001b[0m\u001b[0;34m)\u001b[0m\u001b[0;34m.\u001b[0m\u001b[0mrun_pass\u001b[0m\u001b[0;34m(\u001b[0m\u001b[0mself\u001b[0m\u001b[0;34m.\u001b[0m\u001b[0mstate\u001b[0m\u001b[0;34m)\u001b[0m\u001b[0;34m\u001b[0m\u001b[0;34m\u001b[0m\u001b[0m\n\u001b[0;32m--> 448\u001b[0;31m         \u001b[0;32mreturn\u001b[0m \u001b[0mself\u001b[0m\u001b[0;34m.\u001b[0m\u001b[0m_compile_ir\u001b[0m\u001b[0;34m(\u001b[0m\u001b[0;34m)\u001b[0m\u001b[0;34m\u001b[0m\u001b[0;34m\u001b[0m\u001b[0m\n\u001b[0m\u001b[1;32m    449\u001b[0m \u001b[0;34m\u001b[0m\u001b[0m\n\u001b[1;32m    450\u001b[0m     \u001b[0;32mdef\u001b[0m \u001b[0mdefine_pipelines\u001b[0m\u001b[0;34m(\u001b[0m\u001b[0mself\u001b[0m\u001b[0;34m)\u001b[0m\u001b[0;34m:\u001b[0m\u001b[0;34m\u001b[0m\u001b[0;34m\u001b[0m\u001b[0m\n",
            "\u001b[0;32m/usr/local/lib/python3.10/dist-packages/numba/core/compiler.py\u001b[0m in \u001b[0;36m_compile_ir\u001b[0;34m(self)\u001b[0m\n\u001b[1;32m    511\u001b[0m         \"\"\"\n\u001b[1;32m    512\u001b[0m         \u001b[0;32massert\u001b[0m \u001b[0mself\u001b[0m\u001b[0;34m.\u001b[0m\u001b[0mstate\u001b[0m\u001b[0;34m.\u001b[0m\u001b[0mfunc_ir\u001b[0m \u001b[0;32mis\u001b[0m \u001b[0;32mnot\u001b[0m \u001b[0;32mNone\u001b[0m\u001b[0;34m\u001b[0m\u001b[0;34m\u001b[0m\u001b[0m\n\u001b[0;32m--> 513\u001b[0;31m         \u001b[0;32mreturn\u001b[0m \u001b[0mself\u001b[0m\u001b[0;34m.\u001b[0m\u001b[0m_compile_core\u001b[0m\u001b[0;34m(\u001b[0m\u001b[0;34m)\u001b[0m\u001b[0;34m\u001b[0m\u001b[0;34m\u001b[0m\u001b[0m\n\u001b[0m\u001b[1;32m    514\u001b[0m \u001b[0;34m\u001b[0m\u001b[0m\n\u001b[1;32m    515\u001b[0m \u001b[0;34m\u001b[0m\u001b[0m\n",
            "\u001b[0;32m/usr/local/lib/python3.10/dist-packages/numba/core/compiler.py\u001b[0m in \u001b[0;36m_compile_core\u001b[0;34m(self)\u001b[0m\n\u001b[1;32m    470\u001b[0m                 \u001b[0mres\u001b[0m \u001b[0;34m=\u001b[0m \u001b[0;32mNone\u001b[0m\u001b[0;34m\u001b[0m\u001b[0;34m\u001b[0m\u001b[0m\n\u001b[1;32m    471\u001b[0m                 \u001b[0;32mtry\u001b[0m\u001b[0;34m:\u001b[0m\u001b[0;34m\u001b[0m\u001b[0;34m\u001b[0m\u001b[0m\n\u001b[0;32m--> 472\u001b[0;31m                     \u001b[0mpm\u001b[0m\u001b[0;34m.\u001b[0m\u001b[0mrun\u001b[0m\u001b[0;34m(\u001b[0m\u001b[0mself\u001b[0m\u001b[0;34m.\u001b[0m\u001b[0mstate\u001b[0m\u001b[0;34m)\u001b[0m\u001b[0;34m\u001b[0m\u001b[0;34m\u001b[0m\u001b[0m\n\u001b[0m\u001b[1;32m    473\u001b[0m                     \u001b[0;32mif\u001b[0m \u001b[0mself\u001b[0m\u001b[0;34m.\u001b[0m\u001b[0mstate\u001b[0m\u001b[0;34m.\u001b[0m\u001b[0mcr\u001b[0m \u001b[0;32mis\u001b[0m \u001b[0;32mnot\u001b[0m \u001b[0;32mNone\u001b[0m\u001b[0;34m:\u001b[0m\u001b[0;34m\u001b[0m\u001b[0;34m\u001b[0m\u001b[0m\n\u001b[1;32m    474\u001b[0m                         \u001b[0;32mbreak\u001b[0m\u001b[0;34m\u001b[0m\u001b[0;34m\u001b[0m\u001b[0m\n",
            "\u001b[0;32m/usr/local/lib/python3.10/dist-packages/numba/core/compiler_machinery.py\u001b[0m in \u001b[0;36mrun\u001b[0;34m(self, state)\u001b[0m\n\u001b[1;32m    354\u001b[0m                 \u001b[0mpass_inst\u001b[0m \u001b[0;34m=\u001b[0m \u001b[0m_pass_registry\u001b[0m\u001b[0;34m.\u001b[0m\u001b[0mget\u001b[0m\u001b[0;34m(\u001b[0m\u001b[0mpss\u001b[0m\u001b[0;34m)\u001b[0m\u001b[0;34m.\u001b[0m\u001b[0mpass_inst\u001b[0m\u001b[0;34m\u001b[0m\u001b[0;34m\u001b[0m\u001b[0m\n\u001b[1;32m    355\u001b[0m                 \u001b[0;32mif\u001b[0m \u001b[0misinstance\u001b[0m\u001b[0;34m(\u001b[0m\u001b[0mpass_inst\u001b[0m\u001b[0;34m,\u001b[0m \u001b[0mCompilerPass\u001b[0m\u001b[0;34m)\u001b[0m\u001b[0;34m:\u001b[0m\u001b[0;34m\u001b[0m\u001b[0;34m\u001b[0m\u001b[0m\n\u001b[0;32m--> 356\u001b[0;31m                     \u001b[0mself\u001b[0m\u001b[0;34m.\u001b[0m\u001b[0m_runPass\u001b[0m\u001b[0;34m(\u001b[0m\u001b[0midx\u001b[0m\u001b[0;34m,\u001b[0m \u001b[0mpass_inst\u001b[0m\u001b[0;34m,\u001b[0m \u001b[0mstate\u001b[0m\u001b[0;34m)\u001b[0m\u001b[0;34m\u001b[0m\u001b[0;34m\u001b[0m\u001b[0m\n\u001b[0m\u001b[1;32m    357\u001b[0m                 \u001b[0;32melse\u001b[0m\u001b[0;34m:\u001b[0m\u001b[0;34m\u001b[0m\u001b[0;34m\u001b[0m\u001b[0m\n\u001b[1;32m    358\u001b[0m                     \u001b[0;32mraise\u001b[0m \u001b[0mBaseException\u001b[0m\u001b[0;34m(\u001b[0m\u001b[0;34m\"Legacy pass in use\"\u001b[0m\u001b[0;34m)\u001b[0m\u001b[0;34m\u001b[0m\u001b[0;34m\u001b[0m\u001b[0m\n",
            "\u001b[0;32m/usr/local/lib/python3.10/dist-packages/numba/core/compiler_lock.py\u001b[0m in \u001b[0;36m_acquire_compile_lock\u001b[0;34m(*args, **kwargs)\u001b[0m\n\u001b[1;32m     33\u001b[0m         \u001b[0;32mdef\u001b[0m \u001b[0m_acquire_compile_lock\u001b[0m\u001b[0;34m(\u001b[0m\u001b[0;34m*\u001b[0m\u001b[0margs\u001b[0m\u001b[0;34m,\u001b[0m \u001b[0;34m**\u001b[0m\u001b[0mkwargs\u001b[0m\u001b[0;34m)\u001b[0m\u001b[0;34m:\u001b[0m\u001b[0;34m\u001b[0m\u001b[0;34m\u001b[0m\u001b[0m\n\u001b[1;32m     34\u001b[0m             \u001b[0;32mwith\u001b[0m \u001b[0mself\u001b[0m\u001b[0;34m:\u001b[0m\u001b[0;34m\u001b[0m\u001b[0;34m\u001b[0m\u001b[0m\n\u001b[0;32m---> 35\u001b[0;31m                 \u001b[0;32mreturn\u001b[0m \u001b[0mfunc\u001b[0m\u001b[0;34m(\u001b[0m\u001b[0;34m*\u001b[0m\u001b[0margs\u001b[0m\u001b[0;34m,\u001b[0m \u001b[0;34m**\u001b[0m\u001b[0mkwargs\u001b[0m\u001b[0;34m)\u001b[0m\u001b[0;34m\u001b[0m\u001b[0;34m\u001b[0m\u001b[0m\n\u001b[0m\u001b[1;32m     36\u001b[0m         \u001b[0;32mreturn\u001b[0m \u001b[0m_acquire_compile_lock\u001b[0m\u001b[0;34m\u001b[0m\u001b[0;34m\u001b[0m\u001b[0m\n\u001b[1;32m     37\u001b[0m \u001b[0;34m\u001b[0m\u001b[0m\n",
            "\u001b[0;32m/usr/local/lib/python3.10/dist-packages/numba/core/compiler_machinery.py\u001b[0m in \u001b[0;36m_runPass\u001b[0;34m(self, index, pss, internal_state)\u001b[0m\n\u001b[1;32m    309\u001b[0m                 \u001b[0mmutated\u001b[0m \u001b[0;34m|=\u001b[0m \u001b[0mcheck\u001b[0m\u001b[0;34m(\u001b[0m\u001b[0mpss\u001b[0m\u001b[0;34m.\u001b[0m\u001b[0mrun_initialization\u001b[0m\u001b[0;34m,\u001b[0m \u001b[0minternal_state\u001b[0m\u001b[0;34m)\u001b[0m\u001b[0;34m\u001b[0m\u001b[0;34m\u001b[0m\u001b[0m\n\u001b[1;32m    310\u001b[0m             \u001b[0;32mwith\u001b[0m \u001b[0mSimpleTimer\u001b[0m\u001b[0;34m(\u001b[0m\u001b[0;34m)\u001b[0m \u001b[0;32mas\u001b[0m \u001b[0mpass_time\u001b[0m\u001b[0;34m:\u001b[0m\u001b[0;34m\u001b[0m\u001b[0;34m\u001b[0m\u001b[0m\n\u001b[0;32m--> 311\u001b[0;31m                 \u001b[0mmutated\u001b[0m \u001b[0;34m|=\u001b[0m \u001b[0mcheck\u001b[0m\u001b[0;34m(\u001b[0m\u001b[0mpss\u001b[0m\u001b[0;34m.\u001b[0m\u001b[0mrun_pass\u001b[0m\u001b[0;34m,\u001b[0m \u001b[0minternal_state\u001b[0m\u001b[0;34m)\u001b[0m\u001b[0;34m\u001b[0m\u001b[0;34m\u001b[0m\u001b[0m\n\u001b[0m\u001b[1;32m    312\u001b[0m             \u001b[0;32mwith\u001b[0m \u001b[0mSimpleTimer\u001b[0m\u001b[0;34m(\u001b[0m\u001b[0;34m)\u001b[0m \u001b[0;32mas\u001b[0m \u001b[0mfinalize_time\u001b[0m\u001b[0;34m:\u001b[0m\u001b[0;34m\u001b[0m\u001b[0;34m\u001b[0m\u001b[0m\n\u001b[1;32m    313\u001b[0m                 \u001b[0mmutated\u001b[0m \u001b[0;34m|=\u001b[0m \u001b[0mcheck\u001b[0m\u001b[0;34m(\u001b[0m\u001b[0mpss\u001b[0m\u001b[0;34m.\u001b[0m\u001b[0mrun_finalizer\u001b[0m\u001b[0;34m,\u001b[0m \u001b[0minternal_state\u001b[0m\u001b[0;34m)\u001b[0m\u001b[0;34m\u001b[0m\u001b[0;34m\u001b[0m\u001b[0m\n",
            "\u001b[0;32m/usr/local/lib/python3.10/dist-packages/numba/core/compiler_machinery.py\u001b[0m in \u001b[0;36mcheck\u001b[0;34m(func, compiler_state)\u001b[0m\n\u001b[1;32m    271\u001b[0m \u001b[0;34m\u001b[0m\u001b[0m\n\u001b[1;32m    272\u001b[0m         \u001b[0;32mdef\u001b[0m \u001b[0mcheck\u001b[0m\u001b[0;34m(\u001b[0m\u001b[0mfunc\u001b[0m\u001b[0;34m,\u001b[0m \u001b[0mcompiler_state\u001b[0m\u001b[0;34m)\u001b[0m\u001b[0;34m:\u001b[0m\u001b[0;34m\u001b[0m\u001b[0;34m\u001b[0m\u001b[0m\n\u001b[0;32m--> 273\u001b[0;31m             \u001b[0mmangled\u001b[0m \u001b[0;34m=\u001b[0m \u001b[0mfunc\u001b[0m\u001b[0;34m(\u001b[0m\u001b[0mcompiler_state\u001b[0m\u001b[0;34m)\u001b[0m\u001b[0;34m\u001b[0m\u001b[0;34m\u001b[0m\u001b[0m\n\u001b[0m\u001b[1;32m    274\u001b[0m             \u001b[0;32mif\u001b[0m \u001b[0mmangled\u001b[0m \u001b[0;32mnot\u001b[0m \u001b[0;32min\u001b[0m \u001b[0;34m(\u001b[0m\u001b[0;32mTrue\u001b[0m\u001b[0;34m,\u001b[0m \u001b[0;32mFalse\u001b[0m\u001b[0;34m)\u001b[0m\u001b[0;34m:\u001b[0m\u001b[0;34m\u001b[0m\u001b[0;34m\u001b[0m\u001b[0m\n\u001b[1;32m    275\u001b[0m                 msg = (\"CompilerPass implementations should return True/False. \"\n",
            "\u001b[0;32m/usr/local/lib/python3.10/dist-packages/numba/core/typed_passes.py\u001b[0m in \u001b[0;36mrun_pass\u001b[0;34m(self, state)\u001b[0m\n\u001b[1;32m    466\u001b[0m                 lower = self.lowering_class(targetctx, library, fndesc, interp,\n\u001b[1;32m    467\u001b[0m                                             metadata=metadata)\n\u001b[0;32m--> 468\u001b[0;31m                 \u001b[0mlower\u001b[0m\u001b[0;34m.\u001b[0m\u001b[0mlower\u001b[0m\u001b[0;34m(\u001b[0m\u001b[0;34m)\u001b[0m\u001b[0;34m\u001b[0m\u001b[0;34m\u001b[0m\u001b[0m\n\u001b[0m\u001b[1;32m    469\u001b[0m                 \u001b[0;32mif\u001b[0m \u001b[0;32mnot\u001b[0m \u001b[0mflags\u001b[0m\u001b[0;34m.\u001b[0m\u001b[0mno_cpython_wrapper\u001b[0m\u001b[0;34m:\u001b[0m\u001b[0;34m\u001b[0m\u001b[0;34m\u001b[0m\u001b[0m\n\u001b[1;32m    470\u001b[0m                     \u001b[0mlower\u001b[0m\u001b[0;34m.\u001b[0m\u001b[0mcreate_cpython_wrapper\u001b[0m\u001b[0;34m(\u001b[0m\u001b[0mflags\u001b[0m\u001b[0;34m.\u001b[0m\u001b[0mrelease_gil\u001b[0m\u001b[0;34m)\u001b[0m\u001b[0;34m\u001b[0m\u001b[0;34m\u001b[0m\u001b[0m\n",
            "\u001b[0;32m/usr/local/lib/python3.10/dist-packages/numba/core/lowering.py\u001b[0m in \u001b[0;36mlower\u001b[0;34m(self)\u001b[0m\n\u001b[1;32m    208\u001b[0m \u001b[0;34m\u001b[0m\u001b[0m\n\u001b[1;32m    209\u001b[0m         \u001b[0;31m# Materialize LLVM Module\u001b[0m\u001b[0;34m\u001b[0m\u001b[0;34m\u001b[0m\u001b[0m\n\u001b[0;32m--> 210\u001b[0;31m         \u001b[0mself\u001b[0m\u001b[0;34m.\u001b[0m\u001b[0mlibrary\u001b[0m\u001b[0;34m.\u001b[0m\u001b[0madd_ir_module\u001b[0m\u001b[0;34m(\u001b[0m\u001b[0mself\u001b[0m\u001b[0;34m.\u001b[0m\u001b[0mmodule\u001b[0m\u001b[0;34m)\u001b[0m\u001b[0;34m\u001b[0m\u001b[0;34m\u001b[0m\u001b[0m\n\u001b[0m\u001b[1;32m    211\u001b[0m \u001b[0;34m\u001b[0m\u001b[0m\n\u001b[1;32m    212\u001b[0m     \u001b[0;32mdef\u001b[0m \u001b[0mextract_function_arguments\u001b[0m\u001b[0;34m(\u001b[0m\u001b[0mself\u001b[0m\u001b[0;34m)\u001b[0m\u001b[0;34m:\u001b[0m\u001b[0;34m\u001b[0m\u001b[0;34m\u001b[0m\u001b[0m\n",
            "\u001b[0;32m/usr/local/lib/python3.10/dist-packages/numba/core/codegen.py\u001b[0m in \u001b[0;36madd_ir_module\u001b[0;34m(self, ir_module)\u001b[0m\n\u001b[1;32m    724\u001b[0m         \u001b[0mself\u001b[0m\u001b[0;34m.\u001b[0m\u001b[0m_raise_if_finalized\u001b[0m\u001b[0;34m(\u001b[0m\u001b[0;34m)\u001b[0m\u001b[0;34m\u001b[0m\u001b[0;34m\u001b[0m\u001b[0m\n\u001b[1;32m    725\u001b[0m         \u001b[0;32massert\u001b[0m \u001b[0misinstance\u001b[0m\u001b[0;34m(\u001b[0m\u001b[0mir_module\u001b[0m\u001b[0;34m,\u001b[0m \u001b[0mllvmir\u001b[0m\u001b[0;34m.\u001b[0m\u001b[0mModule\u001b[0m\u001b[0;34m)\u001b[0m\u001b[0;34m\u001b[0m\u001b[0;34m\u001b[0m\u001b[0m\n\u001b[0;32m--> 726\u001b[0;31m         \u001b[0mir\u001b[0m \u001b[0;34m=\u001b[0m \u001b[0mcgutils\u001b[0m\u001b[0;34m.\u001b[0m\u001b[0mnormalize_ir_text\u001b[0m\u001b[0;34m(\u001b[0m\u001b[0mstr\u001b[0m\u001b[0;34m(\u001b[0m\u001b[0mir_module\u001b[0m\u001b[0;34m)\u001b[0m\u001b[0;34m)\u001b[0m\u001b[0;34m\u001b[0m\u001b[0;34m\u001b[0m\u001b[0m\n\u001b[0m\u001b[1;32m    727\u001b[0m         \u001b[0mll_module\u001b[0m \u001b[0;34m=\u001b[0m \u001b[0mll\u001b[0m\u001b[0;34m.\u001b[0m\u001b[0mparse_assembly\u001b[0m\u001b[0;34m(\u001b[0m\u001b[0mir\u001b[0m\u001b[0;34m)\u001b[0m\u001b[0;34m\u001b[0m\u001b[0;34m\u001b[0m\u001b[0m\n\u001b[1;32m    728\u001b[0m         \u001b[0mll_module\u001b[0m\u001b[0;34m.\u001b[0m\u001b[0mname\u001b[0m \u001b[0;34m=\u001b[0m \u001b[0mir_module\u001b[0m\u001b[0;34m.\u001b[0m\u001b[0mname\u001b[0m\u001b[0;34m\u001b[0m\u001b[0;34m\u001b[0m\u001b[0m\n",
            "\u001b[0;32m/usr/local/lib/python3.10/dist-packages/llvmlite/ir/module.py\u001b[0m in \u001b[0;36m__repr__\u001b[0;34m(self)\u001b[0m\n\u001b[1;32m    240\u001b[0m             '']\n\u001b[1;32m    241\u001b[0m         \u001b[0;31m# Body\u001b[0m\u001b[0;34m\u001b[0m\u001b[0;34m\u001b[0m\u001b[0m\n\u001b[0;32m--> 242\u001b[0;31m         \u001b[0mlines\u001b[0m \u001b[0;34m+=\u001b[0m \u001b[0mself\u001b[0m\u001b[0;34m.\u001b[0m\u001b[0m_get_body_lines\u001b[0m\u001b[0;34m(\u001b[0m\u001b[0;34m)\u001b[0m\u001b[0;34m\u001b[0m\u001b[0;34m\u001b[0m\u001b[0m\n\u001b[0m\u001b[1;32m    243\u001b[0m         \u001b[0;31m# Metadata\u001b[0m\u001b[0;34m\u001b[0m\u001b[0;34m\u001b[0m\u001b[0m\n\u001b[1;32m    244\u001b[0m         \u001b[0mlines\u001b[0m \u001b[0;34m+=\u001b[0m \u001b[0mself\u001b[0m\u001b[0;34m.\u001b[0m\u001b[0m_get_metadata_lines\u001b[0m\u001b[0;34m(\u001b[0m\u001b[0;34m)\u001b[0m\u001b[0;34m\u001b[0m\u001b[0;34m\u001b[0m\u001b[0m\n",
            "\u001b[0;32m/usr/local/lib/python3.10/dist-packages/llvmlite/ir/module.py\u001b[0m in \u001b[0;36m_get_body_lines\u001b[0;34m(self)\u001b[0m\n\u001b[1;32m    210\u001b[0m                  for it in self.get_identified_types().values()]\n\u001b[1;32m    211\u001b[0m         \u001b[0;31m# Global values (including function definitions)\u001b[0m\u001b[0;34m\u001b[0m\u001b[0;34m\u001b[0m\u001b[0m\n\u001b[0;32m--> 212\u001b[0;31m         \u001b[0mlines\u001b[0m \u001b[0;34m+=\u001b[0m \u001b[0;34m[\u001b[0m\u001b[0mstr\u001b[0m\u001b[0;34m(\u001b[0m\u001b[0mv\u001b[0m\u001b[0;34m)\u001b[0m \u001b[0;32mfor\u001b[0m \u001b[0mv\u001b[0m \u001b[0;32min\u001b[0m \u001b[0mself\u001b[0m\u001b[0;34m.\u001b[0m\u001b[0mglobals\u001b[0m\u001b[0;34m.\u001b[0m\u001b[0mvalues\u001b[0m\u001b[0;34m(\u001b[0m\u001b[0;34m)\u001b[0m\u001b[0;34m]\u001b[0m\u001b[0;34m\u001b[0m\u001b[0;34m\u001b[0m\u001b[0m\n\u001b[0m\u001b[1;32m    213\u001b[0m         \u001b[0;32mreturn\u001b[0m \u001b[0mlines\u001b[0m\u001b[0;34m\u001b[0m\u001b[0;34m\u001b[0m\u001b[0m\n\u001b[1;32m    214\u001b[0m \u001b[0;34m\u001b[0m\u001b[0m\n",
            "\u001b[0;32m/usr/local/lib/python3.10/dist-packages/llvmlite/ir/module.py\u001b[0m in \u001b[0;36m<listcomp>\u001b[0;34m(.0)\u001b[0m\n\u001b[1;32m    210\u001b[0m                  for it in self.get_identified_types().values()]\n\u001b[1;32m    211\u001b[0m         \u001b[0;31m# Global values (including function definitions)\u001b[0m\u001b[0;34m\u001b[0m\u001b[0;34m\u001b[0m\u001b[0m\n\u001b[0;32m--> 212\u001b[0;31m         \u001b[0mlines\u001b[0m \u001b[0;34m+=\u001b[0m \u001b[0;34m[\u001b[0m\u001b[0mstr\u001b[0m\u001b[0;34m(\u001b[0m\u001b[0mv\u001b[0m\u001b[0;34m)\u001b[0m \u001b[0;32mfor\u001b[0m \u001b[0mv\u001b[0m \u001b[0;32min\u001b[0m \u001b[0mself\u001b[0m\u001b[0;34m.\u001b[0m\u001b[0mglobals\u001b[0m\u001b[0;34m.\u001b[0m\u001b[0mvalues\u001b[0m\u001b[0;34m(\u001b[0m\u001b[0;34m)\u001b[0m\u001b[0;34m]\u001b[0m\u001b[0;34m\u001b[0m\u001b[0;34m\u001b[0m\u001b[0m\n\u001b[0m\u001b[1;32m    213\u001b[0m         \u001b[0;32mreturn\u001b[0m \u001b[0mlines\u001b[0m\u001b[0;34m\u001b[0m\u001b[0;34m\u001b[0m\u001b[0m\n\u001b[1;32m    214\u001b[0m \u001b[0;34m\u001b[0m\u001b[0m\n",
            "\u001b[0;32m/usr/local/lib/python3.10/dist-packages/llvmlite/ir/values.py\u001b[0m in \u001b[0;36m__str__\u001b[0;34m(self)\u001b[0m\n\u001b[1;32m   1013\u001b[0m     \u001b[0;32mdef\u001b[0m \u001b[0m__str__\u001b[0m\u001b[0;34m(\u001b[0m\u001b[0mself\u001b[0m\u001b[0;34m)\u001b[0m\u001b[0;34m:\u001b[0m\u001b[0;34m\u001b[0m\u001b[0;34m\u001b[0m\u001b[0m\n\u001b[1;32m   1014\u001b[0m         \u001b[0mbuf\u001b[0m \u001b[0;34m=\u001b[0m \u001b[0;34m[\u001b[0m\u001b[0;34m]\u001b[0m\u001b[0;34m\u001b[0m\u001b[0;34m\u001b[0m\u001b[0m\n\u001b[0;32m-> 1015\u001b[0;31m         \u001b[0mself\u001b[0m\u001b[0;34m.\u001b[0m\u001b[0mdescr\u001b[0m\u001b[0;34m(\u001b[0m\u001b[0mbuf\u001b[0m\u001b[0;34m)\u001b[0m\u001b[0;34m\u001b[0m\u001b[0;34m\u001b[0m\u001b[0m\n\u001b[0m\u001b[1;32m   1016\u001b[0m         \u001b[0;32mreturn\u001b[0m \u001b[0;34m\"\"\u001b[0m\u001b[0;34m.\u001b[0m\u001b[0mjoin\u001b[0m\u001b[0;34m(\u001b[0m\u001b[0mbuf\u001b[0m\u001b[0;34m)\u001b[0m\u001b[0;34m\u001b[0m\u001b[0;34m\u001b[0m\u001b[0m\n\u001b[1;32m   1017\u001b[0m \u001b[0;34m\u001b[0m\u001b[0m\n",
            "\u001b[0;32m/usr/local/lib/python3.10/dist-packages/llvmlite/ir/values.py\u001b[0m in \u001b[0;36mdescr\u001b[0;34m(self, buf)\u001b[0m\n\u001b[1;32m   1008\u001b[0m         \u001b[0;32mif\u001b[0m \u001b[0mself\u001b[0m\u001b[0;34m.\u001b[0m\u001b[0mblocks\u001b[0m\u001b[0;34m:\u001b[0m\u001b[0;34m\u001b[0m\u001b[0;34m\u001b[0m\u001b[0m\n\u001b[1;32m   1009\u001b[0m             \u001b[0mbuf\u001b[0m\u001b[0;34m.\u001b[0m\u001b[0mappend\u001b[0m\u001b[0;34m(\u001b[0m\u001b[0;34m\"{\\n\"\u001b[0m\u001b[0;34m)\u001b[0m\u001b[0;34m\u001b[0m\u001b[0;34m\u001b[0m\u001b[0m\n\u001b[0;32m-> 1010\u001b[0;31m             \u001b[0mself\u001b[0m\u001b[0;34m.\u001b[0m\u001b[0mdescr_body\u001b[0m\u001b[0;34m(\u001b[0m\u001b[0mbuf\u001b[0m\u001b[0;34m)\u001b[0m\u001b[0;34m\u001b[0m\u001b[0;34m\u001b[0m\u001b[0m\n\u001b[0m\u001b[1;32m   1011\u001b[0m             \u001b[0mbuf\u001b[0m\u001b[0;34m.\u001b[0m\u001b[0mappend\u001b[0m\u001b[0;34m(\u001b[0m\u001b[0;34m\"}\\n\"\u001b[0m\u001b[0;34m)\u001b[0m\u001b[0;34m\u001b[0m\u001b[0;34m\u001b[0m\u001b[0m\n\u001b[1;32m   1012\u001b[0m \u001b[0;34m\u001b[0m\u001b[0m\n",
            "\u001b[0;32m/usr/local/lib/python3.10/dist-packages/llvmlite/ir/values.py\u001b[0m in \u001b[0;36mdescr_body\u001b[0;34m(self, buf)\u001b[0m\n\u001b[1;32m   1002\u001b[0m         \"\"\"\n\u001b[1;32m   1003\u001b[0m         \u001b[0;32mfor\u001b[0m \u001b[0mblk\u001b[0m \u001b[0;32min\u001b[0m \u001b[0mself\u001b[0m\u001b[0;34m.\u001b[0m\u001b[0mblocks\u001b[0m\u001b[0;34m:\u001b[0m\u001b[0;34m\u001b[0m\u001b[0;34m\u001b[0m\u001b[0m\n\u001b[0;32m-> 1004\u001b[0;31m             \u001b[0mblk\u001b[0m\u001b[0;34m.\u001b[0m\u001b[0mdescr\u001b[0m\u001b[0;34m(\u001b[0m\u001b[0mbuf\u001b[0m\u001b[0;34m)\u001b[0m\u001b[0;34m\u001b[0m\u001b[0;34m\u001b[0m\u001b[0m\n\u001b[0m\u001b[1;32m   1005\u001b[0m \u001b[0;34m\u001b[0m\u001b[0m\n\u001b[1;32m   1006\u001b[0m     \u001b[0;32mdef\u001b[0m \u001b[0mdescr\u001b[0m\u001b[0;34m(\u001b[0m\u001b[0mself\u001b[0m\u001b[0;34m,\u001b[0m \u001b[0mbuf\u001b[0m\u001b[0;34m)\u001b[0m\u001b[0;34m:\u001b[0m\u001b[0;34m\u001b[0m\u001b[0;34m\u001b[0m\u001b[0m\n",
            "\u001b[0;32m/usr/local/lib/python3.10/dist-packages/llvmlite/ir/values.py\u001b[0m in \u001b[0;36mdescr\u001b[0;34m(self, buf)\u001b[0m\n\u001b[1;32m   1172\u001b[0m     \u001b[0;32mdef\u001b[0m \u001b[0mdescr\u001b[0m\u001b[0;34m(\u001b[0m\u001b[0mself\u001b[0m\u001b[0;34m,\u001b[0m \u001b[0mbuf\u001b[0m\u001b[0;34m)\u001b[0m\u001b[0;34m:\u001b[0m\u001b[0;34m\u001b[0m\u001b[0;34m\u001b[0m\u001b[0m\n\u001b[1;32m   1173\u001b[0m         \u001b[0mbuf\u001b[0m\u001b[0;34m.\u001b[0m\u001b[0mappend\u001b[0m\u001b[0;34m(\u001b[0m\u001b[0;34m\"{0}:\\n\"\u001b[0m\u001b[0;34m.\u001b[0m\u001b[0mformat\u001b[0m\u001b[0;34m(\u001b[0m\u001b[0mself\u001b[0m\u001b[0;34m.\u001b[0m\u001b[0m_format_name\u001b[0m\u001b[0;34m(\u001b[0m\u001b[0;34m)\u001b[0m\u001b[0;34m)\u001b[0m\u001b[0;34m)\u001b[0m\u001b[0;34m\u001b[0m\u001b[0;34m\u001b[0m\u001b[0m\n\u001b[0;32m-> 1174\u001b[0;31m         \u001b[0mbuf\u001b[0m \u001b[0;34m+=\u001b[0m \u001b[0;34m[\u001b[0m\u001b[0;34m\"  {0}\\n\"\u001b[0m\u001b[0;34m.\u001b[0m\u001b[0mformat\u001b[0m\u001b[0;34m(\u001b[0m\u001b[0minstr\u001b[0m\u001b[0;34m)\u001b[0m \u001b[0;32mfor\u001b[0m \u001b[0minstr\u001b[0m \u001b[0;32min\u001b[0m \u001b[0mself\u001b[0m\u001b[0;34m.\u001b[0m\u001b[0minstructions\u001b[0m\u001b[0;34m]\u001b[0m\u001b[0;34m\u001b[0m\u001b[0;34m\u001b[0m\u001b[0m\n\u001b[0m\u001b[1;32m   1175\u001b[0m \u001b[0;34m\u001b[0m\u001b[0m\n\u001b[1;32m   1176\u001b[0m     \u001b[0;32mdef\u001b[0m \u001b[0mreplace\u001b[0m\u001b[0;34m(\u001b[0m\u001b[0mself\u001b[0m\u001b[0;34m,\u001b[0m \u001b[0mold\u001b[0m\u001b[0;34m,\u001b[0m \u001b[0mnew\u001b[0m\u001b[0;34m)\u001b[0m\u001b[0;34m:\u001b[0m\u001b[0;34m\u001b[0m\u001b[0;34m\u001b[0m\u001b[0m\n",
            "\u001b[0;32m/usr/local/lib/python3.10/dist-packages/llvmlite/ir/values.py\u001b[0m in \u001b[0;36m<listcomp>\u001b[0;34m(.0)\u001b[0m\n\u001b[1;32m   1172\u001b[0m     \u001b[0;32mdef\u001b[0m \u001b[0mdescr\u001b[0m\u001b[0;34m(\u001b[0m\u001b[0mself\u001b[0m\u001b[0;34m,\u001b[0m \u001b[0mbuf\u001b[0m\u001b[0;34m)\u001b[0m\u001b[0;34m:\u001b[0m\u001b[0;34m\u001b[0m\u001b[0;34m\u001b[0m\u001b[0m\n\u001b[1;32m   1173\u001b[0m         \u001b[0mbuf\u001b[0m\u001b[0;34m.\u001b[0m\u001b[0mappend\u001b[0m\u001b[0;34m(\u001b[0m\u001b[0;34m\"{0}:\\n\"\u001b[0m\u001b[0;34m.\u001b[0m\u001b[0mformat\u001b[0m\u001b[0;34m(\u001b[0m\u001b[0mself\u001b[0m\u001b[0;34m.\u001b[0m\u001b[0m_format_name\u001b[0m\u001b[0;34m(\u001b[0m\u001b[0;34m)\u001b[0m\u001b[0;34m)\u001b[0m\u001b[0;34m)\u001b[0m\u001b[0;34m\u001b[0m\u001b[0;34m\u001b[0m\u001b[0m\n\u001b[0;32m-> 1174\u001b[0;31m         \u001b[0mbuf\u001b[0m \u001b[0;34m+=\u001b[0m \u001b[0;34m[\u001b[0m\u001b[0;34m\"  {0}\\n\"\u001b[0m\u001b[0;34m.\u001b[0m\u001b[0mformat\u001b[0m\u001b[0;34m(\u001b[0m\u001b[0minstr\u001b[0m\u001b[0;34m)\u001b[0m \u001b[0;32mfor\u001b[0m \u001b[0minstr\u001b[0m \u001b[0;32min\u001b[0m \u001b[0mself\u001b[0m\u001b[0;34m.\u001b[0m\u001b[0minstructions\u001b[0m\u001b[0;34m]\u001b[0m\u001b[0;34m\u001b[0m\u001b[0;34m\u001b[0m\u001b[0m\n\u001b[0m\u001b[1;32m   1175\u001b[0m \u001b[0;34m\u001b[0m\u001b[0m\n\u001b[1;32m   1176\u001b[0m     \u001b[0;32mdef\u001b[0m \u001b[0mreplace\u001b[0m\u001b[0;34m(\u001b[0m\u001b[0mself\u001b[0m\u001b[0;34m,\u001b[0m \u001b[0mold\u001b[0m\u001b[0;34m,\u001b[0m \u001b[0mnew\u001b[0m\u001b[0;34m)\u001b[0m\u001b[0;34m:\u001b[0m\u001b[0;34m\u001b[0m\u001b[0;34m\u001b[0m\u001b[0m\n",
            "\u001b[0;32m/usr/local/lib/python3.10/dist-packages/llvmlite/ir/_utils.py\u001b[0m in \u001b[0;36m__str__\u001b[0;34m(self)\u001b[0m\n\u001b[1;32m     46\u001b[0m             \u001b[0;32mreturn\u001b[0m \u001b[0mself\u001b[0m\u001b[0;34m.\u001b[0m\u001b[0m__cached_str\u001b[0m\u001b[0;34m\u001b[0m\u001b[0;34m\u001b[0m\u001b[0m\n\u001b[1;32m     47\u001b[0m         \u001b[0;32mexcept\u001b[0m \u001b[0mAttributeError\u001b[0m\u001b[0;34m:\u001b[0m\u001b[0;34m\u001b[0m\u001b[0;34m\u001b[0m\u001b[0m\n\u001b[0;32m---> 48\u001b[0;31m             \u001b[0ms\u001b[0m \u001b[0;34m=\u001b[0m \u001b[0mself\u001b[0m\u001b[0;34m.\u001b[0m\u001b[0m__cached_str\u001b[0m \u001b[0;34m=\u001b[0m \u001b[0mself\u001b[0m\u001b[0;34m.\u001b[0m\u001b[0m_to_string\u001b[0m\u001b[0;34m(\u001b[0m\u001b[0;34m)\u001b[0m\u001b[0;34m\u001b[0m\u001b[0;34m\u001b[0m\u001b[0m\n\u001b[0m\u001b[1;32m     49\u001b[0m             \u001b[0;32mreturn\u001b[0m \u001b[0ms\u001b[0m\u001b[0;34m\u001b[0m\u001b[0;34m\u001b[0m\u001b[0m\n\u001b[1;32m     50\u001b[0m \u001b[0;34m\u001b[0m\u001b[0m\n",
            "\u001b[0;32m/usr/local/lib/python3.10/dist-packages/llvmlite/ir/values.py\u001b[0m in \u001b[0;36m_to_string\u001b[0;34m(self)\u001b[0m\n\u001b[1;32m    546\u001b[0m         \u001b[0;32mif\u001b[0m \u001b[0;32mnot\u001b[0m \u001b[0misinstance\u001b[0m\u001b[0;34m(\u001b[0m\u001b[0mself\u001b[0m\u001b[0;34m.\u001b[0m\u001b[0mtype\u001b[0m\u001b[0;34m,\u001b[0m \u001b[0mtypes\u001b[0m\u001b[0;34m.\u001b[0m\u001b[0mVoidType\u001b[0m\u001b[0;34m)\u001b[0m\u001b[0;34m:\u001b[0m\u001b[0;34m\u001b[0m\u001b[0;34m\u001b[0m\u001b[0m\n\u001b[1;32m    547\u001b[0m             \u001b[0mbuf\u001b[0m\u001b[0;34m.\u001b[0m\u001b[0mappend\u001b[0m\u001b[0;34m(\u001b[0m\u001b[0;34m\"{0} = \"\u001b[0m\u001b[0;34m.\u001b[0m\u001b[0mformat\u001b[0m\u001b[0;34m(\u001b[0m\u001b[0mself\u001b[0m\u001b[0;34m.\u001b[0m\u001b[0mget_reference\u001b[0m\u001b[0;34m(\u001b[0m\u001b[0;34m)\u001b[0m\u001b[0;34m)\u001b[0m\u001b[0;34m)\u001b[0m\u001b[0;34m\u001b[0m\u001b[0;34m\u001b[0m\u001b[0m\n\u001b[0;32m--> 548\u001b[0;31m         \u001b[0mself\u001b[0m\u001b[0;34m.\u001b[0m\u001b[0mdescr\u001b[0m\u001b[0;34m(\u001b[0m\u001b[0mbuf\u001b[0m\u001b[0;34m)\u001b[0m\u001b[0;34m\u001b[0m\u001b[0;34m\u001b[0m\u001b[0m\n\u001b[0m\u001b[1;32m    549\u001b[0m         \u001b[0;32mreturn\u001b[0m \u001b[0;34m\"\"\u001b[0m\u001b[0;34m.\u001b[0m\u001b[0mjoin\u001b[0m\u001b[0;34m(\u001b[0m\u001b[0mbuf\u001b[0m\u001b[0;34m)\u001b[0m\u001b[0;34m.\u001b[0m\u001b[0mrstrip\u001b[0m\u001b[0;34m(\u001b[0m\u001b[0;34m)\u001b[0m\u001b[0;34m\u001b[0m\u001b[0;34m\u001b[0m\u001b[0m\n\u001b[1;32m    550\u001b[0m \u001b[0;34m\u001b[0m\u001b[0m\n",
            "\u001b[0;32m/usr/local/lib/python3.10/dist-packages/llvmlite/ir/instructions.py\u001b[0m in \u001b[0;36mdescr\u001b[0;34m(self, buf)\u001b[0m\n\u001b[1;32m    205\u001b[0m     \u001b[0;32mdef\u001b[0m \u001b[0mdescr\u001b[0m\u001b[0;34m(\u001b[0m\u001b[0mself\u001b[0m\u001b[0;34m,\u001b[0m \u001b[0mbuf\u001b[0m\u001b[0;34m)\u001b[0m\u001b[0;34m:\u001b[0m\u001b[0;34m\u001b[0m\u001b[0;34m\u001b[0m\u001b[0m\n\u001b[1;32m    206\u001b[0m         \u001b[0mopname\u001b[0m \u001b[0;34m=\u001b[0m \u001b[0mself\u001b[0m\u001b[0;34m.\u001b[0m\u001b[0mopname\u001b[0m\u001b[0;34m\u001b[0m\u001b[0;34m\u001b[0m\u001b[0m\n\u001b[0;32m--> 207\u001b[0;31m         operands = ', '.join([\"{0} {1}\".format(op.type, op.get_reference())\n\u001b[0m\u001b[1;32m    208\u001b[0m                               for op in self.operands])\n\u001b[1;32m    209\u001b[0m         \u001b[0mmetadata\u001b[0m \u001b[0;34m=\u001b[0m \u001b[0mself\u001b[0m\u001b[0;34m.\u001b[0m\u001b[0m_stringify_metadata\u001b[0m\u001b[0;34m(\u001b[0m\u001b[0mleading_comma\u001b[0m\u001b[0;34m=\u001b[0m\u001b[0;32mTrue\u001b[0m\u001b[0;34m)\u001b[0m\u001b[0;34m\u001b[0m\u001b[0;34m\u001b[0m\u001b[0m\n",
            "\u001b[0;32m/usr/local/lib/python3.10/dist-packages/llvmlite/ir/instructions.py\u001b[0m in \u001b[0;36m<listcomp>\u001b[0;34m(.0)\u001b[0m\n\u001b[1;32m    205\u001b[0m     \u001b[0;32mdef\u001b[0m \u001b[0mdescr\u001b[0m\u001b[0;34m(\u001b[0m\u001b[0mself\u001b[0m\u001b[0;34m,\u001b[0m \u001b[0mbuf\u001b[0m\u001b[0;34m)\u001b[0m\u001b[0;34m:\u001b[0m\u001b[0;34m\u001b[0m\u001b[0;34m\u001b[0m\u001b[0m\n\u001b[1;32m    206\u001b[0m         \u001b[0mopname\u001b[0m \u001b[0;34m=\u001b[0m \u001b[0mself\u001b[0m\u001b[0;34m.\u001b[0m\u001b[0mopname\u001b[0m\u001b[0;34m\u001b[0m\u001b[0;34m\u001b[0m\u001b[0m\n\u001b[0;32m--> 207\u001b[0;31m         operands = ', '.join([\"{0} {1}\".format(op.type, op.get_reference())\n\u001b[0m\u001b[1;32m    208\u001b[0m                               for op in self.operands])\n\u001b[1;32m    209\u001b[0m         \u001b[0mmetadata\u001b[0m \u001b[0;34m=\u001b[0m \u001b[0mself\u001b[0m\u001b[0;34m.\u001b[0m\u001b[0m_stringify_metadata\u001b[0m\u001b[0;34m(\u001b[0m\u001b[0mleading_comma\u001b[0m\u001b[0;34m=\u001b[0m\u001b[0;32mTrue\u001b[0m\u001b[0;34m)\u001b[0m\u001b[0;34m\u001b[0m\u001b[0;34m\u001b[0m\u001b[0m\n",
            "\u001b[0;31mKeyboardInterrupt\u001b[0m: "
          ]
        }
      ]
    },
    {
      "cell_type": "code",
      "source": [
        "pip install transformers datasets torchaudio"
      ],
      "metadata": {
        "colab": {
          "base_uri": "https://localhost:8080/"
        },
        "id": "dMW3bUfxnBFZ",
        "outputId": "13854285-4720-438b-9094-1419e9954eb9",
        "collapsed": true
      },
      "execution_count": null,
      "outputs": [
        {
          "output_type": "stream",
          "name": "stdout",
          "text": [
            "Requirement already satisfied: transformers in /usr/local/lib/python3.10/dist-packages (4.44.2)\n",
            "Collecting datasets\n",
            "  Downloading datasets-3.1.0-py3-none-any.whl.metadata (20 kB)\n",
            "Requirement already satisfied: torchaudio in /usr/local/lib/python3.10/dist-packages (2.5.0+cu121)\n",
            "Requirement already satisfied: filelock in /usr/local/lib/python3.10/dist-packages (from transformers) (3.16.1)\n",
            "Requirement already satisfied: huggingface-hub<1.0,>=0.23.2 in /usr/local/lib/python3.10/dist-packages (from transformers) (0.24.7)\n",
            "Requirement already satisfied: numpy>=1.17 in /usr/local/lib/python3.10/dist-packages (from transformers) (1.26.4)\n",
            "Requirement already satisfied: packaging>=20.0 in /usr/local/lib/python3.10/dist-packages (from transformers) (24.1)\n",
            "Requirement already satisfied: pyyaml>=5.1 in /usr/local/lib/python3.10/dist-packages (from transformers) (6.0.2)\n",
            "Requirement already satisfied: regex!=2019.12.17 in /usr/local/lib/python3.10/dist-packages (from transformers) (2024.9.11)\n",
            "Requirement already satisfied: requests in /usr/local/lib/python3.10/dist-packages (from transformers) (2.32.3)\n",
            "Requirement already satisfied: safetensors>=0.4.1 in /usr/local/lib/python3.10/dist-packages (from transformers) (0.4.5)\n",
            "Requirement already satisfied: tokenizers<0.20,>=0.19 in /usr/local/lib/python3.10/dist-packages (from transformers) (0.19.1)\n",
            "Requirement already satisfied: tqdm>=4.27 in /usr/local/lib/python3.10/dist-packages (from transformers) (4.66.6)\n",
            "Requirement already satisfied: pyarrow>=15.0.0 in /usr/local/lib/python3.10/dist-packages (from datasets) (17.0.0)\n",
            "Collecting dill<0.3.9,>=0.3.0 (from datasets)\n",
            "  Downloading dill-0.3.8-py3-none-any.whl.metadata (10 kB)\n",
            "Requirement already satisfied: pandas in /usr/local/lib/python3.10/dist-packages (from datasets) (2.2.2)\n",
            "Collecting xxhash (from datasets)\n",
            "  Downloading xxhash-3.5.0-cp310-cp310-manylinux_2_17_x86_64.manylinux2014_x86_64.whl.metadata (12 kB)\n",
            "Collecting multiprocess<0.70.17 (from datasets)\n",
            "  Downloading multiprocess-0.70.16-py310-none-any.whl.metadata (7.2 kB)\n",
            "Collecting fsspec<=2024.9.0,>=2023.1.0 (from fsspec[http]<=2024.9.0,>=2023.1.0->datasets)\n",
            "  Downloading fsspec-2024.9.0-py3-none-any.whl.metadata (11 kB)\n",
            "Requirement already satisfied: aiohttp in /usr/local/lib/python3.10/dist-packages (from datasets) (3.10.10)\n",
            "Requirement already satisfied: torch==2.5.0 in /usr/local/lib/python3.10/dist-packages (from torchaudio) (2.5.0+cu121)\n",
            "Requirement already satisfied: typing-extensions>=4.8.0 in /usr/local/lib/python3.10/dist-packages (from torch==2.5.0->torchaudio) (4.12.2)\n",
            "Requirement already satisfied: networkx in /usr/local/lib/python3.10/dist-packages (from torch==2.5.0->torchaudio) (3.4.2)\n",
            "Requirement already satisfied: jinja2 in /usr/local/lib/python3.10/dist-packages (from torch==2.5.0->torchaudio) (3.1.4)\n",
            "Requirement already satisfied: sympy==1.13.1 in /usr/local/lib/python3.10/dist-packages (from torch==2.5.0->torchaudio) (1.13.1)\n",
            "Requirement already satisfied: mpmath<1.4,>=1.1.0 in /usr/local/lib/python3.10/dist-packages (from sympy==1.13.1->torch==2.5.0->torchaudio) (1.3.0)\n",
            "Requirement already satisfied: aiohappyeyeballs>=2.3.0 in /usr/local/lib/python3.10/dist-packages (from aiohttp->datasets) (2.4.3)\n",
            "Requirement already satisfied: aiosignal>=1.1.2 in /usr/local/lib/python3.10/dist-packages (from aiohttp->datasets) (1.3.1)\n",
            "Requirement already satisfied: attrs>=17.3.0 in /usr/local/lib/python3.10/dist-packages (from aiohttp->datasets) (24.2.0)\n",
            "Requirement already satisfied: frozenlist>=1.1.1 in /usr/local/lib/python3.10/dist-packages (from aiohttp->datasets) (1.5.0)\n",
            "Requirement already satisfied: multidict<7.0,>=4.5 in /usr/local/lib/python3.10/dist-packages (from aiohttp->datasets) (6.1.0)\n",
            "Requirement already satisfied: yarl<2.0,>=1.12.0 in /usr/local/lib/python3.10/dist-packages (from aiohttp->datasets) (1.17.0)\n",
            "Requirement already satisfied: async-timeout<5.0,>=4.0 in /usr/local/lib/python3.10/dist-packages (from aiohttp->datasets) (4.0.3)\n",
            "Requirement already satisfied: charset-normalizer<4,>=2 in /usr/local/lib/python3.10/dist-packages (from requests->transformers) (3.4.0)\n",
            "Requirement already satisfied: idna<4,>=2.5 in /usr/local/lib/python3.10/dist-packages (from requests->transformers) (3.10)\n",
            "Requirement already satisfied: urllib3<3,>=1.21.1 in /usr/local/lib/python3.10/dist-packages (from requests->transformers) (2.2.3)\n",
            "Requirement already satisfied: certifi>=2017.4.17 in /usr/local/lib/python3.10/dist-packages (from requests->transformers) (2024.8.30)\n",
            "Requirement already satisfied: python-dateutil>=2.8.2 in /usr/local/lib/python3.10/dist-packages (from pandas->datasets) (2.8.2)\n",
            "Requirement already satisfied: pytz>=2020.1 in /usr/local/lib/python3.10/dist-packages (from pandas->datasets) (2024.2)\n",
            "Requirement already satisfied: tzdata>=2022.7 in /usr/local/lib/python3.10/dist-packages (from pandas->datasets) (2024.2)\n",
            "Requirement already satisfied: six>=1.5 in /usr/local/lib/python3.10/dist-packages (from python-dateutil>=2.8.2->pandas->datasets) (1.16.0)\n",
            "Requirement already satisfied: propcache>=0.2.0 in /usr/local/lib/python3.10/dist-packages (from yarl<2.0,>=1.12.0->aiohttp->datasets) (0.2.0)\n",
            "Requirement already satisfied: MarkupSafe>=2.0 in /usr/local/lib/python3.10/dist-packages (from jinja2->torch==2.5.0->torchaudio) (3.0.2)\n",
            "Downloading datasets-3.1.0-py3-none-any.whl (480 kB)\n",
            "\u001b[2K   \u001b[90m━━━━━━━━━━━━━━━━━━━━━━━━━━━━━━━━━━━━━━━━\u001b[0m \u001b[32m480.6/480.6 kB\u001b[0m \u001b[31m9.0 MB/s\u001b[0m eta \u001b[36m0:00:00\u001b[0m\n",
            "\u001b[?25hDownloading dill-0.3.8-py3-none-any.whl (116 kB)\n",
            "\u001b[2K   \u001b[90m━━━━━━━━━━━━━━━━━━━━━━━━━━━━━━━━━━━━━━━━\u001b[0m \u001b[32m116.3/116.3 kB\u001b[0m \u001b[31m11.9 MB/s\u001b[0m eta \u001b[36m0:00:00\u001b[0m\n",
            "\u001b[?25hDownloading fsspec-2024.9.0-py3-none-any.whl (179 kB)\n",
            "\u001b[2K   \u001b[90m━━━━━━━━━━━━━━━━━━━━━━━━━━━━━━━━━━━━━━━━\u001b[0m \u001b[32m179.3/179.3 kB\u001b[0m \u001b[31m15.3 MB/s\u001b[0m eta \u001b[36m0:00:00\u001b[0m\n",
            "\u001b[?25hDownloading multiprocess-0.70.16-py310-none-any.whl (134 kB)\n",
            "\u001b[2K   \u001b[90m━━━━━━━━━━━━━━━━━━━━━━━━━━━━━━━━━━━━━━━━\u001b[0m \u001b[32m134.8/134.8 kB\u001b[0m \u001b[31m12.4 MB/s\u001b[0m eta \u001b[36m0:00:00\u001b[0m\n",
            "\u001b[?25hDownloading xxhash-3.5.0-cp310-cp310-manylinux_2_17_x86_64.manylinux2014_x86_64.whl (194 kB)\n",
            "\u001b[2K   \u001b[90m━━━━━━━━━━━━━━━━━━━━━━━━━━━━━━━━━━━━━━━━\u001b[0m \u001b[32m194.1/194.1 kB\u001b[0m \u001b[31m16.9 MB/s\u001b[0m eta \u001b[36m0:00:00\u001b[0m\n",
            "\u001b[?25hInstalling collected packages: xxhash, fsspec, dill, multiprocess, datasets\n",
            "  Attempting uninstall: fsspec\n",
            "    Found existing installation: fsspec 2024.10.0\n",
            "    Uninstalling fsspec-2024.10.0:\n",
            "      Successfully uninstalled fsspec-2024.10.0\n",
            "\u001b[31mERROR: pip's dependency resolver does not currently take into account all the packages that are installed. This behaviour is the source of the following dependency conflicts.\n",
            "gcsfs 2024.10.0 requires fsspec==2024.10.0, but you have fsspec 2024.9.0 which is incompatible.\u001b[0m\u001b[31m\n",
            "\u001b[0mSuccessfully installed datasets-3.1.0 dill-0.3.8 fsspec-2024.9.0 multiprocess-0.70.16 xxhash-3.5.0\n"
          ]
        }
      ]
    },
    {
      "cell_type": "code",
      "source": [
        "pip install googletrans==4.0.0rc1\n"
      ],
      "metadata": {
        "colab": {
          "base_uri": "https://localhost:8080/",
          "height": 1000
        },
        "id": "P3vBR-HbdUvb",
        "outputId": "6675aaa1-c438-463e-8709-6759e20a2b98"
      },
      "execution_count": null,
      "outputs": [
        {
          "output_type": "stream",
          "name": "stdout",
          "text": [
            "Collecting googletrans==4.0.0rc1\n",
            "  Downloading googletrans-4.0.0rc1.tar.gz (20 kB)\n",
            "  Preparing metadata (setup.py) ... \u001b[?25l\u001b[?25hdone\n",
            "Collecting httpx==0.13.3 (from googletrans==4.0.0rc1)\n",
            "  Downloading httpx-0.13.3-py3-none-any.whl.metadata (25 kB)\n",
            "Requirement already satisfied: certifi in /usr/local/lib/python3.10/dist-packages (from httpx==0.13.3->googletrans==4.0.0rc1) (2024.8.30)\n",
            "Collecting hstspreload (from httpx==0.13.3->googletrans==4.0.0rc1)\n",
            "  Downloading hstspreload-2024.11.1-py3-none-any.whl.metadata (2.1 kB)\n",
            "Requirement already satisfied: sniffio in /usr/local/lib/python3.10/dist-packages (from httpx==0.13.3->googletrans==4.0.0rc1) (1.3.1)\n",
            "Collecting chardet==3.* (from httpx==0.13.3->googletrans==4.0.0rc1)\n",
            "  Downloading chardet-3.0.4-py2.py3-none-any.whl.metadata (3.2 kB)\n",
            "Collecting idna==2.* (from httpx==0.13.3->googletrans==4.0.0rc1)\n",
            "  Downloading idna-2.10-py2.py3-none-any.whl.metadata (9.1 kB)\n",
            "Collecting rfc3986<2,>=1.3 (from httpx==0.13.3->googletrans==4.0.0rc1)\n",
            "  Downloading rfc3986-1.5.0-py2.py3-none-any.whl.metadata (6.5 kB)\n",
            "Collecting httpcore==0.9.* (from httpx==0.13.3->googletrans==4.0.0rc1)\n",
            "  Downloading httpcore-0.9.1-py3-none-any.whl.metadata (4.6 kB)\n",
            "Collecting h11<0.10,>=0.8 (from httpcore==0.9.*->httpx==0.13.3->googletrans==4.0.0rc1)\n",
            "  Downloading h11-0.9.0-py2.py3-none-any.whl.metadata (8.1 kB)\n",
            "Collecting h2==3.* (from httpcore==0.9.*->httpx==0.13.3->googletrans==4.0.0rc1)\n",
            "  Downloading h2-3.2.0-py2.py3-none-any.whl.metadata (32 kB)\n",
            "Collecting hyperframe<6,>=5.2.0 (from h2==3.*->httpcore==0.9.*->httpx==0.13.3->googletrans==4.0.0rc1)\n",
            "  Downloading hyperframe-5.2.0-py2.py3-none-any.whl.metadata (7.2 kB)\n",
            "Collecting hpack<4,>=3.0 (from h2==3.*->httpcore==0.9.*->httpx==0.13.3->googletrans==4.0.0rc1)\n",
            "  Downloading hpack-3.0.0-py2.py3-none-any.whl.metadata (7.0 kB)\n",
            "Downloading httpx-0.13.3-py3-none-any.whl (55 kB)\n",
            "\u001b[2K   \u001b[90m━━━━━━━━━━━━━━━━━━━━━━━━━━━━━━━━━━━━━━━━\u001b[0m \u001b[32m55.1/55.1 kB\u001b[0m \u001b[31m4.3 MB/s\u001b[0m eta \u001b[36m0:00:00\u001b[0m\n",
            "\u001b[?25hDownloading chardet-3.0.4-py2.py3-none-any.whl (133 kB)\n",
            "\u001b[2K   \u001b[90m━━━━━━━━━━━━━━━━━━━━━━━━━━━━━━━━━━━━━━━━\u001b[0m \u001b[32m133.4/133.4 kB\u001b[0m \u001b[31m5.6 MB/s\u001b[0m eta \u001b[36m0:00:00\u001b[0m\n",
            "\u001b[?25hDownloading httpcore-0.9.1-py3-none-any.whl (42 kB)\n",
            "\u001b[2K   \u001b[90m━━━━━━━━━━━━━━━━━━━━━━━━━━━━━━━━━━━━━━━━\u001b[0m \u001b[32m42.6/42.6 kB\u001b[0m \u001b[31m3.5 MB/s\u001b[0m eta \u001b[36m0:00:00\u001b[0m\n",
            "\u001b[?25hDownloading idna-2.10-py2.py3-none-any.whl (58 kB)\n",
            "\u001b[2K   \u001b[90m━━━━━━━━━━━━━━━━━━━━━━━━━━━━━━━━━━━━━━━━\u001b[0m \u001b[32m58.8/58.8 kB\u001b[0m \u001b[31m5.5 MB/s\u001b[0m eta \u001b[36m0:00:00\u001b[0m\n",
            "\u001b[?25hDownloading h2-3.2.0-py2.py3-none-any.whl (65 kB)\n",
            "\u001b[2K   \u001b[90m━━━━━━━━━━━━━━━━━━━━━━━━━━━━━━━━━━━━━━━━\u001b[0m \u001b[32m65.0/65.0 kB\u001b[0m \u001b[31m6.4 MB/s\u001b[0m eta \u001b[36m0:00:00\u001b[0m\n",
            "\u001b[?25hDownloading rfc3986-1.5.0-py2.py3-none-any.whl (31 kB)\n",
            "Downloading hstspreload-2024.11.1-py3-none-any.whl (1.2 MB)\n",
            "\u001b[2K   \u001b[90m━━━━━━━━━━━━━━━━━━━━━━━━━━━━━━━━━━━━━━━━\u001b[0m \u001b[32m1.2/1.2 MB\u001b[0m \u001b[31m29.2 MB/s\u001b[0m eta \u001b[36m0:00:00\u001b[0m\n",
            "\u001b[?25hDownloading h11-0.9.0-py2.py3-none-any.whl (53 kB)\n",
            "\u001b[2K   \u001b[90m━━━━━━━━━━━━━━━━━━━━━━━━━━━━━━━━━━━━━━━━\u001b[0m \u001b[32m53.6/53.6 kB\u001b[0m \u001b[31m4.8 MB/s\u001b[0m eta \u001b[36m0:00:00\u001b[0m\n",
            "\u001b[?25hDownloading hpack-3.0.0-py2.py3-none-any.whl (38 kB)\n",
            "Downloading hyperframe-5.2.0-py2.py3-none-any.whl (12 kB)\n",
            "Building wheels for collected packages: googletrans\n",
            "  Building wheel for googletrans (setup.py) ... \u001b[?25l\u001b[?25hdone\n",
            "  Created wheel for googletrans: filename=googletrans-4.0.0rc1-py3-none-any.whl size=17397 sha256=7970da7e52a570154bad9a302df19db68438d930b05a4bc1cc18716f9724222d\n",
            "  Stored in directory: /root/.cache/pip/wheels/c0/59/9f/7372f0cf70160fe61b528532e1a7c8498c4becd6bcffb022de\n",
            "Successfully built googletrans\n",
            "Installing collected packages: rfc3986, hyperframe, hpack, h11, chardet, idna, hstspreload, h2, httpcore, httpx, googletrans\n",
            "  Attempting uninstall: h11\n",
            "    Found existing installation: h11 0.14.0\n",
            "    Uninstalling h11-0.14.0:\n",
            "      Successfully uninstalled h11-0.14.0\n",
            "  Attempting uninstall: chardet\n",
            "    Found existing installation: chardet 5.2.0\n",
            "    Uninstalling chardet-5.2.0:\n",
            "      Successfully uninstalled chardet-5.2.0\n",
            "  Attempting uninstall: idna\n",
            "    Found existing installation: idna 3.10\n",
            "    Uninstalling idna-3.10:\n",
            "      Successfully uninstalled idna-3.10\n",
            "  Attempting uninstall: httpcore\n",
            "    Found existing installation: httpcore 1.0.6\n",
            "    Uninstalling httpcore-1.0.6:\n",
            "      Successfully uninstalled httpcore-1.0.6\n",
            "  Attempting uninstall: httpx\n",
            "    Found existing installation: httpx 0.27.2\n",
            "    Uninstalling httpx-0.27.2:\n",
            "      Successfully uninstalled httpx-0.27.2\n",
            "\u001b[31mERROR: pip's dependency resolver does not currently take into account all the packages that are installed. This behaviour is the source of the following dependency conflicts.\n",
            "langsmith 0.1.137 requires httpx<1,>=0.23.0, but you have httpx 0.13.3 which is incompatible.\n",
            "openai 1.52.2 requires httpx<1,>=0.23.0, but you have httpx 0.13.3 which is incompatible.\u001b[0m\u001b[31m\n",
            "\u001b[0mSuccessfully installed chardet-3.0.4 googletrans-4.0.0rc1 h11-0.9.0 h2-3.2.0 hpack-3.0.0 hstspreload-2024.11.1 httpcore-0.9.1 httpx-0.13.3 hyperframe-5.2.0 idna-2.10 rfc3986-1.5.0\n"
          ]
        },
        {
          "output_type": "display_data",
          "data": {
            "application/vnd.colab-display-data+json": {
              "pip_warning": {
                "packages": [
                  "chardet",
                  "idna"
                ]
              },
              "id": "0783dc33da5e4ac6ab2e3a401b1367cb"
            }
          },
          "metadata": {}
        }
      ]
    },
    {
      "cell_type": "code",
      "source": [
        "pip install deep-translator"
      ],
      "metadata": {
        "colab": {
          "base_uri": "https://localhost:8080/"
        },
        "id": "KtFqZ_W3eRMw",
        "outputId": "73b318ab-b124-4075-d4dd-aef34e263275"
      },
      "execution_count": null,
      "outputs": [
        {
          "output_type": "stream",
          "name": "stdout",
          "text": [
            "Collecting deep-translator\n",
            "  Downloading deep_translator-1.11.4-py3-none-any.whl.metadata (30 kB)\n",
            "Requirement already satisfied: beautifulsoup4<5.0.0,>=4.9.1 in /usr/local/lib/python3.10/dist-packages (from deep-translator) (4.12.3)\n",
            "Requirement already satisfied: requests<3.0.0,>=2.23.0 in /usr/local/lib/python3.10/dist-packages (from deep-translator) (2.32.3)\n",
            "Requirement already satisfied: soupsieve>1.2 in /usr/local/lib/python3.10/dist-packages (from beautifulsoup4<5.0.0,>=4.9.1->deep-translator) (2.6)\n",
            "Requirement already satisfied: charset-normalizer<4,>=2 in /usr/local/lib/python3.10/dist-packages (from requests<3.0.0,>=2.23.0->deep-translator) (3.4.0)\n",
            "Requirement already satisfied: idna<4,>=2.5 in /usr/local/lib/python3.10/dist-packages (from requests<3.0.0,>=2.23.0->deep-translator) (2.10)\n",
            "Requirement already satisfied: urllib3<3,>=1.21.1 in /usr/local/lib/python3.10/dist-packages (from requests<3.0.0,>=2.23.0->deep-translator) (2.2.3)\n",
            "Requirement already satisfied: certifi>=2017.4.17 in /usr/local/lib/python3.10/dist-packages (from requests<3.0.0,>=2.23.0->deep-translator) (2024.8.30)\n",
            "Downloading deep_translator-1.11.4-py3-none-any.whl (42 kB)\n",
            "\u001b[2K   \u001b[90m━━━━━━━━━━━━━━━━━━━━━━━━━━━━━━━━━━━━━━━━\u001b[0m \u001b[32m42.3/42.3 kB\u001b[0m \u001b[31m3.8 MB/s\u001b[0m eta \u001b[36m0:00:00\u001b[0m\n",
            "\u001b[?25hInstalling collected packages: deep-translator\n",
            "Successfully installed deep-translator-1.11.4\n"
          ]
        }
      ]
    },
    {
      "cell_type": "code",
      "source": [
        "import pandas as pd\n",
        "from deep_translator import GoogleTranslator\n",
        "\n",
        "# Load the CSV file\n",
        "input_csv = '/content/drive/MyDrive/VaaniVrikshaAudio/transcription_dataset.csv'  # Replace with your actual file name\n",
        "output_csv = '/content/drive/MyDrive/VaaniVrikshaAudio/translated_audio_data.csv'\n",
        "\n",
        "# Initialize the Google Translator from deep-translator\n",
        "translator = GoogleTranslator(source='kn', target='en')\n",
        "\n",
        "# Read the CSV file\n",
        "df = pd.read_csv(input_csv)\n",
        "\n",
        "# Define a function to translate text\n",
        "def translate_text(text):\n",
        "    try:\n",
        "        # Translate from Kannada to English\n",
        "        return translator.translate(text)\n",
        "    except Exception as e:\n",
        "        print(f\"Error translating text: {e}\")\n",
        "        return text  # Return the original text if there's an error\n",
        "\n",
        "# Apply translation to the 'transcription' column\n",
        "df['Transcription'] = df['Transcription'].apply(translate_text)\n",
        "\n",
        "# Save the translated CSV file\n",
        "df.to_csv(output_csv, index=False)\n",
        "\n",
        "print(f\"Translation complete. Translated data saved to {output_csv}\")"
      ],
      "metadata": {
        "colab": {
          "base_uri": "https://localhost:8080/"
        },
        "id": "tAFM_bCtediA",
        "outputId": "071c7a96-8a18-4af8-e9ae-821dfbf29619"
      },
      "execution_count": null,
      "outputs": [
        {
          "output_type": "stream",
          "name": "stdout",
          "text": [
            "Error translating text: ಅದರಿಂದ ನಾವು ಸುಮಾರು ಒಂದು ಲಕ್ಷದ ಇಪ್ಪತ್ತು ಸಾವಿರ ದಷ್ಟು ಹಣನ ಗಳಿಸಬಹುದು ಪ್ರೈವೇಟ್ ಮಾರ್ಕೆಟಲ್ಲಿ ಇದರ ಒಂದು ಬೆಲೆ ಒಂದು ಕೆಜಿಗೆ ಸುಮಾರು ಹತ್ತರಿಂದ ಹದಿನೈದು ಸಾವಿರ ರೂಪಾಯಿ ಇದೆ ಇದು ಬೇರೆ ಮರದ ಬೇರಿನ ಮೇಲೆ ನೀರು ಪೋಷಕಾಂಶಗಳನ್ನು ಡಿಪೆಂಡ್ ಆಗಿರುತ್ತದೆ ಕರೆಕ್ಟ್ ಆಗಿ ಅಂತರ ಕೊಟ್ಟಿರುವುದರಿಂದ ಈ ಒಂದು ಮರ ಚೆನ್ನಾಗಿ ಬೆಳೆಯುತ್ತಿದೆ ಎಲ್ಲರಿಗೂ ನಮಸ್ಕಾರ ಶ್ರೀಗಂಧ ಒಂದು ಅತ್ಯಮೂಲ್ಯವಾದ ಮರ ಇದು ತನ್ನ ಸುಗಂಧದಿಂದ ಇಡೀ ಜಗತ್ತಿನಲ್ಲೇ ಪ್ರಖ್ಯಾತಿ ಹೊಂದಿದೆ ಈ ಒಂದು ಮರಕ್ಕೆ ನ್ಯಾಷನಲ್ ಮತ್ತೆ ಇಂಟರ್ನ್ಯಾಷನಲ್ ಮಾರ್ಕೆಟಲ್ಲಿ ತುಂಬಾನೇ ಬೇಡಿಕೆ ಇದೆ ಆದರೆ ಇಷ್ಟೊಂದು ಬೇಡಿಕೆ ಇರುವ ಈ ಮರನ ರೈತ ಬೆಳೆಯುವುದರಲ್ಲಿ ವಿಫಲ ಆಗುತ್ತಿದ್ದಾನೆ ಯಾಕೆ ಅಂತ ನೋಡಿದರೆ ಈ ಒಂದು ಮರದ ಕಲ್ಟಿವೇಶನ್ ಪ್ರಾಕ್ಟೀಸ್ ಕರೆಕ್ಟ್ ಆಗಿ ತಿಳ್ಸಿ ಅದೇನು ಅಂತ ಅಂದ್ರೆ ಶ್ರೀಗಂಧ ಮರ ಏನಿದೆ ಅದನ್ನು ನಾವು ಹೆವಿ ರೂಟ್ ಪ್ಯಾರಾಸೈಟ್ ಅಂತ ಹೇಳ್ತೀವಿ ಅಂತ ಅಂದ್ರೆ ಈ ಒಂದು ಮರದ ಬೇರಿನ ಸ್ಟ್ರಕ್ಚರ್ ಬೇರಿನ ರಚನೆ ಏನಿರುತ್ತೆ ಅಂದ್ರೆ ಬೇರೆ ಒಂದು ಮರದ ಮೇಲೆ ಈ ಒಂದು ಮರ ಡಿಪೆಂಡ್ ಆಗಿರುತ್ತೆ ಹಾಗಾಗಿ ನೀವು ಶ್ರೀಗಂಧ ಬೆಳಿತಾ ಇದ್ದೀರಾ ಅಂತ ಅಂದ್ರೆ ಅದಕ್ಕೆ ಒಂದು ಪೋಸ್ಟ್ ಪ್ಲಾಂಟ್ ನ ನೀವು ತೋರಿಸಿಕೊಡಬೇಕಾಗುತ್ತದೆ ಶ್ರೀಗಂಧದ ಮರದ ಬೇರುಗಳು ಕರೆಕ್ಟಾಗಿ ರಚನೆ ಆಗದೆ ಇರುವ ಕಾರಣ ಅದು ತನಗೆ ತಾನೇ ಏನು ನೀರು ಆಗಿರಬಹುದು ಮಿನರಲ್ಸ್ ಆಗಿರಬಹುದು ತಗೋಳೋ ಸಾಮರ್ಥ್ಯ ಹೊಂದಿರುವುದಿಲ್ಲ ಇದು ಬೇರೆ ಮರದ ಬೇರಿನ ಮೇಲೆ ನೀರು ಪೋಷಕಾಂಶಗಳನ್ನು ಹೀರಿಕೊಳ್ಳುತ್ತದೆ ಹಾಗಾದರೆ ಈ ಒಂದು ಶ್ರೀಗಂಧ ಮರ ಬೆಳೆಯೋಕೆ ಯಾವ ಯಾವ ಪೋಸ್ಟ್ ಆಗಿ ಕೊಡಬಹುದು ಅಂತ ನಾವು ನೋಡುವುದಾದರೆ ಮೊದಲನೇದಾಗಿ ಇವಾಗ ಅರಣ್ಯ ಕೃಷಿ ಬೆಳೆಗಳು ಯಾವುದು ಅಂದ್ರೆ ಈ ಒಂದು ಮರಗಳ ಈ ಬೆಳಗ್ಗೆ ಪೋಸ್ಟ್ ಆಗಿ ಕೊಡಬಹುದು ಅದಲ್ಲದೆ ಈ ಒಂದು ಶ್ರೀಗಂಧ ಮರಕ್ಕೆ ಬೆಸ್ಟ್ ಪೋಸ್ಟ್ ಅಂತ ಅಂದ್ರೆ ಜೊತೆಗೆ ಬೇರೆ-ಬೇರೆ ಹಣ್ಣಿನ ಮರಗಳನ್ನು ಕೂಡ ಈ ಒಂದು ಮರಕ್ಕೆ ನಾವು ಪೋಸ್ಟ್ ಆಗಿ ಬೆಳೆಯಬಹುದು ನೀವು ಯಾವ ಹೋಸ್ಟ್ ಪ್ಲಾಂಟ್ ಸೆಲೆಕ್ಟ್ ಮಾಡಿಕೊಳ್ಳುತ್ತೀರಾ ಅದು ಶ್ರೀಗಂಧಕ್ಕಿಂತ ಯಾವುದೇ ಕಾರಣಕ್ಕೂ ತುಂಬಾ ಉದ್ದಕ್ಕೆ ಬೆಳೆಯಬಾರದು ಯಾಕೆ ಅಂತ ಅಂದ್ರೆ ಶ್ರೀ ಸಾಕಷ್ಟು ಸೂರ್ಯನ ಕಿರಣ ತಾಪಮಾನ ಬೇಕಾಗುತ್ತದೆ ಹಾಗಾಗಿ ತುಂಬಾ ಉದ್ದವಾದ ಮರಣ ನಾವು ಸೆಲೆಕ್ಟ್ ಮಾಡ್ಕೊಂಡ್ರೆ ಏನಾಗುತ್ತೆ ಅದು ನೆರಳನ್ನು ಕೊಡುತ್ತೆ ಅವಾಗ ಹಾರ್ಟ್ ಬೀಟ್ ಫಾರ್ಮೇಶನ್ ಆಗಲ್ಲ ಅದಲ್ಲದೆ ನಾವು ಶ್ರೀಗಂಧದ ಅಂತ ಹೇಳ್ತೀವಿ ಅಂತ ಅಂದ್ರೆ ಈ ಒಂದು ಮರ ಸ್ಟ್ರೆಸ್ ಇವಾಗ ಜಾಸ್ತಿ ಹೀಟ್ ಆದರೆ ತಾಪಮಾನ ಜಾಸ್ತಿ ಆದರೆ ಆ ಒಂದು ಟೈಮಲ್ಲಿ ಚೆನ್ನಾಗಿ ಬೆಳೆಯುತ್ತದೆ ತಾಪಮಾನ ಜಾಸ್ತಿ ಇರಬೇಕು ಹಾಗೆ ಉಷ್ಣಾಂಶ ಕೂಡ ಜಾಸ್ತಿ ಇರಬೇಕು ಸೋ ಅವೆಲ್ಲ ಚೆನ್ನಾಗಿ ಸಿಕ್ಕರೆ ಮಾತ್ರ ಈ ಒಂದು ಮರ ಚೆನ್ನಾಗಿ ಬೆಳೆಯುತ್ತದೆ ಈ ಶ್ರೀಗಂಧ ಮರಕ್ಕೆ ನೀವು ಹೋಸ್ಟ್ ಪ್ಲಾಂಟ್ ನ ಹಾಕಬೇಕಾದರೆ ಡಿಸ್ಟೆನ್ಸ್ ತುಂಬಾ ಇಂಪಾರ್ಟೆಂಟ್ ಆಗುತ್ತೆ ಅಂದ್ರೆ ಶ್ರೀಗಂಧ ಹಾಕಿ ಒಂದು 2.5 ರಿಂದ 3 ಮ್ ಆದ್ಮೇಲೆ ನೀವು ಪೋಸ್ಟ್ ಪ್ಲಾಂಟ್ ಹಾಕಬೇಕಾಗುತ್ತದೆ ಸಾರಜನಕ ವಾತಾವರಣದಲ್ಲಿರುವ ಸಾರಜನಕ ಶ್ರೀಗಂಧದ ಮರ ಸಸ್ಯ ಆಗಿರಬೇಕಾದರೆ ಸ್ಟಾರ್ಟಿಂಗ್ ಸ್ಟೇಜಲ್ಲಿ ಅಂತ ಅಂದ್ರೆ ಆರು ತಿಂಗಳಿಂದ ಎರಡು ವರ್ಷದ ತನಕ ಕೊಡಬೇಕು ನೆಕ್ಸ್ಟ್ ಇನ್ನೊಂದು ಪರ್ಮನೆಂಟ್ ಪೋಸ್ಟ್ ಅಂತ ಅಂದ್ರೆ ಇದು ಎರಡು ವರ್ಷ ಆದ್ಮೇಲೆ ನಾವು ಪರ್ಮನೆಂಟ್ ಹೌಸ್ ನ ಹಾಕಬೇಕಾಗುತ್ತದೆ ಮಣ್ಣಿನಲ್ಲಿ ಸಾರಜನಕ ಜಾಸ್ತಿ ಉತ್ಪತ್ತಿಯಾಗುತ್ತದೆ ಅಂತ ಅಂದ್ರೆ ಇವೆರಡು ಮರಗಳು ಹಸಿರೆಲೆ ಗೊಬ್ಬರದ ಮರಗಳು ಆಗಿರುವುದರಿಂದ ಈ ಒಂದು ಮರದಲ್ಲಿ ಸಾರಜನಕ ಉತ್ಪತ್ತಿಯಾಗುವುದಿಲ್ಲ ಈ ಶ್ರೀಗಂಧದ ಬೆಳಗು ಕೂಡ ತುಂಬಾ ಅನುಕೂಲ ಆಗುತ್ತೆ ಈ ಶ್ರೀಗಂಧ ಬೆಳೆಯಬೇಕಾದರೆ ಇನ್ನೊಂದು ಮುಖ್ಯವಾದ ಅಂಶವನ್ನು ನೀವು ಏನು ಗಣನೆಗೆ ತಗೋಬೇಕು ಅಂತ ಅಂದ್ರೆ ಈ ಒಂದು ಮರ ಮಳೆಯ ಶೀತದ ಮರ ಆಗಿರುತ್ತೆ ಇದನ್ನು ನೀವು ಯಾವುದೇ ಕಾರಣಕ್ಕೂ ನೀರಾವರಿ ಪ್ರದೇಶದಲ್ಲಿ ಬೆಳೆಯಬಾರದು ಯಾಕೆ ಅಂತ ಅಂದ್ರೆ ನಾನು ಅವಾಗ್ಲೇ ಹೇಳಿದೆ ಈ ಒಂದು ಮರದಲ್ಲಿ ಏನು ಹಾರ್ಟ್ ಬೀಟ್ ಫಾರ್ಮೇಶನ್ ಆಗಬೇಕು ಆಯಿಲ್ ಕಂಟೆಂಟ್ ಫಾರ್ಮೇಶನ್ ಆಗಬೇಕು ಅಂತ ಅಂದ್ರೆ ಸಾಕಷ್ಟು ಬೆಳಕು ಮತ್ತೆ ಉಷ್ಣಾಂಶ ಇರಬೇಕು ಇಲ್ಲ ಅಂತ ಅಂದ್ರೆ ಜಾಸ್ತಿ ನೀರು ಕೊಟ್ಟರೆ ಏನಾಗುತ್ತೆ ಅಂತ ಅಂದ್ರೆ ಹಾಟ್ ಬುಕ್ ಕೂಡ ಫಾರ್ಮೇಶನ್ ಆಗಲ್ಲ ಹಾಗೆ ಆಯಿಲ್ ಕಂಟೆಂಟ್ ಕ್ವಾಲಿಟಿ ಏನಿರುತ್ತೆ ಅದು ಕೂಡ ತುಂಬಾ ಕಡಿಮೆಯಾಗುತ್ತೆ ಹಾಗೆ ನೀವು ಶ್ರೀಗಂಧ ಮರಕ್ಕೆ ಹೋಸ್ಟ್ ಪ್ಲಾಂಟ್ ನ ಆಯ್ಕೆ ಮಾಡಿಕೊಳ್ಳಬೇಕಾದರೆ ಆ ಒಂದು ಗಿಡಗಳು ಕೂಡ ನೀರಿನ ಮೇಲೆ ಜಾಸ್ತಿ ಡಿಪೆಂಡ್ ಆಗಿರಬಾರದು ಅದು ಕೂಡ ಮಳೆಯ ಶೀತದ ಬೆಳೆ ಆಗಿರಬೇಕು ಯಾಕೆ ಅಂತ ಅಂದ್ರೆ ನೀವು ಆ ಗಿಡಕ್ಕೆ ಜಾಸ್ತಿ ನೀರು ಕೊಟ್ಟಾಗ ಈ ಒಂದು ಶ್ರೀಗಂಧಕ್ಕೆ ಕೂಡ ಅದು ತುಂಬಾ ಎಫೆಕ್ಟ್ ಆಗುತ್ತೆ ಈ ಒಂದು ಶ್ರೀಗಂಧ ಮರ ಬೆಳೆಯಬೇಕಾದರೆ ಅಂತರ ಕೂಡ ತುಂಬಾ ಇಂಪಾರ್ಟೆಂಟ್ ಆಗಿರುವುದರಿಂದ ಹೋಸ್ಟ್ ಮತ್ತೆ ಶ್ರೀಗಂಧ ಮರಕ್ಕೆ ನಾವು ಸುಮಾರು ಐದು ಅಡಿ ಅಷ್ಟು ಅಂತರವನ್ನು ಕೊಡಬೇಕಾಗುತ್ತದೆ ಈ ಒಂದು ಬೇರು ಆ ಒಂದು ಬೇರಿನ ಜೊತೆ ಕನೆಕ್ಟ್ ಆಗಲ್ಲ ಅವಾಗ ನೀರು ಮತ್ತೆ ಪೋಷಕಾಂಶ ಹೀರಿಕೊಳ್ಳಲು ತುಂಬಾ ಕಷ್ಟ ಆಗುತ್ತೆ ಇದೆ ಒಂದು ತೋಟದಲ್ಲಿ ನಾವು ಆ ಒಂದು ಉದಾಹರಣೆಯನ್ನು ಕೂಡ ತೋರಿಸಿಕೊಡುತ್ತೇನೆ ಇವಾಗ ನಾವು ಇಲ್ಲೇ ನೋಡುವುದಾದರೆ ಐದು ಫೀಟು ಇರೋದರಿಂದ ಕರೆಕ್ಟಾಗಿ ಅಂತರ ಕೊಟ್ಟಿರುವುದರಿಂದ ಈ ಒಂದು ಮರ ಚೆನ್ನಾಗಿ ಬೆಳೆದುಕೊಳ್ಳುತ್ತದೆ ನೀವು ಇವಾಗ ಈ ತೋಟದಲ್ಲೇ ಇರೋ ಇನ್ನೊಂದು ಮರ ತಗೊಂಡ್ರೆ ಅಂದ್ರೆ ಅಲ್ಲೇ ಒಂದು ಮರನ ನೋಡ್ತಿದ್ರೆ ಅದರ ಒಂದು ಬೆಳವಣಿಗೆ ಕರೆಕ್ಟಾಗಿ ಆಗಿಲ್ಲ ಯಾಕೆ ಅಂತ ಅಂದ್ರೆ ಅದು ಮತ್ತೆ ಹೋಸ್ಟ್ ಪ್ಲಾಂಟ್ ತುಂಬಾ ಡಿಸ್ಟೆನ್ಸ್ ಇರುವುದರಿಂದ ಅದು ಪೋಷಕಾಂಶ ಮತ್ತು ನೀರಿನ ಕರೆಕ್ಟ್ ಆಗಿ ತಗೋಳಕ್ಕೆ ಆಗದೆ ಇರುವುದರಿಂದ ಆ ಒಂದು ಮರದ ಬೆಳವಣಿಗೆ ಕರೆಕ್ಟಾಗಿ ಆ ದಿನ ಈ ಒಂದು ಶ್ರೀಗಂಧದ ಮರನ ನಾವು ವೈಡರ್ ಅಡಾಪ್ಟ್ ಅಬಿಲಿಟಿ ಕ್ರಾಪ್ ಅಂತ ಹೇಳ್ತೀವಿ ಯಾಕೆ ಅಂತ ಅಂದ್ರೆ ಇದು ಯಾವುದೇ ವಾತಾವರಣದಲ್ಲಿ ಆದರೂ ಯಾವುದೇ ಮಣ್ಣಿಗಾದರೂ ನಾವು ಈ ಮರವನ್ನು ಸುಲಭವಾಗಿ ಬೆಳೆಯಬಹುದು ಈ ಒಂದು ಶ್ರೀಗಂಧದ ಮರನ ನೀವು ಒಂದು ಎಕರೆಗೆ ಒಂದೊಂದು ಮರಕ್ಕೆ 10 ಅಡಿ ಡಿಸ್ಟೆನ್ಸ್ ಕೊಟ್ರೆ ನೂರಾ ಅರವತ್ತು ಮರಗಳನ್ನು ಹಾಕುವುದು ಈ ಮರ ಸುಮಾರು 15 ರಿಂದ 20 ವರ್ಷಕ್ಕೆ ನಮಗೆ ಇಳುವರಿ ಬರುತ್ತೆ ಸೋ ಒಂದು ಮರದಿಂದ ನಮಗೆ ಈಗಿನ ಒಂದು ಮಾರ್ಕೆಟ್ ರೇಟ್ ಅಲ್ಲಿ ಈ ಒಂದು ಮರಕ್ಕೆ ಒಂದು ಕೆಜಿಗೆ ನಮಗೆ ಸುಮಾರು 6,000 ಸಿಗುತ್ತೆ ಹಾಗಾಗಿ ನಾವು ಒಂದು ಮರದಿಂದ ಸುಮಾರು 20 ಕೆಜಿ ಪಡೆದುಕೊಂಡರೆ ಅದರಿಂದ ನಾವು ಸುಮಾರು ಒಂದು ಲಕ್ಷದ ಇಪ್ಪತ್ತು ಸಾವಿರದಷ್ಟು ಹಣನ ಗಳಿಸಬಹುದು ಸೋ ಒಂದು ಎಕರೆಗೆ 160 ಮರಗಳು ಆದರೆ 160 ಮರಗಳಿಂದ ನಾವು ಸುಮಾರು ಎರಡು ಕೋಟಿ ದುಡ್ಡು ಪಡೆದುಕೊಳ್ಳಬಹುದು ಅದಲ್ಲದೆ ಈ ಶ್ರೀಗಂಧದ ಮರಗಳ ಮಧ್ಯೆ ನಾವು ಹಣ್ಣಿನ ಬೆಳೆಗಳ ಪಪ್ಪಾಯ ಸಾಕುವುದು ಜೊತೆಗೆ ನಿಂಬೆ ಹಾಕುವುದು ದಾಳಿಂಬೆ ಹಾಕುವುದು ಈ ರೀತಿ ಮರಗಳನ್ನು ಹಾಕಿಕೊಳ್ಳುವುದರಿಂದ ನನಗೆ ಅವುಗಳಿಂದ ಕೂಡ ಆದಾಯವನ್ನು ಪಡೆಯಬಹುದು ಆದರೆ ಇಷ್ಟೆಲ್ಲಾ ಬೇಡಿಕೆ ಇರುವ ಈ ಒಂದು ಶ್ರೀಗಂಧದ ಮರನ ಬೆಳಿಬೇಕು ಅಂತ ಅಂದ್ರೆ ತುಂಬಾ ಮುಖ್ಯವಾದ ಪ್ರಾಬ್ಲಮ್ ಏನು ಅಂತ ಅಂದ್ರೆ ಇದು ಕಳುವಾಗುವುದು ಅಂದ್ರೆ ಕಳ್ಳರು ಬಂದು ಈ ಮರನ ತಗೊಂಡು ಹೋಗಬಹುದು ಹಾಗಾಗಿ ನಾವು ಈ ಒಂದು ಮರಕ್ಕೆ ರಕ್ಷಣೆಯನ್ನು ಕೊಡಬೇಕಾಗುತ್ತದೆ ಈ ಒಂದು ಶ್ರೀಗಂಧದ ಮರ ಇತ್ತೀಚಿಗೆ ಪ್ರೊಡಕ್ಷನ್ ಕಡಿಮೆಯಾಗುತ್ತಿರುವುದರಿಂದ ಇದರ ಒಂದು ಬೇಡಿಕೆ ಜಾಸ್ತಿ ಆಗೋದ್ರಿಂದ ಗೌರ್ಮೆಂಟ್ ಕೂಡ ಶ್ರೀಗಂಧದ ಮರನ ಬೆಳೆಸೋಕೆ ಕರ್ನಾಟಕ ಗೌರ್ಮೆಂಟ್ ಇಂದ ಕ್ರೋಮೋಸ್ ಸ್ಯಾಂಡಲ್ವುಡ್ ಪ್ರಾಜೆಕ್ಟ್ ಕೂಡ ಈ ಒಂದು ಮರನ ಬೆಳೆಸುವುದಕ್ಕೆ ಮಾಡಿದರೆ ಈ ಒಂದು ಮರದಲ್ಲಿ ರಕ್ಷಣೆಗೆ ಬಂದರೆ ಮೊದಲನೇದಾಗಿ ಏನು ಅಂತ ಅಂದ್ರೆ ನಾವು ಮೈಕ್ರೋ ಚಿಪ್ಸ್ ನ ಬಳಸಿ ಈ ಒಂದು ಮರದ ರಕ್ಷಣೆ ಮಾಡೋದು ಅದು ಹೇಗೆ ಅಂತ ನೋಡುವುದಾದರೆ ಈ ಒಂದು ಶ್ರೀಗಂಧದ ಮರದ ರಕ್ಷಣೆಗಾಗಿ ಗೌರ್ಮೆಂಟ್ ಇಂದ ಈ ಪ್ರೊಟೆಕ್ಷನ್ ಅನ್ನೋ ಒಂದು ಸಿಸ್ಟಮ್ ಇದೆ ಇದೇನು ಅಂತ ಹೇಳಿದ್ರೆ ಮೈಕ್ರೋ ಚಿಪ್ಸ್ ನ ಅಳವಡಿಸಿ ಮರಗಳನ್ನು ರಕ್ಷಣೆ ಮಾಡುವುದು ಅದು ಹೇಗೆ ಅಂತ ಅಂದ್ರೆ ಇವಾಗ ಭೂಮಿಯಿಂದ ಎಂಟು ಫಿಟ್ ಉದ್ದಕ್ಕೆ ನಾವು ಮೈಕ್ರೋ ಚಿಪ್ ನ ಮರಗಳಲ್ಲಿ ಅಳವಡಿಸುವುದು ಇದನ್ನು ಇಂಡಿಯನ್ ಸೈನ್ಸ್ ಅಂಡ್ ಟೆಕ್ನಾಲಜಿ ಅವರು ಮಾಡಿರುವ ಅಂತದ್ದು ಸೋ ಏನಾಗತ್ತೆ ಅಂತ ಅಂದ್ರೆ ಇವಾಗ ಯಾರಾದ್ರೂ ಕಳ್ಳರು ನಿಮ್ಮ ತೋಟಕ್ಕೆ ಬಂದ್ರೆ ಏನಾಗುತ್ತೆ ಅಂತ ಅಂದ್ರೆ ಈ ಒಂದು ಸಿಸ್ಟಮ್ ಅಲ್ಲಿ ಡ್ರೋನ್ ಇರುತ್ತೆ ಹಾಗೆ ನೈಟ್ ಮಿಷನ್ ಕ್ಯಾಮೆರಾ ಕ್ಯಾಮೆರಾ ಆದರೆ ನೀವು ಈ ಪ್ರೊಟೆಕ್ಷನ್ ಸಿಸ್ಟಮ್ ನಿಮ್ಮ ತೋಟದಲ್ಲಿ ಅಳವಡಿಸಿಕೊಳ್ಳಬೇಕು ಅಂತ ಅಂದ್ರೆ ನಿಮ್ಮ ತೋಟದಲ್ಲಿ ಮಿನಿಮಮ್ ಅಂದ್ರು ನೂರು ಶ್ರೀಗಂಧದ ಮರನ ನೀವು ಹಾಕಿಕೊಂಡಿರಬೇಕು ಆದರೆ ನೀವು ಇದೆಲ್ಲ ಗವರ್ನಮೆಂಟ್ ಮೇಲೆ ಡಿಪೆಂಡ್ ಆಗದೆ ನೀವೇ ಮಾಡ್ಕೋಬೇಕು ಅಂತ ಅಂದ್ರೆ ಏನು ಮಾಡಬಹುದು ಅಂತ ಅಂದ್ರೆ ನೀವು ಸುತ್ತಮುತ್ತ ಬಿದಿರಿನ ಒಂದು ಬೆಳೆಯನ್ನು ಬೆಳೆಯಬಹುದು ಈ ಒಂದು ಬಿದಿರಿನ ಬೆಳೆಯಲ್ಲಿ ಜಾಸ್ತಿ ಮುಳ್ಳು ಇರುವುದರಿಂದ ಹಾಗೆ ಅದು ತುಂಬಾ ತಿಕ್ ಆಗಿ ಬೆಳೆಯುವುದರಿಂದ ಅದನ್ನು ಸುಲಭವಾಗಿ ಕಡಿಯೋಕೆ ಆಗಲ್ಲ ಹಾಗೆ ಆ ಒಂದು ಮರಗಳು ಸುಮಾರು 40 ರಿಂದ ಅದಲ್ಲದೆ ನೀವೇ ಸಿಸಿಟಿವಿ ಕ್ಯಾಮೆರಾ ನ ಕೂಡ ಇನ್ಸ್ಟಾಲ್ ಮಾಡ್ಕೋಬಹುದು ಈ ಒಂದು ಮರದ ಬೇಡಿಕೆ ಜಾಸ್ತಿ ಇರೋದ್ರಿಂದ ಇದಕ್ಕೆ ಗೌರ್ಮೆಂಟ್ ಇಂದ ಕೂಡ ಹಲವಾರು ಸೌಲಭ್ಯಗಳು ಇದೆ ನೀವು ಸಿಡಿಲಿನ ಖರೀದಿ ಮಾಡಬೇಕಾದರೆ ಅಂದ್ರೆ ಸಸಿಗಳನ್ನು ಖರೀದಿ ಮಾಡಬೇಕಾದರೆ ಈ ಒಂದು ಮರನ ಸಬ್ಸಿಡಿ ರೇಟಲ್ಲಿ ಅಂತ ಅಂದ್ರೆ ಮೂರರಿಂದ ಐದು ರೂಪಾಯಿ ಒಂದು ಸಿಗಲಿದೆ ಅರಣ್ಯ ಇಲಾಖೆಯಿಂದ ನೀವು ತಗೋಬಹುದು ಹಾಗೆ ಸಿರಿ ಚಂದನ ಅನ್ನೋ ಸ್ಕೀಮ್ ಇಂದ ಈ ಒಂದು ಮರ ಬೆಳೆಯುವುದಕ್ಕೆ ಸಹಾಯಧನ ಕೂಡ ಸಿಗುತ್ತದೆ ಅದಲ್ಲದೆ ಇನ್ಸೂರೆನ್ಸ್ ಅಂದ್ರೆ ಬೆಳೆ ವಿಮೆ ಕೂಡ ಈ ಒಂದು ಬೆಳಗ್ಗೆ ಸಿಗುತ್ತೆ ಅದಷ್ಟೇ ಅಲ್ಲ ಹಲವಾರು ಸಾಲ ಸೌಲಭ್ಯ ಕೂಡ ಇದೆ ಅದಲ್ಲದೆ ಊರಲ್ಲಿರುವ ಎಲ್ಲಾ ರೈತರು ಈ ಒಂದು ಸಾಮೂಹಿಕವಾಗಿ ರಕ್ಷಣೆಯನ್ನು ಕೊಡಬಹುದು ಬೇಕು --> Text length need to be between 0 and 5000 characters\n",
            "Error translating text: Request exception can happen due to an api connection error. Please check your connection and try again\n",
            "Error translating text: Request exception can happen due to an api connection error. Please check your connection and try again\n",
            "Error translating text: Request exception can happen due to an api connection error. Please check your connection and try again\n",
            "Error translating text: nan --> text must be a valid text with maximum 5000 character,otherwise it cannot be translated\n",
            "Error translating text: ಟೋಟಲ್ ಎಲ್ಲಾ ಸುತ್ತಲೂ ಲೈಟ್ ಪೆನ್ಸಿಂಗ್ ಇದೆ ಬಾಬು ಇಲ್ಲ ಇದು ಇದು 30 ಎಕರೆ ಸರ್ ನೀವು ನೋಡ್ತೀರಾ ಆಮೇಲೆ ಇಲ್ಲಿ ಕೊಡನು ಯಾವುದೇ ಒಳಗಡೆ ಅದು ಕಲ್ಟಿವೇಶನ್ಸ್ ಅದು ಇದು ಯಾವುದು ಇಲ್ಲ ನಮಗೆ ನಮ್ಮ ಹತ್ತಿರ ಪ್ರತಿ ಗಿಡದಲ್ಲೂ ಸಂಪೂರ್ಣವಾದ ಹಿಸ್ಟರಿ ಅಲ್ಲ ಇರುತ್ತದೆ ಇರುತ್ತದೆ ಒಂಬತ್ತು ಸಾವಿರ ಸಾವಿರ ನಿಮಗೆ ಗೊತ್ತಾಗುತ್ತೆ ಬದುಕಲಿಕ್ಕೆ ಅಷ್ಟು ಏನು ಬೇಕಾಗಿಲ್ಲ ಬದಕಲಿಕ್ಕೆ ಆಗಲ್ಲ ಕೆಲವು ರೂಪಾಯಿಗಳಲ್ಲಿ ನೆಮ್ಮದಿ ಕಾಣಬೇಕು ಅಂತಲ್ಲ ಬದುಕಿಲ್ಲ ಆಮೇಲೆ ಇದು ಏನಾಗುತ್ತೆ ಅಂತ ಅಂದ್ರೆ ಇಲ್ಲೇ ಒಂದು ಅದ್ಭುತ ಇಲ್ಲ ಇಲ್ಲ ಪ್ಲೇಟ್ ಖಾಲಿ ಮಾಡಿದೆ ಇಂಗೆ ಇದು ಒಂದು ಬಿಸಿಲಿನಲ್ಲಿ ಒಂದು ಕಾರ್ಡ್ ಕಟ್ಬೇಕು ಅದು ಒಂತರ ತದ್ರೂಪಿ ಕಾಡಿನ ಸ್ವರೂಪ ತಗೋ ಅಲ್ಲಿ ಒಂದು ಜೀವ ವೈವಿಧ್ಯತೆ ಇರಬೇಕು ಇಲ್ಲಿ ನಿಮಗೆ ಇಲ್ಲೇ ಒಂದು ಹುಚ್ಚು ನ್ಯಾಚುರಲ್ ರೀಜನ ಆಗ್ತಾ ಇದೆ ನಿಮಗೆ ರಿಸಲ್ಟ್ ಬಳ್ಳಿಗಳು ಅದರದೇ ಒಂದು ಪ್ರಪಂಚ ಇದನ್ನೇ ಒಂದು ನೋಡಿದರೆ ಒಂದು ಹತ್ತು ಪಿ ಎಚ್ ಆಯ್ತು ಈಗ ಒಂದು ಗಿಡ ಹಳ್ಳಿ ಚಟುವಟಿಕೆಗಳು ಆದ್ದರಿಂದ ಭೂಮಿಯ ಫಲವತ್ತತೆ ಆ ಜೀವಾಣುಗಳು ಆ ಜೀವಾಣುಗಳ ಅಭಿವೃದ್ಧಿ ಆ ಜೀವಾಣುಗಳ ವೈವಿಧ್ಯತೆ ಇಲ್ಲ ಇಲ್ಲಿ ಬರುತ್ತದೆ ಇದರದ್ದು ನಮ್ಮದೇ ಆದ ಕಾಯಿಲೆ ತಂತ್ರಜ್ಞಾನ ಡಿಸ್ಕಸ್ ಮಾಡಲ್ಲ ಇನ್ನೊಂದು ಎರಡು ಮೂರು ವರ್ಷ ಆದ್ಮೇಲೆ ಇದು ರಕ್ಷಣಾತ್ಮಕ ಕ್ರಮ ಅಷ್ಟೇ ಸುರಕ್ಷಿತ ಹೋಗುವ ಅವಕಾಶ ಮಲ್ಟಿಪಲ್ ಫ್ಯಾಕ್ಚರ ಆಗುತ್ತೆ ರಕ್ಷಣಾತ್ಮಕ ಕ್ರಮಗಳು ಏನು ಭಾರತದಲ್ಲಿ ಏನ್ ತಗೋಬೇಕು ಇದು ಸುಮ್ನೆ ಹಂಗೆ ಬಂದು ಹಂಗೆ ಹೋಗುತ್ತದೆ ಮಲ್ಟಿಪಲ್ ಫ್ಯಾಕ್ಚರ್ ಇರ್ಲಿಲ್ಲ ಆಮೇಲೆ ಏನಾಯ್ತು ಅಂದ್ರೆ ಎಷ್ಟು ದಪ್ಪ ಇರಬೇಕು ಅಂತ ಪ್ರಶ್ನೆ ಕೇಳುತ್ತಾರೆ ಶ್ರೀಗಂಧ ಕಟ್ಟ ಇಷ್ಟು ದಪ್ಪ ಆದ್ಮೇಲೆ ಈ ಸ್ಯಾಂಡಲ್ವುಡ್ ವಿಚಾರಕ್ಕೆ ಬಂದಾಗ ದೇರ್ ಇಸ್ ನೋ ಲೀನಿಯರ್ ರಿಲೇಶನ್ ಬಿಟ್ವೀನ್ ಸೈಜ್ ಆಫ್ ಪ್ಲಾಂಟ್ ವ್ಯಾಲ್ಯೂ ಆಫ್ ದಿ ಪ್ಲಾಂಟ್ ಪ್ಲಾನ್ ದೇರ್ ಇಸ್ ನೋ ಲಿನಿಯರ್ ರಿಲೇಶನ್ ಬಿಟ್ವೀನ್ ಸೈಜ್ ಆಫ್ ದಿ ಪ್ಲಾನ್ ವಾಲ್ಯೂಮ್ ಆಫ್ ಬ್ಲಾಕ್ ಈಸ್ಟ್ ದಪ್ಪ ಬೆಳೆದಿದೆ ಅದರಲ್ಲಿ ಫುಲ್ ಒಂದಿಷ್ಟು ಸುತ್ತಳತೆ ಸೆಂಟಿ ಮೀಟರ್ ಇಷ್ಟೇ ಐತೆ ಅಂತ ಅಂದ್ರೆ ಅದರೊಳಗೆ ಏನು ಇಲ್ಲ ಅನ್ನು ಆಗಿಲ್ಲ ಇಷ್ಟಿದೆ ಇದರೊಳಗೆ ಇದೆ ಓಕೆ ಅಂದ್ರೆ ದೇರ್ ಇಸ್ ನೋ ಲೀನಿಯರ್ ರಿಲೇಶನ್ಸ್ ಸೈಜ್ ದಪ್ಪ ಆಗಬೇಕು ಅನ್ನೋದಿಲ್ಲ ಸ್ಯಾಂಡಲ್ವುಡ್ ಅದು ಎಷ್ಟು ಸೆಕೆಂಡರಿ ಮೆಟಬಾಲಿಸಂ ಆಗಿದೆ ಇಟ್ ಇಸ್ ನಥಿಂಗ್ ಬಟ್ ನಾವು ಈಗಾಗಲೇ ಇಟ್ ಇಸ್ ನಥಿಂಗ್ ಫಾರ್ಮೇಶನ್ ಬ್ಲಾಕ್ ಇದೆ ಟೋಟಲ್ ನಿಮಗೆ ಎಷ್ಟು ವರ್ಷದ ಮರ ಇದು ಈಗ ಏನಪ್ಪಾ ಅಂತ ಅಂದ್ರೆ ಎಷ್ಟು ಪ್ಲಾಂಟ್ಸ್ ಚೆಸ್ತೆಗೆ ಹೋಗಿದೆ ಅದು ಈಗ ನಾವು ಹೆಚ್ಚು ನೀರು ಕೊಟ್ಟು ಗೊಬ್ಬರ ಕೊಟ್ಟು ವೆಜಿಟೇಬಲ್ ಗ್ರೂಪ್ ಆಗುತ್ತದೆ ಮತ್ತು ಮಾರುಕಟ್ಟೆಯಲ್ಲಿ ಆಮೇಲೆ ಡಿಸ್ಕಶನ್ ಮಾಡಿರಬೇಕು ಈಗ ನೀವು ಬಂದ್ರಿ ನಿಮ್ದು ಆಧಾರ್ ನಂಬರ್ ಸಿಸಿ ಕ್ಯಾಮೆರಾ ಕ್ಯಾಮೆರಾ ಮಾರುಕಟ್ಟೆ ಎಲ್ಲಿ ಮಾಡಬೇಕು ಏನು ಅಂತ ಈಗೇನಿದೆ ಎಕ್ಸಿಸ್ಟೇಶನ್ ಏನಿದೆ ಮೈಸೂರು ಸ್ಯಾಂಡಲ್ ಸೋಪಿ ಟಿ ಎಸ್ ಟಿ ಎಲ್ ಅವರೊಬ್ಬರೆ ಸಹಜವಾಗಿ ನಮಗೆ ಸ್ಪರ್ಧಾತ್ಮಕ ವರ್ಷ ನಾ ಬಂಡವಾಳಕ್ಕೆ ಬರೇ ನಿಲೇ ಇಲ್ಲ ಅನುಭವಿಸಿದ್ದೀರಿ ಸಾಕಷ್ಟು ಸ್ಪರ್ಧಾತ್ಮಕ ಬೆಲೆ ಬೇಕು ಅಂತ ಅಂದ್ರೆ ಅಲ್ಲಿ ಅವನಿಗೆ ಆಪ್ಷನ್ಸ್ ಬೇಕು ಇಲ್ಲಿ ಏನಾಗುತ್ತೆ ಅಂತ ಅಂದ್ರೆ ಈಗ ನಾವು ಕೇಸರಿ ಒಂದೇ ಕೊಡಬೇಕು ನಂಬರ್ ಆಫ್ ನಂಬರ್ ಆಫ್ ಬೈಯರ್ಸ್ ಸೆಲ್ಲರ್ ಓಪನ್ ಅಂತ ಹೇಳ್ತೀವಿ ಏನಾಯಿತು ಸೆಲ್ಲರ್ ಓಪನ್ ಅದೇ ಯಾವುದೇ ದೇಶದ ಆರ್ಥಿಕತೆಗೆ ಯಾವುದೇ ದೇಶದ ಒಂದು ಆರೋಗ್ಯವಂತ ಆರ್ಥಿಕತೆಗೆ ಮೋನೋಪೋಲಿ ಅನ್ನೋದು ಮಾರಕ ಅಲ್ಲಿ ಶೋಷಣೆ ಆಗ್ತದೆ ಅಲ್ಲಿ ವೈಜ್ಞಾನಿಕ ಬೆಲೆ ನಿರೀಕ್ಷೆ ಮಾಡುವ ಆಗಿಲ್ಲ ಇದರ ಅಪೋಸಿಟ್ ಇದೆ ಅಂತ ಅಂದ್ರೆ ನಂಬರ್ ಆಫ್ ಸೆಲ್ಲರ್ಸ್ ಬೈಯರ್ ಓಪನ್ ಅಲ್ಲೇನಿತ್ತು ನಂಬರ್ ಆಫ್ ಬೈಯರ್ಸ್ ಸೆಲ್ಲರ್ ಓಪನಿಂಗ್ ಇದ್ದ ಇಲ್ಲ ನಂಬರ್ ಆಫ್ ಸೆಲ್ಲರ್ಸ್ ಬೈಯರ್ ಓಪನ್ ಅದಕ್ಕೆ ರಾಜ್ಕುಮಾರ ಇಲ್ಲಿ ಅವನು ಯಾರಿಗೆ ಕೊಡಕ್ಕೆ ಇಲ್ಲ ಅವನಿಗೆ ಕೊಡಬೇಕು ಕೇಳುವ ಹಾಗಿಲ್ಲ ಅಂದ್ರೆ ರೈತರಿಗೆ ಇವತ್ತು ಸೂಚನೆ ಆಗ್ತಾ ಇದೆ ಆಮೇಲೆ ಇಷ್ಟು ದಿನ ಕೇಳುವವರಿಗೆ ಏಕೆಂದರೆ ಇವತ್ತು ಸರ್ಕಾರ ಅನ್ನೋದು ಶೋಷಣೆ ಅವರಿಗೆ ಸಪೋರ್ಟ್ ಆಗಿ ಇಲ್ವಾ ಯಾರು ಶೋಷಿತರು ಅಂದರೆ ಅವರಿಗೆ ಇವತ್ತು ಮಂತ್ರಿಗಳು ಇರಬಹುದು ಬೇರೆ ಬೇರೆ ಇವತ್ತು ನಾನು ನಿರಂತರ ಸಂಪರ್ಕದಲ್ಲಿ ನಮ್ಮದೇ ಆದ ಒಂದು ರೈ ಇವತ್ತು ಕೆಲಸ ಮಾಡ್ತಾ ಇದೆ ನಮಗೇನು ಅಂದ್ರೆ ಪರ್ಚೇಸ್ ಮಾಡಕ್ಕೆ ಅವಕಾಶ ಮಾಡಿಕೊಡಬೇಕು ಅಷ್ಟೇ ಸ್ಯಾಂಡಲ್ವುಡ್ ಪರ್ಚೇಸ್ ಮಾಡಕ್ಕೆ ಈ ನಮಗೆ ಏನಿದೆ ಅಂದ್ರೆ ನಾನೇ ನೂರಾರು ಬೆಳಗಾನ ಸುಮಾರು 5,000 ಎಕರೆ ರಮೇಶ್ ಬಳಿ ಇದೆ ಓ 5,000 ಇವತ್ತು ಯಾವುದೇ ದೇಶದ ಉದ್ಯಮಿ ಇವತ್ತು 5000 ಸುಮಾರು 15,000 ಬೇಕಂದ್ರೆ ಎಲ್ಲಿಗೂ ಹೋಗಬೇಕು ರಮೇಶ್ ಬೋಲೋ ಟಿಗೆ ಹತ್ತಿರ ಬಂದರೆ ಇವತ್ತು ಇದು ಏನು ಒಂದು ರೈತನ ಪರಿಸ್ಥಿತಿ ಅಂತ ಗೊತ್ತಿಲ್ಲ ನಮಗೆ ಈಗ ನಾನು ಮೌಲ್ಯವರ್ಧನೆ ಸ್ಟಾರ್ಟ್ ಆಗುತ್ತೆ ಸಾಬೂನು ಕಾಸ್ಮೆಟಿಕ್ ಸೂಪರ್ ಪರ್ಫ್ಯೂಮ್ಸ್ ಅಗರ್ಬತ್ತಿ ಆಮೇಲೆ ಪ್ರಾಡಕ್ಟ್ಸ್ ಎಲ್ಲಾ ಸ್ಟಾರ್ಟ್ ಆಗುತ್ತೆ ಬಟ್ ನಂದು ನೂರಾರು ಎಕ್ರೆ ಶ್ರೀಗಂಧ ಬೆಳಗಾಯಿತು ನನ್ನ ಒಂದು ಗಿಡಗಳನ್ನು ನಾನು ಅದನ್ನು ಮೌಲ್ಯವರ್ಧನೆ ಮಾಡಿ ಮಾರುಕಟ್ಟೆ ಮಾಡುವ ಹಾಗಿಲ್ಲ ಬಟ್ ಮೇಕ್ ಇನ್ ಇಂಡಿಯಾದ ಪ್ರದೇಶದಲ್ಲಿ ಮೌಲ್ಯವರ್ಧನೆ ಮಾಡಿ ಮಾರುಕಟ್ಟೆ ಸೃಷ್ಟಿಸಿ ಮತ್ತು ಉದ್ಯೋಗ ಸೃಷ್ಟಿ ಮಾಡಿ ಅಂತ ಹೇಳ್ತಾರೆ ಬಟ್ ಇವತ್ತು ನನಗೆ ಮಾಡಕ್ಕೆ ಅವಕಾಶ ಇಲ್ಲ ನಾನು ಇವತ್ತು ಮಾಡಿದ್ದೇವೆ ಇದು ನನಗೆ ಬೇರೆಯವರಿಂದ ಆಯ್ಲ್ ಪರ್ಚೇಸ್ ಮಾಡಿ ನಾನು ಈಗ ಸಾಬೂನು ಕಾಸ್ಮೆಟಿಕ್ಸ್ ಮಾಡಬೇಕಾಗಿದೆ ಬಟ್ ನಮಗೇನು ಸರ್ಕಾರಕ್ಕೆ ಒಂದು ವಿನಂತಿ ಏನು ಅಂತ ಅಂದ್ರೆ ಇವತ್ತು ಮಾರುಕಟ್ಟೆಗೆ ಏನಿದೆ ನಮಗೆ ಸ್ವಲ್ಪ ಲೇಬರ್ ಲೈನ್ಸ್ ಮಾಡಿ ಸ್ವಲ್ಪ ನಮಗೆ ಯಾರು ವೈಜ್ಞಾನಿಕ ಬೆಲೆ ಕೊಡುತ್ತಾರೆ ಅವರಿಗೆ ಅವಕಾಶ ಮಾಡಿಕೊಡಿ ಅಂತ ಒಂದು ವಿನಂತಿ ಇದೆ ಅದು ಸಾಕಷ್ಟು ಚರ್ಚೆ ಕೂಡ ಆಗಿದೆ ಸರ್ಕಾರದಲ್ಲಿ ಬಹುಶಃ ಮುಂದಿನ ಕೆಲವು ದಿನಗಳಲ್ಲಿ ಒಂದು ಅವಕಾಶ ಮಾಡಿಕೊಡುತ್ತದೆ ಅರಣ್ಯ ಇಲಾಖೆ ಮತ್ತು ನಾನು ಪರ್ಮಿಷನ್ ಬೇಕಾಗಿಲ್ಲ ಕಟಾವ್ ಮಾಡಕ್ ಬೇಕು ಅಂದಾಗ ನಾವೇನ್ ಕೆ ಎಸ್ ಡಿ ಯಲ್ಲಿ ಒಂದು ಅರ್ಜಿ ಕೊಡುವುದು ಮತ್ತು ಅರಣ್ಯ ಇಲಾಖೆಗೆ ಒಂದು ಅರ್ಜಿ ಕೊಡಬೇಕು ಅವರು ಕೊಡಲು ನಾವು ಪರ್ಚೇಸ್ ಮಾಡ್ತೀವಿ ಅಂತ ಅರಣ್ಯ ಇಲಾಖೆ ಅವರಿಗೆ ಅಸಿಸ್ಟೆಂಟ್ ಮೇಲೆ ಅವರು ಬಂದು ಅರಣ್ಯ ಇಲಾಖೆಯವರು ಬಂದು ಈ ಗಿಡಗಳನ್ನು ಎಣಿಕೆ ತಗೋತಾರೆ ನಾವು ಕಟ್ ಮಾಡಿ ಸಾಕಾಣಿಕೆ ಮಾಡಬೇಕು ಅವರು ಅಲ್ಲಿ ಏನ್ ಮಾಡ್ತಾರೆ ಎಲ್ಲ ಡ್ರೆಸ್ಸಿಂಗ್ ಮಾಡಿ ಇದನ್ನ ಬೇರೆ ಬೇರೆ ಬೇರೆ ಮಾಡಿ ಟ್ರೈ ಮಾಡಿ ಅದು ರೇಟ್ ಫಿಕ್ಸ್ ಮಾಡುತ್ತಾರೆ ಹೌದು ಹೌದು ಕೆ ಎಸ್ ಟಿ ಎಲ್ ಅವರು ಫಸ್ಟ್ ಒಂದು 15-20 ಪರ್ಸೆಂಟ್ ನಮಗೊಂದು 20% ಕೊಡ್ತಾರೆ ಆಮೇಲೆ ಅದು ಡ್ರೈ ಆಗ್ಲಿಕ್ಕೆ ಒಂದು ತಿಂಗಳು ಬೇಕಾಗುತ್ತೆ 8% ಇದೆ ಬಟ್ ಇದರಲ್ಲಿ ಸಾಕಷ್ಟು ನ್ಯೂನ್ಯತೆಗಳು ಇದಾವೆ ಮಾರುಕಟ್ಟೆಯಲ್ಲಿ ಇವತ್ತು ಬೇರೆಯವರು ಕೂಡ ಇಮ್ಮಿಡಿಯೇಟ್ ಪರ್ಚೇಸ್ ಮಾಡಿ ಜಗದ ಮೇಲೆ ಪೇಮೆಂಟ್ ಕೊಡುವವರಿದ್ದಾರೆ ಅವಕಾಶ ಮಾಡಿಕೊಡಿ ಅಂತ ಪ್ರೈವೇಟ್ ಟರ್ಸಿ ಯಾಕೆಂದರೆ ನಾ ಒಬ್ಬ ರೈತ ಹತ್ತಾರು ವರ್ಷ ಒಂದು ಪರಿಸರ ಕಸರು ಕೊಟ್ಟು ಪ್ರಾಣಿ ಪಕ್ಷಿ ಆಸರೆ ಕೊಟ್ಟು ಅವನು ಕೂಡ ಆರ್ಥಿಕ ವಯಸ್ಕ ಸರ್ಕಾರ ಮಾಧ್ಯಮದ ಎಲ್ಲಾ ಎಪಿಸೋಡುಗಳು ನಿಮಗೆ ಸಿಗಬೇಕು ಅಂತ ಅಂದ್ರೆ ಕಲಾ ಮಾಧ್ಯಮ ಯುಟ್ಯೂಬ್ ಚಾನೆಲ್ ಸಬ್ಸ್ಕ್ರೈಬ್ ಮಾಡಿ ಕ್ಲಿಕ್ ಮಾಡಿ ತಪ್ಪದೆ ಮಾಡಿ ಸ್ನೇಹಿತರೆ ಎಲ್ಲಾ ಸಂದೇಶಗಳನ್ನು ನೀವೀಗ ಓದಬಹುದು www.com.com.com ಈ ವೆಬ್ಸೈಟ್ ಗೆ ವಿಸಿಟ್ ಮಾಡಿ ಇಂಟರ್ವ್ಯೂ ಗಳನ್ನು ಓದಿ ಓದಿ --> Text length need to be between 0 and 5000 characters\n",
            "Error translating text: Request exception can happen due to an api connection error. Please check your connection and try again\n",
            "Error translating text: Request exception can happen due to an api connection error. Please check your connection and try again\n",
            "Error translating text: ನಾವು ಪ್ರತಿದಿನ ರಾಜ್ಯದ ನಾನಾ ಭಾಗಗಳ ಕೃಷಿ ಸಾಧಕರ ಯಶೋಗಾಥೆ ಮತ್ತು ಅವರ ಅನುಭವಗಳನ್ನು ಹೊತ್ತು ನಿದ್ದೆ ಬರ್ತಾ ಇದೆ ಆದರೆ ಇವತ್ತು ಒಬ್ಬ ವಿಭಿನ್ನ ಸಾಧಕರನ್ನು ಪರಿಚಯ ಮಾಡಿಕೊಡ್ತಾ ಇದಿವಿ ಚಿನ್ನದ ನಾಡಿನ ಇವರು ಚಿನ್ನದ ಅಷ್ಟೇ ಬೆಲೆಬಾಳುವ ಬೆಳೆ ಬೆಳೆದು ಹೊಸ ಭರವಸೆಯನ್ನು ಓಡಿಸಿದ್ದಾರೆ ಇತರ ರೈತರಿಗೆ ಪ್ರೇರಣೆಯಾಗುತ್ತದೆ ಗಂಧದ ಬೀಡು ಶ್ರೀಗಂಧದ ನಾಡು ಅಂತಾನೆ ಪ್ರಸಿದ್ಧಿ ಪಡೆದಿರುವ ರಾಜ್ಯ ನಮ್ಮ ಕರ್ನಾಟಕ ಇದಕ್ಕೆ ನಾವು ಹೆಮ್ಮೆ ಪಡಲೇಬೇಕು ಈ ಮೊದಲು ಶ್ರೀಗಂಧವನ್ನು ರೈತರು ತಮ್ಮ ಜಮೀನಿನಲ್ಲಿ ಬೆಳೆಯುವ ಹಾಗಿರಲಿಲ್ಲ ಆದರೆ ಇಂದು ಆ ಸಮಸ್ಯೆ ಇಲ್ಲ ಸರ್ಕಾರವೇ ಈ ಬೆಳೆ ಬೆಳೆಯುವ ಕೀ ಪ್ರೋತ್ಸಾಹ ನೀಡುತ್ತಿದೆ ಹೀಗಾಗಿ ಕಳೆದ ಕೆಲವು ವರ್ಷಗಳಿಂದ ರಾಜ್ಯದ ವಿವಿಧ ಹಿಡಿ ಇದರ ಕೃಷಿ ಪ್ರಾರಂಭವಾಗಿದೆ ಇತ್ತೀಚಿನ ದಿನಗಳಲ್ಲಂತೂ ಅನೇಕ ರೈತರು ಇದರ ಹಿಂದೆ ಬಿದ್ದಿದ್ದಾರೆ ಚಿನ್ನದ ನಾಡು ಬಯಲು ಸೀಮೆ ಕೋಲಾರ ಜಿಲ್ಲೆಯ ಗೋಪಾಲಕೃಷ್ಣ ಸುಮಾರು 12 ಎಕರೆಯಲ್ಲಿ ಶ್ರೀಗಂಧ ಬೆಳೆಯುವ ಮೂಲಕ ಸುತ್ತಮುತ್ತಲ ರೈತರ ಬೆರೆಸಿದ್ದಾರೆ ಇಲ್ಲಿ ನೀವು ನೋಡ್ತಾ ಇರೋದು ಕೋಲಾರ ತಾಲೂಕು ಹರಹಳ್ಳಿ ಗ್ರಾಮದ ಗೋಪಾಲಕೃಷ್ಣ ಅವರ ತೂಕ ಇಲ್ಲಿರುವ ಶ್ರೀಗಂಧದ ಗಿಡಗಳಿಗೆ ಸುಮಾರು ಆರು ವರ್ಷ ವಯಸ್ಸಾಗಿದೆ ಸುಮಾರು ಎರಡು ಸಾವಿರಕ್ಕೂ ಅಧಿಕ ಮರಗಳು ಇಲ್ಲಿವೆ ನೀರಿನ ಪೂರೈಕೆಗಾಗಿ ರೈತರು ಹನಿ ನೀರಾವರಿಯನ್ನು ಅಳವಡಿಸಿಕೊಂಡಿದ್ದಾರೆ ಶ್ರೀಗಂಧ ಪರಾವಲಂಬಿ ಗಿಡ ಹೀಗಾಗಿ ಇದನ್ನು ಮಾವಿನಹಳ್ಳಿ ಮಿಶ್ರ ಬೆಳೆಯಾಗಿ ಬೆಳೆಯಲಾಗಿದೆ ಎಂದರೆ ರೈತ ಗೋಪಾಲಕೃಷ್ಣ ಕರ್ನಾಟಕ ಈ ಪ್ರೂನಿಂಗ್ ಯಾಕ್ ಮಾಡಿದಿವಿ ಅಂದ್ರೆ ಈ ಗಿಡ ಸ್ವಲ್ಪ ಡೆವಲಪ್ ಆಗಲಿ ಕೆಳಗಡೆ ಮಾಡಲ್ಲ ಕೆಳಗಡೆಯಿಂದ ಒಂದು ಮೂರು ಅಡಿ ಮಾತ್ರ ತೆಗಿತೀನಿ ಅದರ ಮೇಲೆ ಎಲ್ಲಾ ಹಂಗೆ ಬಿಟ್ಟಿದ್ದೇನೆ ಈಗ ಆರು ವರ್ಷ ಆಗಿದೆ ನಾವು ನಾಟಿ ಮಾಡಿ ಇದು ಜಾಸ್ತಿ ಬೆಳವಣಿಗೆ ಬೆಳೆಯಲ್ಲ ಇದು ನಿಧಾನವಾಗಿ ಬೆಳೆಯುತ್ತದೆ ಯಾಕೆ ಅಂದ್ರೆ ಗಂಧದ ಸಾಮಾನವಾಗಿ ಡಿಪಾರ್ಟ್ಮೆಂಟ್ ಅವರು 10 ವರ್ಷ 12 ವರ್ಷ ಆದರೆ ನನ್ನ ಪ್ರಕಾರ 20 ವರ್ಷ ಬೇಕೇ ಬೇಕಾಗುತ್ತದೆ ಮಾವನನ್ನು ಮಾವ ಅಲ್ಲಿ ತಗೊಂಡು ಇದು ಮಾಡ್ತಾ ಇದೀನಿ ಶ್ರೀಗಂಧ ಅತಿ ಬೇಲಿ ಬಾಳು ಮರ ಕಳ್ಳ ಕಾಗದ ರೈತರಿಗೆ ಒಂದು ದೊಡ್ಡ ಭಯ 15ರಿಂದ 20 ವರ್ಷಗಳ ಕಾಲ ಪೋಷಣೆ ಮಾಡಿ ಬೆಳೆಸಿದ ಮರಗಳು ಇನ್ನೊಬ್ಬರ ಪಾಲಾಗಿ ರೈತ ಆರ್ಥಿಕವಾಗಿ ನಷ್ಟಕ್ಕೆ ಗುರಿಯಾಗುತ್ತಾನೆ ಅಲ್ಲದೆ ಶ್ರಮ ಮತ್ತು ಸಮಯ ಕೂಡ ಹಾಳು ಅದ್ರಿಂದ ಸರ್ಕಾರ ಶ್ರೀಗಂಧ ಮರಗಳ ರಕ್ಷಣೆಗೆ ಸೂಕ್ತ ವ್ಯವಸ್ಥೆ ಕಲ್ಪಿಸಬೇಕೆಂದು ಗೋಪಾಲಕೃಷ್ಣ ಅವರ ಅಭಿಪ್ರಾಯ ಇವತ್ತು ಗಂಗಾ ಅಂದ್ರೆ ಎಲ್ಲಾ ರೈತರು ಭಯಪಡ ಹಾಕಿದರೆ ನೀವು ಹೇಗೆ ಮಾರಾಟ ಇದು ಸೋಪ್ ಫ್ಯಾಕ್ಟರಿ ಮೈಸೂರು ಸೋಪ್ ಫ್ಯಾಕ್ಟರಿಯಲ್ಲಿ ಇದು ಬೆಂಗಳೂರಲ್ಲಿ ಒಂದು ಫ್ಯಾಕ್ಟರಿ ಇದೆ ಅಲ್ಲಿ ಅಗ್ರಿಮೆಂಟ್ ಮಾಡಿಕೊಂಡವರು ಅವತ್ತು ಏನ್ ರೇಟ್ ಗೆ ನಾವು ನಮಗೆ ಕೊಡಿ ನಮಗೆ ಪರ್ಚೇಸ್ ಮಾಡಬೇಕು ಆದ್ರಿಂದ ನಾನು ಅಗ್ರಿಮೆಂಟ್ ಮಾಡಿ ಕೊಟ್ಟಿಲ್ಲ ಈ ಗಂಧದ ಕೃಷಿ ರೈತರಿಗೆ ಲಾಭದಾಯಕ ಹೇಗೆ ಅಂದ್ರೆ ಇವತ್ತು ಟೊಮೇಟೊ ರೇಟ್ ಸಿಗಲ್ಲ ಸೋ ಇವತ್ತು ರೈತರೆಲ್ಲ ಯಾಕೆ ಅಂದ್ರೆ ಇವತ್ತು ನಾವು ನೋಡ್ತೀರಾ ನೀವು ಇವತ್ತು ಅದೇ ಬೆಳೆ ಪ್ರತಿಯೊಬ್ಬ ರೈತನು ಹೇಳುವಾಗ ಬೆಳೆದು ಸೊ ಅದಕ್ಕೆ ಮಾಡಿ ಕೊನೆಗೆ ಸಂಕಷ್ಟಕ್ಕೆ ಸಿಲುಕಿ ಇವತ್ತು ರೈತ ಆತ್ಮಹತ್ಯೆ ಮಾಡಿಕೊಳ್ಳುವಂತಹ ಪರಿಸ್ಥಿತಿಗಳಲ್ಲಿ ಇದೆ ಅದಕ್ಕೋಸ್ಕರ ಇವತ್ತು ನಮ್ಮೂರಿನವರು ಆ ಒಂದು 8 ಎಕರೆ ಪ್ರದೇಶದಲ್ಲಿ ಇವತ್ತು ಗಂಧದ ಗಿಡ ಮತ್ತೆ ಮಾವು ಇದರಲ್ಲಿ ಪಪ್ಪಾಯ ಮತ್ತೆ ಮತ್ತೆ ಒಂದು ಉಪ್ಪು ಬೆಳೆಗಳನ್ನು ಬೆಳೆದು ಲಾಭದಾಯಕ ದಲ್ಲಿದ್ದಾರೆ ಶ್ರೀಗಂಧದ ಮಾಡಿದ ಮೇಲೆ ಅವುಗಳ ಬೆಳವಣಿಗೆಗೆ ತಕ್ಕಂತೆ ಘೋಷಣೆಯನ್ನು ಮಾಡಬೇಕಾಗಿದೆ ರೈತರು ನೆಲದಿಂದ ಮೂರು ಅಡಿ ಎತ್ತರದವರೆಗೆ ಬರುವ ಎಲ್ಲಾ ಕೊಂಬೆಗಳನ್ನು ಕತ್ತರಿಸಿ ತೆಗೆಯುತ್ತಾರೆ ಇದು ಗಿಡ ನೆರವಾಗಿ ಎತ್ತರಕ್ಕೆ ಬೆಳೆಯಲು ಅನುಕೂಲವಾಗುತ್ತದೆ ರೈತರು ಸಣ್ಣಪುಟ್ಟ ರೆಂಬೆಗಳನ್ನು ಕತ್ತರಿಸಿ ಅದರ ಸೊಪ್ಪನ್ನು ಗುರಿ ಮತ್ತು ಮೇಕೆಗಳಿಗೆ ಆಹಾರವಾಗಿ ನೀಡುತ್ತಿದ್ದಾರೆ ಈ ಮೊದಲು ರೈತರಿಗೆ ತಮ್ಮ ಜಮೀನಿನಲ್ಲಿ ಶ್ರೀಗಂಧ ಬೆಳೆಯೋಕೆ ಪರ್ಮಿಷನ್ ಇರ್ಲಿಲ್ಲ ಇಂದು ಕಾನೂನು ರೈತ ಯಾವುದೇ ಟೆನ್ಶನ್ ಇಲ್ಲದೆ ಶ್ರೀಗಂಧ ಬೆಳೆಯಬಹುದು ಇದಕ್ಕೆ ತೋಟಗಾರಿಕೆ ಮತ್ತು ಅರಣ್ಯ ಇಲಾಖೆ ಕೂಡ ಶ್ರೀಗಂಧದ ಮರಗಳನ್ನು ಕಾಡಿನಲ್ಲಿ ಮಾತ್ರ ನೋಡ್ತಾ ಇದ್ವಿ ಆದರೆ ಎರಡು ಸಾವಿರದ ಒಂದರಿಂದ ಸರ್ಕಾರ ಶ್ರೀಗಂಧವನ್ನು ರೈತನ ಮನೆ ಬಾಗಿಲಿಗೆ ತಂದಿತ್ತು ಕಾನೂನು ರೈತ ತನ್ನ ಜಮೀನಿನಲ್ಲಿ ಈ ಬೆಳೆ ಬೆಳೆಯೋಕೆ ಅನುಮತಿಯನ್ನು ನೀಡುತ್ತದೆ ಇಂದು ರಾಜ್ಯದಲ್ಲಿ ಸುಮಾರು ಒಂದುವರೆ ಸಾವಿರ ಎಕರೆ ಪ್ರದೇಶದಲ್ಲಿ ಈ ಬೆಳೆ ತನ್ನ ಸುವಾಸನೆಯನ್ನು ಬೀಳ್ತಾ ಇದೆ ಎಂದು ತೋಟಗಾರಿಕೆ ಮತ್ತು ಅರಣ್ಯ ಇಲಾಖೆ ಕೂಡ ಶ್ರೀಗಂಧದ ಕೃಷಿಗೆ ಪ್ರಾರಂಭದಲ್ಲಿ ಎಲ್ಲ ರೀತಿಯ ಸಪೋರ್ಟ್ ಅನ್ನು ರೈತರಿಗೆ ನೀಡ್ತಾ ಇದೆ ಮೊದಲ ವರ್ಷದಲ್ಲಿ ರೈತರಿಗೆ 40,000 ದಷ್ಟು ಸಹಾಯಧನ ಸಿಗುತ್ತೆ ರೈತರು ನಾಟಿಗೆ ಶ್ರೀಗಂಧದ ಸಸಿಗಳನ್ನು ಖರೀದಿಸುವಾಗ ಅಧಿಕೃತ ನರ್ಸರಿ ಅಥವಾ ಅರಣ್ಯ ಇಲಾಖೆಯಿಂದ ಖರೀದಿಸಬೇಕು ಅಂತಾರೆ ತೋಟಗಾರಿಕೆ ಉಪನಿರ್ದೇಶಕರಾದ ಕೃಷ್ಣಮೂರ್ತಿ ಹಿಂದೆ ಈ ತರಹದ ಅವಕಾಶ ಸಿಗಲಿಲ್ಲ ಸೋ ಈಗ ಇದನ್ನು ಮಾಡಿದರೆ ಫಾರೆಸ್ಟ್ ಡಿಪಾರ್ಟ್ಮೆಂಟ್ ಮತ್ತೆ ತೋಟಗಾರಿಕೆ ಇಲಾಖೆ ಎರಡು ಕೂಡ ಶ್ರೀಗಂಧ ಬೆಳೆಯುವುದಕ್ಕೆ ರೈತರಿಗೆ ಸಹಾಯಧನ ಕೊಡ್ತೀವಿ ಪ್ರಮೋಟ್ ಮಾಡ್ತೀನಿ ಮತ್ತೆ ಅದಕ್ಕೆ ನೀಡಬೇಕಾಗುತ್ತದೆ ಫ್ರೂಟ್ಸ್ ಮತ್ತೆ ಹಸಿರು ಅಂತ ಎರಡು ವೆಬ್ಸೈಟ್ ಇದಾವೆ ಅಲ್ಲಿ ಅವರು ಫಾರ್ಮ್ ರಿಜಿಸ್ಟ್ರೇಷನ್ ಬೇಕಾಗುತ್ತದೆ ಅವರು ಅದನ್ನು ಆದಮೇಲೆ ಅಥವಾ ಫಾರೆಸ್ಟ್ ಡಿಪಾರ್ಟ್ಮೆಂಟ್ ಅಲ್ಲಿ ಸೀಲಿಂಗ್ ತಗೊಂಡು ತಮ್ಮ ಇದರಲ್ಲಿ ನಾಟಿ ಮಾಡಿಕೊಂಡು ಸೋ ನೆಕ್ಸ್ಟ್ ಪ್ರೋಸೆಸ್ ಅಪ್ಲಿಕೇಶನ್ ಅನ್ನು ನೋಡಬಹುದು ಜೊತೆಗೆ ನೀಲಗಿರಿ ಎಂದು ವಿಪರೀತ ಅದರ ಬದಲು ರೈತರು ಇತರೆ ಬೆಳೆಗಳೊಂದಿಗೆ ರಕ್ತಚಂದನ ಶ್ರೀಗಂಧ ಹೆಬ್ಬೇವಿನ ಅಂತಹ ಅರಣ್ಯ ಬೆಳೆಗಳನ್ನು ಬೆಳೆಯುವುದು ಹೆಚ್ಚು ಸೂಕ್ತ ಕಳೆದ 8-10 ವರ್ಷಗಳಿಂದ ಶ್ರೀಗಂಧ ಕೃಷಿಯಲ್ಲಿ ರೈತ ಹೆಚ್ಚಿನ ಆಸಕ್ತಿ ತೋರುತ್ತಿದ್ದಾನೆ ಇಂದು ರೈತರಿಗೆ ಕೃಷಿ ಅರಣ್ಯ ಪ್ರೋತ್ಸಾಹ ಯೋಜನೆಯಲ್ಲಿ ಮೂರು ವರ್ಷಕ್ಕೆ ಗಿಡಗಳ ನಿರ್ವಹಣೆಗೆ ಒಟ್ಟು ನೂರು ರೂಪಾಯಿ ಸಹಾಯಧನ ಸಿಕ್ತಾ ಇದೆ ಗಿಡಗಳು ಕೊಯಿಲಿನ ಹಂತ ತಲುಪಿದ ಮೇಲೆ ಸರ್ಕಾರ ನಿಗದಿ ಮಾಡಿರುವ ಬೆಲೆಗೆ ಅಥವಾ ಸರ್ಕಾರ ಗುರುತಿಸಿರುವ ಖಾಸಗಿ ಕಂಪನಿಗಳಿಗೆ ರೈತರು ಮಾರಾಟ ಮಾಡಬಹುದು ಅಂತಾರೆ ಅರಣ್ಯ ಇಲಾಖೆ ಅಧಿಕಾರಿ ಹೆಚ್ಚಿನ ಸಂಖ್ಯೆ ಬಳಸಬಹುದು ನಾನು ಹೇಳಬೇಕು ಸ್ವಲ್ಪ ತುಂಬಾ ಎಲ್ಲಾ ಪೂರ್ತಿ ನಮ್ಮ ಜಮೀನಿನಲ್ಲಿ ಹಾಕಿಬಿಡುತ್ತೇನೆ ನಾವು ಮೊದಲು ಅಂತರದಲ್ಲಿ ನಾವು ಈಗ ಇಲ್ಲಿ ಏನ್ ಮಾಡ್ತಾ ಇದ್ದೀರಾ ಕೆಲವರು ಇದು ಒಂದು ಪ್ರಕ್ರಿಯೆ ಕೆಲವರು ಈಗ ಇಬ್ಬರು ಸೇರಿ ಬೆಳಗ್ಗೆ ಮಾಡಬಹುದು ಅಂತ ಈಗ ಆಗಿದೆ ಹಾಗಾಗಿ ಅದನ್ನು ಸ್ವಲ್ಪ ಅನುಕೂಲ ಆಗುತ್ತೆ ರಕ್ಷಣೆ ಮಾಡಬೇಕು ಈ ಒಂದು ಅಳವಡಿಕೆ ಒಂದು ಸಹಕರಿಸಬಹುದು ರೈತರಿಗೆ ನನ್ನ ಉದಾರಿ ದುಡ್ಡಿನ ಬಿಳಿ ಶ್ರೀಗಂಧ ರೈತರಿಗೆ ಹೊಸ ಭರವಸೆ ಮೂಡಿಸುತ್ತಿದೆ ಸರ್ಕಾರ ರೈತರಿಗೆ ಶ್ರೀಗಂಧ ಬೆಳೆಯುವ ಕೀ ಪ್ರೋತ್ಸಾಹ ನೀಡುತ್ತಿರುವುದು ಸಂತಸದ ವಿಷಯ ಆದರೆ ಬೆಳೆದು ನಿಂತ ಮರದಿಂದ ರೈತ ರಕ್ಷಿಸಿಕೊಳ್ಳುವುದಕ್ಕೆ ಸೂಕ್ತ ವ್ಯವಸ್ಥೆ ಕಲ್ಪಿಸಬೇಕಾಗಿದೆ ಇದಕ್ಕೋಸ್ಕರ ಮರಗಳಿಗೆ ಚೀಪ್ ಅಳವಡಿಸುವ ಬಗ್ಗೆ ಸಂಶೋಧನೆ ಕೂಡ ನಡೆದಿದ್ದು ಆದಷ್ಟು ಬೇಗ ಈ ತಂತ್ರಜ್ಞಾನ ಅನ್ನುವುದೇ ನಮ್ಮ ಆಶಯ ರಘುರಾಜ್ ಮ್ಯೂಸಿಕ್ ಕನ್ನಡ ಕೋಲಾರ ಈ ಬೆಳೆಯ ಬೇಸಾಯಕ್ಕೆ ಸರ್ಕಾರ ಕೂಡ ಪ್ರೋತ್ಸಾಹ ನೀಡುತ್ತಾರೆ ಇದಕ್ಕೆ ಮಾರುಕಟ್ಟೆಯ ಸಮಸ್ಯೆ ಇಲ್ಲ ದಲ್ಲಾಳಿಗಳ ಕಾಟ ಇಲ್ಲ ಮತ್ತು ಬೆಲೆಯ ಏರಿಳಿತ ಬಂತು ಇಲ್ಲವೇ ಇಲ್ಲ ಹೀಗಾಗಿ ರಾಜ್ಯದ ಹಲವಾರು ರೈತರು ಈ ಬೆಳೆಯ ಬೇಸಾಯದಲ್ಲಿ ತಮ್ಮ ಅದೃಷ್ಟ ಪರೀಕ್ಷೆ ನಡೆಸಿದ್ದಾರೆ ಅದು ಯಾವ ಬೆಲೆ ಬಂದು ನೋಡ್ಕೋತಾರೆ ಮಳೆಯ ಭಾವ ಹೆಚ್ಚಾಗುತ್ತಿರುವ ಉತ್ಪಾದನಾ ವೆಚ್ಚ ಕೂಲಿ ಕಾರ್ಮಿಕರ ಕೊರತೆ ಮಾರುಕಟ್ಟೆ ಸಮಸ್ಯೆ ಮತ್ತು ಬೆಳ್ಳಿಯ ಏರಿಳಿತದಿಂದ ಇದು ರೈತ ಕಂಗಾಲಾಗಿ ಹೋಗಿದ್ದಾರೆ ಸಾಂಪ್ರದಾಯಿಕ ಬೆಳೆಗಳನ್ನು ಬಿಟ್ಟು ಪರ್ಯಾಯ ಬೆಳೆಗಳನ್ನು ಹರಿಸಿದ್ದಾರೆ ಇಂತಹ ಪರಿಸ್ಥಿತಿಯಲ್ಲಿರುವ ರೈತರಿಗೆ ತಾಳಿ ಬೆಲೆ ಹೊಸ ಭರವಸೆ ಮೂಡಿಸುತ್ತಿದೆ ಇಂದು ರಾಜ್ಯದ ಹಲವಾರು ರೈತರು ಈ ಬೆಳೆಯ ಹಾವೇರಿ ಜಿಲ್ಲೆ ಬ್ಯಾಡಗಿ ತಾಲೂಕು ಚಿಕ್ಕಬಾಸುರು ಗ್ರಾಮದ ಅರವಿಂದ್ ಲಿಂಗದಹಳ್ಳಿ ಕೂಡ ಒಬ್ಬರು ವರ್ಷದಿಂದ ಆರು ವಿಕರಿ ಜಮೀನಿನಲ್ಲಿ ತಾಳಿ ಕೃಷಿ ಮಾಡುತ್ತಿದ್ದಾರೆ ಎಕರೆಗೆ ಸುಮಾರು 50 ಗಿಡಗಳಂತೆ ಒಟ್ಟು 300 ಗಿಡಗಳನ್ನು ಇಲ್ಲಿ ನಿರ್ವಹಣೆ ಮಾಡಲಾಗುತ್ತೆ ಬೆಳಗ್ಗೆ ಹನಿ ನೀರಾವರಿ ಪದ್ಧತಿ ಅಳವಡಿಸಿಕೊಳ್ಳಲಾಗಿತ್ತು ಕಂಪನಿಯವರ ಮಾರ್ಗದರ್ಶನದಂತೆ ಕಾಲಕಾಲಕ್ಕೆ ಪೋಷಕಾಂಶಗಳನ್ನು ಹೊಂದಿದ್ದು ಗಿಡಗಳು ಉತ್ಕೃಷ್ಟವಾಗಿ ಬೆಳೆದು ನಿಂತಿದೆ ಕೆಲಸ ಮಾಡದಿದ್ದರೆ ಏನು ಬೆಳೆ ಬೆಳೆಯುವುದಿಲ್ಲ ತಾಳೆ ಬೆಳೆಯಲಿಲ್ಲ ಅದರಲ್ಲಿ ಅದಕ್ಕೆ ಸರ್ ಇದು ನಮ್ಮ ಕೆಲಸದ ಮೇಲೆ ಅಂದ್ರೆ ಮೂರು ವರ್ಷಕ್ಕೆ ನಾಲ್ಕು ಕಟಿಂಗ್ ಮಾಡಿಸಬೇಕು ನಮ್ಮ ತೋಟದಲ್ಲಿ ಎರಡುವರೆ ವರ್ಷದಲ್ಲಿ ಸ್ಟಾರ್ಟ್ ಹೆಸರು 30 ರಿಂದ 35 ವರ್ಷ ನಿರಂತರವಾಗಿ ತಿಂಗಳಿಗೆ ಎರಡು ಕಡೆ ಹೋಗುವುದು ನಿರಂತರವಾಗಿ ಅದೇ ಬರುತ್ತೆ ಖರ್ಚು ಕಡಿಮೆ ಸರ್ ಇದರಲ್ಲಿ ಏಳು ವರ್ಷದ ತಾಳೆ ಬೆಳೆ ಆಗಿದೆ ಈಗಾಗಲೇ ಇವನು 30 ರಿಂದ 40 ಟನ್ ತಾಳೆ ಕೊಟ್ಟಿದ್ದಾನೆ ಇನ್ನು ಮುಂದೆ ಹೆಚ್ಚಿನ ತಾಳೆಯನ್ನು ಕೊಡುತ್ತಾನೆ ಲಾಂಗ್ ಟರ್ಮ್ ಕ್ರಾಪ್ ಗಳನ್ನು ಮಾಡ್ರಿ ನೀವು ಬರಿ ಪ್ರತಿವರ್ಷ ಸಾಂಪ್ರದಾಯಿಕ ಬೆಳೆ ಬೆಳೆದ ಶುಭಾಶಯಗಳು ಅಂತ ನನಗೆ ಇಂಧನ ಮಾರ್ಗದರ್ಶನ ಕೊಟ್ಟಿದ್ರು ಹಿಂಗಾಗಿ ನಾನು ಮೂರು ಎಕರೆ ಅಡಿಕೆ ತೋಟ ಮಾಡಿದೆ ತದನಂತರ ಮಾಡಿ ಈಗಾಗಲೇ ನಾನು ಸಹ ಹಳೆ ತೋಟವನ್ನು ಈಗ ಹಣ್ಣು ಕೊಡಕ್ಕ ಪ್ರಾರಂಭ ಮಾಡಿದ್ದೇನೆ ನಾನು ಈಗ ಮೂರು ವರ್ಷ ಆಗಿರೋದ್ರಿಂದ ನಾನು ಕೊಟ್ಟಿದ್ದು ತಾಳಿ ಕೃಷಿ ಕೇಂದ್ರ ಸರ್ಕಾರದ ಯೋಜನೆಯಾಗಿದ್ದು ಇದನ್ನು ತೋಟಗಾರಿಕಾ ಇಲಾಖೆಯ ಮೂಲಕ ಅನುಷ್ಠಾನಗೊಳಿಸಲಾಗಿದೆ ಬೆಳೆದ ಬೆಳೆಯನ್ನು ನಿಗದಿ ಮಾಡಿದ ಬೆಳಿಗ್ಗೆ ಕಂಪನಿಯ ಕೊಲ್ಲುವುದರಿಂದ ಮಾರುಕಟ್ಟೆಯ ತೊಂದರೆ ಇಲ್ಲ ಪ್ರಾರಂಭದಲ್ಲಿ ಸಸಿಗಳಿಗೆ ಹಾಗೂ ಸುಮಾರು ಆರೇಳು ವರ್ಷಗಳ ಕಾಲ ಗೊಬ್ಬರವನ್ನು ಕಂಪನಿಯ ನೀಡುವುದರಿಂದ ರೈತನಿಗೆ ಆರ್ಥಿಕ ಹೊರೆ ಕೂಡ ಆಗುವುದಿಲ್ಲ ಅನ್ನುವುದು ಹಲವು ರೈತರ ಅಭಿಪ್ರಾಯ ಒಟ್ಟಾರೆ ಕಳೆದ ಆರು ವರ್ಷದಿಂದ ತಾಳೆ ಖುಷಿಯಾಗಿ ತೊಡಗಿಕೊಂಡಿರುವ ಅರವಿಂದ್ ಲಿಂಗದಲ್ಲಿ ಬರುವ ವರ್ಷಗಳಲ್ಲಿ ಉತ್ತಮ ಇಳುವರಿ ಮತ್ತು ಆದಾಯ ಪಡೆಯುವ ಭರವಸೆ ಹೊಂದಿದ್ದಾರೆ ಅಂತ ಹೇಳಿ ಸಾಂಪ್ರದಾಯಿಕ --> Text length need to be between 0 and 5000 characters\n",
            "Error translating text: Request exception can happen due to an api connection error. Please check your connection and try again\n",
            "Error translating text: Request exception can happen due to an api connection error. Please check your connection and try again\n",
            "Error translating text: nan --> text must be a valid text with maximum 5000 character,otherwise it cannot be translated\n",
            "Error translating text: Request exception can happen due to an api connection error. Please check your connection and try again\n",
            "Error translating text: Request exception can happen due to an api connection error. Please check your connection and try again\n",
            "Error translating text: Request exception can happen due to an api connection error. Please check your connection and try again\n",
            "Error translating text: Request exception can happen due to an api connection error. Please check your connection and try again\n",
            "Error translating text: Request exception can happen due to an api connection error. Please check your connection and try again\n",
            "Error translating text: ಈಗಿನ ಮಾರ್ಕೆಟ್ 16 ಕೆಜಿಗೆ 14,000 ಏನೋ ಇದೆ ಅಂತ ಹೇಳಿ ನಮ್ಮ ದೇಶದಲ್ಲಿ ಹೇಳ್ತಾರೆ ಈಗ ಸುಮಾರು 10 ವರ್ಷದ ಹಿಂದೆ ಒಂದುವರೆ ಸಾವಿರ ಎರಡು ಸಾವಿರ ಸಾವಿರ ರೂಪಾಯಿಗೆ ಹೋಗಿದೆ ಶ್ರೀಗಂಧದ ಬೀಜದಿಂದ ಬೇರೆ ಬೇರೆ ಉತ್ಪನ್ನಗಳನ್ನು ಮಾಡುತ್ತೇವೆ ಅಂತ ಹೇಳಿ ತಿಳಿಸಿರುತ್ತಾರೆ ನೀವು ಮೂರು ವರ್ಷದ ಮೇಲ್ಪಟ್ಟ ಅಂತ ಸೊಸೆಯಿಂದ ಬರುವ ಬೀಜವನ್ನು ಕಲೆಕ್ಟ್ ಮಾಡಿ ಇಟ್ಕೊಂಡ್ರೆ ನಾವು ಅದನ್ನ ಬೈ ಬ್ಯಾಕ್ ಮಾಡ್ತೀವಿ ಗಿಡದಲ್ಲಿ ಶ್ರೀಗಂಧ ಅಡಿಕೆ ಬದಲು ಮಾಡಬೇಕು ಅಂತ ಹೊರಟಾಗ ಬೇರೆಯವರ ಹತ್ರ ಇಲ್ಲ ನಾವು ಚರ್ಚೆ ಮಾಡಿ ಹಲವಾರು ಕೆಡುತ್ತದೆ ಮತ್ತೆ ಮುಂದೆ ಅನುಕೂಲವಾಗುತ್ತದೆ ತುಂಬಾ ಬೇಡಿಕೆ ಇದೆ ಅಂತ ಹೇಳಿಕೊಟ್ಟು ನಾವು ಶ್ರೀಗಂಧವನ್ನು ನಾಟಿ ಮಾಡ್ಕೊಂಡ್ವಿ ತೋಟದಲ್ಲಿ ಇದು ಮೂರು ವರ್ಷ ಆಗಿದೆ ನಾಟಿ ಮಾಡುವುದಕ್ಕೆ ನಾಟಿ ಮಾಡಿ ಮೂರು ವರ್ಷ ಆಗಿದೆ ಈಗ ಬೆಳವಣಿಗೆ ಆಗಿದೆ ಸಾಕಷ್ಟು ಬೆಳವಣಿಗೆ ಆಗಿದೆ ನಮಗೆ ಸಬ್ಸಿಡಿ ದರದಲ್ಲಿ ಸರ್ಕಾರ ಕರ್ನಾಟಕ ರಾಜ್ಯ ಸರ್ಕಾರ ಅರಣ್ಯ ಇಲಾಖೆಯಿಂದ ನಾವು ಸೊಸೆಯನ್ನು ತಗೊಂಡ್ವಿ ಅಲ್ಲಿ ಮೂರು ರೂಪಾಯಿಯಂತೆ ನಮಗೆ ಒಂದು ಸಸಿ ರೇಟ್ ಮಾಡಿಕೊಟ್ಟರು ನಾವು ಸಾಲಿಂದ ಸೂಸಿ ನೆಡಬೇಕು ಆದರೆ ನಾವು ಸಾಲಿಂದ ಸಾಲಿಗೆ 10 ಅಡಿಗಳಷ್ಟು ಸಾಲಿನಿಂದ ಸಾಲಿಗೆ ಗುಂಡಿ ತಗೊಂಡಾಗ ಗುಂಡಿ ಒಂದೂವರೆ ಅಡಿ ಹಾಳ ಒಂದುವರೆ ಅಡಿ ಅಡ್ಡ ಅಗಲ ಮತ್ತೆ 1:30 ಆಳ ಗುಂಡಿ ತೆಗೆದು ಅದಕ್ಕೆ ಕೊಟ್ಟಿಗೆ ಗೊಬ್ಬರ ಒಂದು ಅರ್ಧ ಅರ್ಧ ಮಂತ್ರಿ ಒಂದು ಸ್ವಲ್ಪ ಬೇಗನೆ ಇಂಡಿ ಒಂಚೂರು ಹಂಗೆ ಇಂಡಿಯಾ ಹಾಕಿ ಸೊಸೆಯನ್ನು ನಾಟ ಮಾಡಿದ್ವಿ ಅವು ಮಳೆಗಾಲದಲ್ಲಿ ನಾಟಿ ಮಾಡಿದ್ದಾಗ ಈಗ ಸುಮಾರು 19 ನೇ ಇಸವಿ ಜೂನ್ ನಲ್ಲಿ ನಾಟಿ ಮಾಡಿ ಮೂರು ವರ್ಷ ಆಗಿದೆ ಬೆಳವಣಿಗೆ ಆಗುತ್ತಿದೆ ಶ್ರೀಗಂಧಕ್ಕೆ ಸಾಮಾನ್ಯವಾಗಿ ರೋಗಗಳು ಕಡಿಮೆ ತೇವ ಜಾಸ್ತಿ ಆದಾಗ ಮಾತ್ರ ಅತಿಯಾದ ಮಳೆಗಾಲದಲ್ಲಿ ಆಗುತ್ತದೆ ಗಿಡಕ್ಕೆ ಯಾವುದೇ ರೋಗರುಜಿನಗಳು ಅದಕ್ಕೆ ತುಂಬಾ ತೇವ ಆದಾಗ ಎಲೆ ಸ್ವಲ್ಪ ನೋಡ್ಕೊಂಡು ಅವಾಗ ನಾವು ಅಲ್ಲಿ ಸಂಬಂದಪಟ್ಟಂತೆ ನಾವು ನೋಡ್ಕೋತೀವಿ ಇವಾಗ ಅದಕ್ಕೆ ಸ್ವಲ್ಪ ನಾವು ಸ್ವಲ್ಪ ಔಷಧಿಗಳನ್ನು ಇರುತ್ತೆ ಅದು ಸಾಯುತ್ತೆ ಅದನ್ನು ನೋಡಿಕೊಂಡು ನಾವು ಸ್ವಲ್ಪ ಕಾಂಡಕ್ಕೆ ಕ್ಲೋಸ್ ಮಾಡಬೇಕಾಗುತ್ತೆ ನೀರು ಮಾಮೂಲಿ ಟ್ರಿಪ್ ಗೆ ನೀರಲ್ಲಿ ಹೋಗುತ್ತದೆ ನೀರು ಇದಕ್ಕೆ ಹೆಚ್ಚುವರಿಯಾಗಿ ನೀರೇನು ಅಂತ ಅವಶ್ಯಕತೆ ಇರುವುದಿಲ್ಲ ಅದಕ್ಕೆ ನಾವು ರೇಷ್ಮೆ ಗಿಡ ಅಂತ ಅಂದಾಗ ನಾವು ಶ್ರೀಕಾಂತ ಮೊದಲು ನೆಟ್ಟಗ ತೊಗರಿ ಹಾಕಿದ್ವಿ ಒಂದು ಆರು ತಿಂಗಳು ಒಂದು 1/2 ಇಂಚು ಶ್ರೀಗಂಧದ ಇತ್ತೀಚಿನ ಶ್ರೀಗಂಧದ ಬೀಜದಿಂದ ಬೇರೆ ಬೇರೆ ಉತ್ಪನ್ನಗಳನ್ನು ಮಾಡುತ್ತೇವೆ ಅಂತ ಹೇಳಿ ತಿಳಿಸಿರುತ್ತಾರೆ ಬೀಜವನ್ನು ಕಲೆಕ್ಟ್ ಮಾಡಿ ಇಟ್ಟುಕೊಂಡರೆ ನಾವು ಅದನ್ನ ಬೈ ಬ್ಯಾಕ್ ಮಾಡ್ತೀವಿ ತಗೊಂಡು ಹೋಗ್ತೀನಿ ಅಂತ ಹೇಳಿರುತ್ತಾರೆ ಏನು ಮಾಡ್ತಾ ಇಲ್ಲ ಕೆಲವೊಂದು ಅದರಿಂದ ಮತ್ತೆ ಗಿಡದಲ್ಲಿ ಬುಡದಲ್ಲಿ ಬರ್ತಾ ಇದೆ ಅನ್ನೋದನ್ನ ನಾವು ಹಾಗೆ ಬಳಸಿಕೊಳ್ಳುತ್ತಿದ್ದೇನೆ ಅದು ನ್ಯಾಚುರಲ್ ಆಗಿ ಕಾಡಲ್ಲಿ ಬೆಳೆದ ಹಾಗೆ ಬೆಳಿತಾ ಇದೆ ಅದೇ ನಾವು ಈಗ ಅದೇ ಸವಾಲಾಗಿ ನಿಂತಿರೋದು ಶ್ರೀಗಂಧ ಈಗ ಹೇಳು ಅಂತ ನಮಗೆ ಸಾಕಷ್ಟು ಮಂದಿ ಸರ್ಕಾರ ಎಲ್ಲಿ ಬೇಕಾದರೂ ಮಾರಾಟ ಮಾಡಬಹುದು ಮೊದಲು ಸರ್ಕಾರಕ್ಕೆ ಕೊಡಬೇಕಾಗಿತ್ತು ನೇರವಾಗಿ ಮಾರಾಟ ಮಾಡಬಹುದು ಸರ್ಕಾರದಿಂದ ಪರ್ಮಿಷನ್ ಕೊಡೋದು ಅಂತ ಹೇಳಿ ಕೇಳ್ತಾ ಇದ್ದಾರೆ ಈಗ ಬೇರೆ ಕಡೆ ಹೊರದೇಶಗಳಲ್ಲಿ ಜಾಸ್ತಿ ಇದೆ ಅಂತ ಹೇಳಿ ನನಗೆ ಗೊತ್ತಾಗಿದೆ ಈಗಿನ 15 ವರ್ಷ ಮೇಲ್ಪಟ್ಟ ಆದಮೇಲೆ ಶ್ರೀಗಂಧದಲ್ಲಿ ಚೆನ್ನಾಗಿ ಬರುತ್ತಾ ಹೋಗುತ್ತದೆ 15 ವರ್ಷ ಬೇಕು ಅಂತ ಹೇಳಿದರೆ ಅದಕ್ಕೂ ಮುಂಚೆ ಅಥವಾ ಅದರಲ್ಲಿ ಏನು ಅಂತ ಇರಲ್ಲ 15 ವರ್ಷದ ಮೇಲೆ ಪಟ್ಟು ಹೆಚ್ಚು ಚೆನ್ನಾಗಿ ಬಂದಿರುತ್ತದೆ ಅಂತ ಹೇಳಿ ನಮಗೆ ವಿಡಿಯೋಗಳಲ್ಲಿ ಇವರು ಬೇರೆ ಬೇರೆ ವಿಷಯ ತಜ್ಞರು ಬೆಳೆದಿರುವಂತಹ ಬೆಳೆಗಾರರು ನಮಗೆ ಮಾಹಿತಿ ತಿಳಿಸಿರುತ್ತಾರೆ ಅವರಿಂದ ಮಾಡು ಈಗಿನ ಮಾರ್ಕೆಟ್ ಇದೆ ಅಂತ ಹೇಳಿ ನಮ್ಮ ದೇಶದಲ್ಲಿ ಹೇಳ್ತಾರೆ ಈಗ ಸುಮಾರು 10 ವರ್ಷದ ಹಿಂದೆ ಒಂದುವರೆ ಸಾವಿರ ಎರಡು ಸಾವಿರ ವರ್ಷ 2015 ಮುಂದೆ ಈ ರೀತಿ ಇದೆ ರೀತಿ ಬೇಡಿಕೆ ಹೆಚ್ಚುತ್ತಾ ಹೋಗುತ್ತದೆ ಅಂತ ಹೇಳಿ ತಿಳಿಸಿದ್ದಾರೆ ಅದೇ ರೀತಿ ಮಾಡ್ತಾ ಹೋಗ್ತಾ ಇದ್ದೀವಿ ನಾವು ಭರವಸೆ ಇದೆ ಸಿಗುತ್ತೆ ಅನ್ನೋ ಭರವಸೆ ಆಸೆ ಇತ್ತು ಕೊಟ್ಟು ಮಾಡ್ತಾ ಇದ್ದೀರಾ ಈಗ ಅವರ ಅನುಕೂಲ ಅರಣ್ಯ ಈ ರೀತಿ ಬೆಳೆ ಬೆಳೆಯುವುದು ಬೇರೆ ಅದನ್ನೇ ತರಕಾರಿ ಬೆಳೆಯುವಲ್ಲಿ ಹಣ್ಣಿನ ಬೆಳೆಗಿಂತ ಇದು ಶ್ರೀಗಂಧ ಅವರಿಗೆ ಮಾಡಿಕೊಂಡು ಕೊಡಬೇಕಾಗುತ್ತದೆ ಖರ್ಚು ಹೆಚ್ಚು ಸಾಧ್ಯವಾಗುತ್ತದೆ ರೋಗಗಳು ಅಂದ್ರೆ ಈ ಗಿಡವನ್ನು ಮೂರು ವರ್ಷದವರೆಗೂ ತುಂಬಾ ಒಣಗುತ್ತೆ ತದನಂತರ ಅಷ್ಟೊಂದು ಈ ರೋಗ ಇರುವುದಿಲ್ಲ ಅವಾಗವಾಗ ಬೀಳುತ್ತೆ ಅಂತ ಹೇಳಿ ನಮಗೆ ನಮ್ಮ ಅನುಭವದಲ್ಲಿ ಬಂದಿದೆ ಈಗ ಸ್ವಲ್ಪ ಒಣಗುವುದು ಕಡಿಮೆಯಾಗಿದೆ ಒಮ್ಮೊಮ್ಮೆ ಹಾಕುತ್ತದೆ ಆವಾಗ್ಲೇ ಹೇಳಿದಂತೆ ನಾವು ಔಷಧಿಗಳನ್ನು ಮಾಡಿಕೊಳ್ಳುತ್ತಿದ್ದೇನೆ ಏನು ಮಾಡಕ್ಕಾಗಲ್ಲ ಅದರಲ್ಲಿ ಮತ್ತೆ ಬೇರೆ ಸಸಿಯನ್ನು ನೆಟ್ಟು ಬೆಳೆಸಬೇಕು ಅಂತೇಳಿ ಇದುವರೆಗೂ ಕಾಡು ವಿಶಾಲವಾಗಿತ್ತು ಕಾಡಲ್ಲಿ ಬೆಳೆಯುತ್ತಿದ್ದರು ಅದರಲ್ಲಿ ನಮ್ಮ ಕರ್ನಾಟಕದ ಭೂಮಿಯಲ್ಲಿ ತುಂಬಾ ಚೆನ್ನಾಗಿ ಬರುತ್ತದೆ ಅಂತ ಹೇಳಿ ಇರುವಾಗಲೇ ಪ್ರೂವ್ ಆಗಿದೆ ಆದ್ದರಿಂದ ನಾವು ತೋಟದಲ್ಲಿ ಬೆಳೆಯೋಕೆ ಪ್ರಾರಂಭಿಸಿದ್ದೇವೆ ನಂಬಿಕೆ ಇದೆ ಅಂದ್ರೆ ಅದು ನೀನು ಅದಕ್ಕೆ ಸಾಕಷ್ಟು ಶ್ರಮ ಪಡಬೇಕು ಕಾವಲಿಯಿಂದ ಹಿಡಿದು ಅದೇ ಈಗ ಬುಡದ ಶಕ್ತಿ ಬೆಳೆಯುವುದಕ್ಕೆ ಆದಷ್ಟು ಎತ್ತರವಾಗಿ ಬೆಳೆದಿದೆ ಯಾಕಂದ್ರೆ ತುಂಬಾ ಬೆಳವಣಿಗೆ ಆಗುವುದರಿಂದ ಇದು ಗಾಳಿಗೆ ಮತ್ತೆ ಸಸಿಗಳು ಮುಗಿಯುವುದು ಇದು ಸಮಸ್ಯೆ ಜಾಸ್ತಿ ಇರುತ್ತದೆ ಆದ್ದರಿಂದಾಗಿ ಆದಷ್ಟು ಗಾಳಿ ಮಳೆಗೆ ತಡೆಯುವಂತೆ 15 ಅಡಿ ಒಳಗಡೆ ಶ್ರೀಗಂಧದ ರಕ್ಷಣೆ ವಿಷಯಕ್ಕೆ ಬಂದಾಗ ಈಗಿನ ಅವಧಿಯಲ್ಲಿ ನಾವು ಬೇರೆ ಬೇರೆಯವರು ಹೇಳಿದಂತೆ ಇದು ಚಿಪ್ಪು ಮೈಕ್ರೋ ಚಿಪ್ ಅಳವಡಿಸುತ್ತೇವೆ ಅಂತ ಹೇಳಿ ಹೇಳ್ತಾ ಇದ್ದಾರೆ ಅದು ತುಂಬಾ ದುಬಾರಿ ಅಂತ ಹೇಳಿ ಇನ್ನು ಅದನ್ನ ಪ್ರಾರಂಭಿಕ ಹಂತದಲ್ಲಿ ಇದೆ ದುಬಾರಿ ಆಗುತ್ತದೆ ಎಂದು ನೋಡೋಣ ಸರ್ಕಾರ ಅದಕ್ಕೆ ಏನಾದರೂ ನೆರವನ್ನು ಕೊಟ್ಟರೆ ಮೈಕ್ರೋ ಚಿಪ್ ಮಾಡುವುದರ ಬಗ್ಗೆ ನಾವಿನ್ನು ಒಂದು ಈಗ ಮೂರು ವರ್ಷ ಸೂಸಿ ನಾವು ಇದರ ಬಗ್ಗೆ ಯೋಚನೆ ಮಾಡೋಣ ಇನ್ನು ಸಾಕಷ್ಟು ಸಮಯ ಇದೆ 20 ವರ್ಷ ಬೇಕು ಅಷ್ಟರೊಳಗೆ ವಿಸ್ತರಿಸುತ್ತಾ ಹೋಗುತ್ತದೆ ಇಡೀ ಪ್ರಪಂಚದಾದ್ಯಂತ ಹಲವಾರು ಕಾಯಿಲೆಗಳಿಗೂ ಇದು ಉತ್ತಮವಾಗಿ ಕೆಲಸ ಮಾಡುತ್ತದೆ ಅಂತ ಹೇಳಿ ತಿಳಿಸಿದ್ದಾರೆ ಈಗ ಪ್ರತಿವರ್ಷ ನ ಬೆಲೆ ಎಷ್ಟನೇ ಇದೆ ಆ ರೀತಿಯಾಗಿ ನೋಡಿದಾಗ ನಮಗೆ ಏನು ಅಂತ ಇದಲ್ಲ ಅನಿಸುತ್ತದೆ ಆಸ್ಟ್ರೇಲಿಯಾದಲ್ಲಿ ಬಿಟ್ರೆ ಈಗ ಚೀನಾದಲ್ಲಿ ಬೆಳವಣಿಗೆಗೆ ಪ್ರೋತ್ಸಾಹ ಕೊಡ್ತಾ ಇದ್ದಾರೆ ಅಂತ ಹೇಳಿ ಕೊಟ್ಟಿದ್ದೀವಿ ಆಸ್ಟ್ರೇಲಿಯಾ ಏನು ತುಂಬಾ ಸಿಕ್ತಾ ಇದೆ ಆಸ್ಟ್ರೇಲಿಯಾದಲ್ಲಿ ಸಿಗುತ್ತಿರುವುದು ಸಾಕಷ್ಟು ಶ್ರೀಗಂಧ ಅಂತ ಹೇಳಿ ಮುಂದೆ ಇರುವುದು ಬಗ್ಗೆ ಇನ್ನಷ್ಟು ಕಾಳಜಿ ತಗೊಂಡು ನೇರವಾಗಿ ಬೆಳೆಯೋದಕ್ಕೆ ನಾವು ಕೂಡ ಸವರಿ ಕೇಂದ್ರ ಹೋಗ್ತಾ ಇದೆ ಅದ್ ಬಿಟ್ರೆ ಮೂರು ವರ್ಷ ಅಥವಾ ನಾಲ್ಕು ವರ್ಷ ಆದ್ಮೇಲೆ ಹೆಚ್ಚಿನ ಪ್ರಮಾಣದಲ್ಲಿ ದೊರೆ ಯಾವಾಗ ನಾವು ಅದನ್ನು ಇಟ್ಟುಕೊಂಡಾಗ ನಮಗೆ ಸಿಸ್ಟಮ್ ಯಾವುದ್ಯಾವುದೋ ಕಾಂಟ್ಯಾಕ್ಟ್ ಮಾಡುತ್ತಿದೆ ಅದರಲ್ಲಿ ತಗೋತೀವಿ ನಾವು ಕೆಜಿ ಲೆಕ್ಕದಲ್ಲಿ ಅತ್ತ ತ ಅದೇ ಈಗ ಬೆಳವಣಿಗೆ ಇಲ್ಲ ಈಗ ಇದುವರೆಗೂ ನಮಗೆ ಏನು ಸಮಸ್ಯೆ ಕಂಡು ಬಂದಿಲ್ಲ ಮುಂದೆ ಏನಾಗುತ್ತದೆ ನೋಡೋಣ ಗಿಡ ದೊಡ್ಡದಾದಂತೆ ಅದರ ಸಿಪ್ಪೆ ಗಿಡವನ್ನು ಇದು ತುಳಿದು ಮೇಲ್ ಬಂದ್ರೆ ಅವಾಗ ಸ್ವಲ್ಪ ಸಮಸ್ಯೆ ಅನ್ಸೋದು ಯಾಕಂದ್ರೆ ಅದೇ ನಾವು ಶ್ರೀಗಂಧ ಬೆಳಿಬೇಕು ಅಂತಾನೆ ಸಾಕಷ್ಟು ನಮ್ಮ ಅಭಿಪ್ರಾಯ ಮಾಡಿದ್ರೇನೇ ಒಳ್ಳೆಯದು ಆಗುತ್ತದೆ ನಮ್ಮ ಜೀವನ ನಡೆಯುತ್ತದೆ ಶ್ರೀಗಂಧ ಜೆಪಿ ಗಿಡದಲ್ಲಿ ಶ್ರೀಗಂಧ ಮಾಡ್ಕೊಂಡಿಲ್ಲ ಇರೋದ್ರಲ್ಲಿ ಅಂತ ಗುಣಮಟ್ಟದ ಬೆಳವಣಿಗೆ ಕಾಣ್ತಾ ಇಲ್ಲ ಆ ಅವರು ಸಾಮಾನ್ಯವಾಗಿ ಯಾವುದೇ ಸಮಯದಲ್ಲಿ ಸ್ವಲ್ಪ ಮಟ್ಟಿಗೆ ಮಾತ್ರ ಸರ್ಕಾರ್ ಗೆ ತಾಲೂಕು ಕಚೇರಿಗೆ ಫೋಟೋ ತಕ್ಕೊಂಡು ಎಂಟ್ರಿ ಮಾಡಿಕೊಟ್ಟಿದ್ದಾರೆ ಮುಂದೆ ಅದೇ ರೀತಿ ಸರ್ಕಾರಕ್ಕೆ ನಾವು ಸರಕಾರದ ನೆರವನ್ನು ಕೂಡ ಯೋಚಿಸುತ್ತಿದ್ದೇನೆ ಬೇಕು ನೆರವು ಸಹಕಾರದಿಂದ 15-20 ವರ್ಷ ಬೇಕಲ್ಲ ರೈತರಿಗೆ ಸರ್ಕಾರ ಕೈ ಜೋಡಿಸಬೇಕು ಅಂತ ಹೇಳಿ ನಾವು ಮನವಿ ಮಾಡ್ತೀನಿ ಸರ್ ಸರ್ಕಾರಕ್ಕೆ ಅದೇ ಈ ಸರ್ಕಾರಕ್ಕೆ ಕೊಡಲೇಬೇಕಾಗುತ್ತದೆ ಕಾವಲಿಗೆ ಸರ್ಕಾರ ನಮ್ಮ ಬೆನ್ನೆಲುಬಾಗಿ ನಿಲ್ಲಬೇಕು ಅಂದರೆ ಒಂದು ರೀತಿ ಒಳ್ಳೆ ಕ್ರಾಂತಿಕಾರಿ ಹೆಜ್ಜೆ ಅಂತ ಹೇಳಿ ನನ್ನ ಅನಿಸಿಕೆ ಇದುವರೆಗೂ ರೈತರು ರೈತ ಏನ್ ಬೆಳಿತಾ ಇದ್ರೆ ಶ್ರೀಗಂಧ ಅವರೆಲ್ಲರ ಒಟ್ಟಾರೆ ಬೇಡಿಕೆ ಇದ್ದಿದ್ರೆ ಇದು ಓಪನ್ ಮಾರ್ಕೆಟ್ ಬಿಡಬೇಕು ಸರ್ಕಾರ ಅಂತ ಹೇಳಿ ಈಗ ಅದನ್ನ ಸಾಕಷ್ಟು ಬದ್ಲಾವಣೆ ಮಾಡಿ ಅನುಕೂಲ ಮಾಡಿಕೊಟ್ಟಿದ್ದಾರೆ ಇನ್ನೂ ಅನುಕೂಲ ಮಾಡಿಕೊಡಬೇಕು ಎಂದು ನನಗೆ ಈಗ ಸರ್ಕಾರ ಪರ್ಮಿಷನ್ ಅಂತ ಅಂದ್ರೆ ಸರ್ಕಾರನೇ ಪರ್ಮಿಷನ್ ಕೊಟ್ಟು ಬಿಟ್ಟಿದೆ 2012ರಲ್ಲಿ ಸರ್ಕಾರನೇ ಪರ್ಮಿಷನ್ ಕೊಟ್ಟು ಬಿಟ್ಟಿದ್ದಾರೆ ಅಂತ ಹೇಳಿ ಇವಾಗ ಸರ್ಕಾರದ ಪರ್ಮಿಷನ್ ಬೇಕಿಲ್ಲ ಬೆಳೆದ ನಂತರ ಅದು ಸರ್ಕಾರಕ್ಕೆ ಮಾರಾಟ ಮಾಡಬೇಕು ಅಷ್ಟೇ ನಾನು ಸರ್ಕಾರ ಪರ್ಮಿಷನ್ ತಗೊಂಡು ಸರ್ಕಾರದ ಮುಖಾಂತರ ಮಾರಾಟ ಮಾಡುವುದು ಅಂತ ಹೇಳಿ ನಮಗೆ ಇದುವರೆಗೂ ಮಾಹಿತಿ ಸಬ್ಸಿಡಿ ನಾವು ತಗೊಂಡಿಲ್ಲ ಆದರೆ ಇದೆ ಅಂತೆ ಸಾಕಷ್ಟು ಅದಕ್ಕೆ ಅವರೇ ಬಂದು ನೋಡಿ ಈಗ ನಾವು ನೆಟ್ಟು ಸರಿಯಾಗಿ ನಮಗೆ ಗೊತ್ತಿರಲಿಲ್ಲ ಅಂತ ಹೇಳಿ ಸೌಲಭ್ಯ ಇದೆ ಅಂತ ಹೇಳಿ ನಾವು ಮೂರು ವರ್ಷದ ನಂತರ ಹೋದ್ವಿ ಅರಣ್ಯ ಇಲಾಖೆ ಇಲಾಖೆ ಸಬ್ಸಿಡಿ ಕೊಡು ಅಂತ ಎಲ್ಲ ರೈತರು ಇದನ್ನು ಮಾಡುವುದರಿಂದ ಉತ್ತಮ ಅಂತ ಹೇಳಿ ನಾನು ಯಾಕೆ ಅಂದ್ರೆ ಶ್ರೀಗಂಧದ ನಾಡು ಗಂಧದ ಬೀಡು ಶ್ರೀಗಂಧದ ನಾಡು ಅಂತ ಹೇಳಿ ಕನ್ನಡದಲ್ಲಿ ನೆಟ್ಟು ಮಾಡುವುದರಿಂದ ಯಾವುದೇ ಸಮಸ್ಯೆ ಇಲ್ಲ ಅಂತ ಹೇಳಿ ನಂಬರ್ ಇದೆ ಅಂತ ಹೇಳಿ ಈಗ ಆಲ್ರೆಡಿ ಬೇರೆ ಎಲ್ಲ ಎಲ್ಲ ರೈತರು ಬೆಳೆದಾಗ ಕಡಿಮೆ ಇರುತ್ತದೆ ಎಲ್ಲ ರೈತರು ಇದನ್ನ ಸ್ವಲ್ಪ ಸ್ವಲ್ಪ ಎಲ್ಲರಿಗೂ ಯಾವುದೇ ಇರೋದಿಲ್ಲ ಮಾರುಕಟ್ಟೆ ಸಮಸ್ಯೆ ಇಲ್ಲ ಅಂತ ಹೇಳುತ್ತಿದ್ದಾರೆ ನಮ್ಮ ರಾಜ್ಯದಲ್ಲಿ ಹೆಚ್ಚು ಮತ್ತೆ ಮತ್ತೆ --> Text length need to be between 0 and 5000 characters\n",
            "Error translating text: Request exception can happen due to an api connection error. Please check your connection and try again\n",
            "Error translating text: ರಕ್ತಚಂದನ ನಮ್ಮನ್ನು ಬಂದಂಗ ಶ್ರೀಗಂಧ ಕಟ್ಟಡಕ್ಕೆ ಎಷ್ಟು ದಪ್ಪ ಇರಬೇಕು ಅಂತ ಒಂದು ರಿಸರ್ಚ್ ದೇರ್ ಇಸ್ ನೋ ಲೀನಿಯರ್ ರಿಲೇಶನ್ ಬಿಟ್ವೀನ್ ಸೈಜ್ ಆಫ್ ಪ್ಲಾನ್ ವಾಲ್ಯೂಮ್ ಆಫ್ ದಿ ಪ್ಲಾಂಟ್ ಬಯೋಮಾಸ್ ಆಫ್ ದಿ ಪ್ಲಾಂಟ್ ಅಲ್ರಿ ದೇರ್ ಇಸ್ ನೋ ಲಿನಿಯರ್ ರಿಲೇಶನ್ ಪ್ಲಾನ್ ವಾಲ್ಯೂಮ್ ಆಫ್ ದಿ ಪ್ಲಾನ್ ಪೊಯೆಮ್ಸ್ ಆಫ್ ಪ್ಲಾಂಟ್ ಅಂತ ಹೇಳ್ತಾರೆ ಅಂದ್ರೆ ಇಲ್ಲ ನೀವು ನೀರು ಇವೆಲ್ಲ ಗೊತ್ತೇ ಆಗಿಲ್ಲ ಸಾಯಿಸಬೇಕು ಅಂತ ಅಂದ್ರೆ ಅದು ಸ್ಟಾಪ್ ಮಾಡುತ್ತದೆ ಬೆಳವಣಿಗೆಯಲ್ಲಿ ಸ್ಟಾಪ್ ಮಾಡಬೇಕು ಅವಾಗ ಡಿಫೆನ್ಸ್ ಮೆಕ್ಯಾನಿಸಂ ಸೆಕೆಂಡರಿ ಮೆಟಾಬಾಲಿಸಂ ಅಂತ ಹೇಳುತ್ತಾ ಏನಮ್ಮ ಫಾರ್ಮೇಶನ್ ಆಫ್ ವಾಟರ್ ಒಳಗಡೆ ಇದೆ ರಕ್ತಚಂದನ ಕೊಡಲು ಎಷ್ಟು ಕಡೆ ಪರಿಚಯ ಆಗಿರ್ಲಿಲ್ಲ ಇತ್ತೀಚಿಗೆ ರಕ್ತಚಂದನ ಏನು ಅಂತ ಅಂದ್ರೆ ನೀವು ಲೈಕ್ ಅದನ್ನು ಎರಡು ಬೇಸಿಕ್ ಬಿಟ್ಟರೆ ನೀವು ಏನು ಮಾಡೋದು ಬೇಕಾಗಿಲ್ಲ ನೀರು ಹಾಕುತ್ತಾರೆ ಯಾರು ಜಾಲಿ ಗಿಡವು ಹಲ್ಲು ಬುಡ್ಡ ಕುರುಚಲು ಸಸ್ಯ ಹೀಗಾಗಿ ಇವತ್ತು ಏನಿದೆ ಅಂತ ಅಂದ್ರೆ 2002ರಲ್ಲಿ ಸೆಕ್ಸ್ ಆಮೇಲೆ 179 ರ ದಶಕದಲ್ಲಿ ಟಿಪ್ಪು ಸುಲ್ತಾನ್ ತೀರಿಕೊಂಡ ಬ್ರಿಟಿಷರು ಆಡಳಿತ ತೊಗೊಂಡು ಬ್ರಿಟಿಷರು ಕೊಡಲು ಶತಮಾನಗಳು ಆಳಿದವು ಮತ್ತು ಸ್ವಾತಂತ್ರ್ಯ ಸಿಗುತ್ತದೆ ಅಂತ ನ್ಯಾಷನಲ್ ಮೆಡಿಸಿನಲ್ ಪ್ಲಾಂಟ್ ಡೆವಲಪ್ಮೆಂಟ್ ಬೋರ್ಡ್ ಅಂತ ರಾಷ್ಟ್ರೀಯ ಔಷಧಿ ಸಸ್ಯಗಳ ಅಭಿವೃದ್ಧಿ ಮಂಡಳಿ ಅಂತ ಇದೆ ಎಕರೆ 22 ವರ್ಷ ಕೊಡ್ತಾರೆ ಒಂದು ಎಕರೆ ಶ್ರೀಗಂಧದ ಎನ್ ಎಂ ಪಿ ಬಿ ಒಂದು ಎಕರೆಗೆ 22 ವರ್ಷ ಆಯ್ತು ಗೂಗಲ್ ಆಮೇಲೆ ಒಳ್ಳೆ ಗುಣಮಟ್ಟದ ಸಸ್ಯ ಅರಣ್ಯ ಇಲಾಖೆ ಚಿತ್ರ ಎಷ್ಟು ಖರ್ಚಾಯಿತು ಹತ್ತು ಬಾರಿ ಸಾವಿರ ಗೋರ್ಮೆಂಟ್ ಎಷ್ಟು ಬರುತ್ತದೆ 22 ವರ್ಷ ಆಯ್ತು ವಯೋ ಮಾಸ್ಕ್ ಜಾಸ್ತಿ ಬೇಕು ಕಡಿಮೆ ಆಗುತ್ತೆ ನಮ್ಮಲ್ಲಿ ಗಿಡದ್ದು ಇಷ್ಟೇ ಇರುತ್ತದೆ ಇದು ಎರಡು ವರ್ಷ ಹಿಂಗಾರಿ ಮುಂಗಾರು ಸಂಪೂರ್ಣ ಸಾಂಗ್ ಇದು ಒಂತರ ಎರಡು ವರ್ಷ ಬಂಗಾರಿ ಬಂಗಾರಿ ಸಂಪೂರ್ಣ ಮಾಡ್ಬಿಡ್ತೀನಿ ಶ್ರೀಗಂಧ ನಮಗೆ ಬಿಡುತ್ತದೆ ಆರ್ಥಿಕ ಬದುಕಿದೆ ಇದು ಕೇವಲ ಆರ್ಥಿಕ ಅಷ್ಟೇ ಅಲ್ಲ ಇದರೊಳಗೆ ಆರ್ಥಿಕ ಬದುಕಿನ ಜೊತೆಗೆ ಒಂದು ಆರೋಗ್ಯದ ಬದುಕು ಇದೆ ಒಂದು ಆಧ್ಯಾತ್ಮದ ಬಗ್ಗೆ ಹೇಳುತ್ತಾ ಹೋಗುತ್ತದೆ ಶ್ರೀಮಂತಿಕೆ ಅಂತ ಅಂದ್ರೆ ಶ್ರೀಮಂತರ ಶ್ರೀಮಂತರ ಆರ್ಥಿಕ ಬದುಕಬೇಕು ಆರ್ಥಿಕ ಬದುಕಬೇಕು ಆರ್ಥಿಕ ಬದುಕಿನ ಜೊತೆಗೆ ಆರೋಗ್ಯದ ಬಗ್ಗೆ ಆದರ್ಶಗಳು ಬರುತ್ತದೆಯೇ ಸಿದ್ದೇಶ್ವರ ಸ್ವಾಮೀಜಿ ಅವರು ಪದೇ ಪದೇ ಅವರು ಪ್ರವಚನದಲ್ಲಿ ಹೇಳುತ್ತಿರುತ್ತಾರೆ ಅಲ್ಲಿ ಮೇಲು ಕೀಳು ಜಾತಿ ಧರ್ಮದ ಪ್ರಸ್ತುತ ಅಂದ್ರೆ ಒಂದು ವಿಚಾರ ಒಳ್ಳೆ ವಿಲ್ಲ ಅವನಿಗೆ ಇವರ ಪೂಜಾ ಇತರ ಅತ್ಯಂತ ಜೀವನದಲ್ಲಿ ಗುಣಮಟ್ಟ ಬದಲಾದಾಗ ಅವರ ಚಿಂತನೆಗಳು ಬದಲಾಗುತ್ತವೆ ಅವ್ನು ವಿಚಾರಗಳು ಬದಲಾಗುತ್ತವೆ ಅವನ ಸಂಬಂಧಗಳಲ್ಲಿ ಒಂದು ಪ್ರಭಾವ ಬೀರುತ್ತದೆ ಒಂದು ಸಂಚಲನ ಅವಾಗ ಕೊಪ್ಪಳ ಜಿಲ್ಲೆಯವರು ರಾಯಚೂರು ಜಿಲ್ಲೆಯವರು ಬಳ್ಳಾರಿ ಜಿಲ್ಲೆಯವರು ಅಂದ್ರೆ ಅಲ್ಲಿ ಬಿಸಿಲು ಬಡತನ ತೋಳ ಮೂಳೆ ಹೋಗಿಬಿಡ್ತಾರೆ ಜನ ಅವರಿಗೆ ನಮ್ಮ ಜಿಲ್ಲೆಗಳನ್ನು ಹೇಳಿಬಿಟ್ಟರೆ ಅವರಿಗೆ ಇನ್ನೊಂದು ಚಿತ್ರ ಬಂದುಬಿಡುತ್ತದೆ ಆ ಒಂದು ವಾತಾವರಣ ಬದಲಾಗುತ್ತಿದೆ ಟೊಮೆಟೊ ಬದನೆಕಾಯಿಗೆ ಇದಕ್ಕೆಲ್ಲ ಇವತ್ತು ನಿಮಗೆ ಒಂದು 500 ಗಿಡ ಹಚ್ಚಿದರೆ ನೀವು ಏನು ಮಾಡುತ್ತಿದ್ದೀರಿ ಒಳ್ಳೆ ಶ್ರೀಗಂಧ ಸ್ನೇಹಿತರು ಶ್ರೀಗಂಧದ ಅಂತರ ಇದು ನನ್ನ ಕೆಲಸ ವಿಡಿಯೋ ಮಾಡಿ ಶ್ರೀಗಂಧ ಬಿಳಿ ಬ್ಯಾಡ್ರಿ ಅಂತ ಎದುಕ್ ಬೆಳೆಯಬಾರದು ಅಂತ ಅಂದ್ರೆ ಅದು ನಮ್ಮಲ್ಲಿ ಬೆಳಗಿಲ್ಲ ಅಂತಲ್ಲ ಶ್ರೀಗಂಧ ಎದುಕ್ ಬೆಳೆಯಬಾರದು ಇತರ ಮತ್ತೆ ಸಿಗಲ್ಲ ಸುಮಾರು 80% ಸಾಧನೆ ಮಾಡಬೇಕು ಅವರಿಂದ ಪ್ರಭಾವಿತರಾಗಿ ನಾವು ನಮ್ಮ ಎಜುಕೇಶನ್ ಮುಗಿಸಿಲ್ಲ ಅಂದಮೇಲೆ ಯಾವಾಗ ಬರುತ್ತದೆ ಸ್ವತಂತ್ರವಾಗಿ ಇಲ್ಲೇ ಆಶ್ರಯಕ್ಕೆ ಏನು ಮಾಡುತ್ತಿದೆ ಏನು ಅಂದ್ರೆ ಅಕ್ಕಿ ಪಕ್ಷಿಗೆ ಎಷ್ಟು ಕಿಲೋಮೀಟರ್ ಪಕ್ಷಿಗೆ ಎ ಸಿ ರೂಮ್ ಇದ್ದಂಗೆ ಅವು ನಿರಾತಂಕವಾಗಿ ಇರಬೇಕು ಸಹಜವಾಗಿ ಆಗುತ್ತೆ ಅಂದ್ರೆ ಒಂದು ಲಕ್ಷ ರೂಪಾಯಿ ತಂಗಮ್ಮ ಇದು ಶ್ರೀಗಂಧ ಕಾಡಿನ ಗಿಡ ಇರುವುದರಿಂದ ಅದಕ್ಕೆ ಮತ್ತೆ ಈಗ ಪ್ರಾಣಿ ಪಕ್ಷಿಗಳಿಗೆ ಪ್ರಾಣಿ ಪಕ್ಷಿಗಳಿಗೆ ಆಹಾರ ಕೃಷಿ ಮಾಡಬೇಕಾದರೆ ಎಷ್ಟು ಮುಖ್ಯ ಈಗ ಏನು ಪಕ್ಷಿಗಳ ಈ ಪಕ್ಷಿಗಳು ಬೇಕು ಅಂತ ಹೇಳುತ್ತಾನೆ ಒಂದು ಗುಬ್ಬಿ ಒಂದು ದಿನಕ್ಕೆ ಒಂದು ಅದಕ್ಕಿಂತ ದೊಡ್ಡ ಪಕ್ಷಿ ಒಂದು ದಿನಕ್ಕೆ ಒಂದು ಪಕ್ಷಿ ಒಂದು ಕಲಿಕೆ ಹಾಕುತ್ತಾರೆ ಒಂದು ದಿನಕ್ಕೆ ಒಂದು ಪಕ್ಷಿ ಒಂದು ತಲೆ 10 ಪಕ್ಷಿಗೆ ಎಷ್ಟಾಯ್ತು 36 36 ಎಷ್ಟು ಶ್ರೀಮಂತ ಆಗುತ್ತೆ ಅದರ ಮೇಲೆ 36 ಕೆಜಿ ಇದ್ದಾಗ ಆ ಒಂದು ಸಾವಯವ ಇಂಗಾಲ ಅಂತ ಹೇಳ್ತೀವಿ ಆರ್ಗ್ಯಾನಿಕ್ ಕಾರ್ಬನ್ ಆ ಭೂಮಿಯ ಒಳಗೆ ಎಷ್ಟು ಜಾಸ್ತಿ ಆಗುತ್ತೆ ಯಾವಾಗ ಭೂಮಿ ಶ್ರೀಮಂತರ ಇದು ನಮಗೆ ಮೂವತ್ತಾರು ಕೆಜಿ 360 ಏನು ಇಲ್ಲ ಇವತ್ತು ಒಂದು ಪಕ್ಷಿಗಳಿಂದ ಒಂದು ಕಾರ್ಡ್ ನಂಬರ್ ಪರಿಸರ ಸ್ವಲ್ಪ ನೀವು ಮಾತಾಡೋದು ಅ ಅಟ್ಲೀಸ್ಟ್ ಆದ್ಮೇಲೆ ಅಟ್ ಲಿಸ್ಟ್ ಪ್ರೆಸೆಂಟ್ಸ್ ಆಫ್ ಮೈಂಡ್ ಇಂದ ಅದು ನಮಗೆ ಲೆಕ್ಕಕ್ಕೆ ಮ್ಯೂಟ್ ಮಾಡ್ತೀನಿ ನಂದು ಸಂಸಾರ ನಂದು ಜಾಪತ್ರೆ ಗಳು ಮತ್ತು ರಿಪೀಟ್ ಮಾಡೋ ಪ್ರಯತ್ನ ಮಾಡಿದ್ದೇನೆ ಬ್ಯೂಟಿ ಆಫ್ ಸ್ಯಾಂಡಲ್ವುಡ್ ಏನಪ್ಪಾ ಅಂತ ಅಂದ್ರೆ ಈಗ ನೋಡ್ರಿ ಇಲ್ಲಿ ಇವೆಲ್ಲ ಸ್ಯಾಂಡಲ್ವುಡ್ 1 1 2 3 4 5 6 7 ಕೆಎಂ ನ್ಯಾಚುರಲಿ ರೀಸನ್ ರಿಲೇಟೆಡ್ ಟ್ರಾಫಿಕ್ ಸಹಜವಾಗಿ ಅಕ್ಕಿ ಪಕ್ಷಿಗೆ ಮುಕಾಂತರ ಎಕರೆಗೆ ಹಚ್ಚಿದರೆ ಒಂದು ವರ್ಷಕ್ಕೆ ಒಂದು ಎಕರೆ ಪರಿಯರ್ ಪ್ರಕಾರ ಎಷ್ಟು ಬರುತ್ತದೆ ಒಂದು ವರ್ಷಕ್ಕೆ ಒಂದು ಎಕರೆಗೆ ಒಂದು ವರ್ಷಕ್ಕೆ ಒಂದು ಎಕರೆಗೆ 50 ಲಕ್ಷ ಬಂದಾಗ ಅದು ಕೇವಲ ಬಂಗಾರ ಮಾಲೀಕ ಆಗ್ಲೇ ಬೇಕಲ್ಲ ದಿಸ್ ಇಸ್ ದ ಕಾನ್ಸೆಪ್ಟ್ ಒಂದು ಕೃಷಿ ಭೂಮಿ ಪಕ್ಷಿಗೆ ಆಹಾರ ಕೊಟ್ಟು ಪ್ರಾಣಿ ಪಕ್ಷಿಗೆ ಆಶ್ರಯ ಕೊಟ್ಟು ಪರಿಸರಕ್ಕೆ ಹಸಿರು ಕೊಟ್ಟು ಒಂದು ಸೋಶಿಯಲ್ ರೆಸ್ಪಾನ್ಸಿಬಿಲಿಟಿ ಸಾಮಾಜಿಕ ಜವಾಬ್ದಾರಿ ನಿರ್ವಹಣೆ ಮಾಡಿ ಮಾಡಿ ಒಂದು ಬಂಗಾರ ಬಂಗಾರ ರೆಡಿ ಮಾಲೀಕರು ಆಗಕ್ಕೆ ಸಾಧ್ಯವಿಲ್ಲ ಆದರೆ ಈ ಒಂದು ಗಿಡ ಮರಗಳನ್ನು ಪ್ರೀತಿಸುವ ಮನಸ್ಸನ್ನು ನಾವು ರೂಢಿ ಮಾಡಿಕೊಂಡು ಹೋಗು ಆ ಮನಸ್ಸನ್ನು ಬೆಳೆಸುತ್ತ ಹೋಗುತ್ತದೆ ಯಜಮಾನ್ರು ಅದಕ್ಕೆ ಬಂದಿರಿ ಹಾಸ್ಪಿಟಲ್ ಗೆ ಹೋಗಿದ್ದಾರೆ ಅಂತ ಈಗ ಇದನ್ನ ಯಾರು ಎಚ್ಚರ ಭೂಮಿ ತಾಯಿ ಸ್ವೀಕಾರ ಮಾಡಿ ಕೂಡ ನಾನು ಪೀಟು ಮೀಟರ್ ನ ಆ ಭೂಮಿ ತಾಯಿಗೆ ಅಥವಾ ಒಂದು ಕೂಸಿನ ಮಳೆಗಾಲ ಅದು ನನಗೆ ಗೊತ್ತಿಲ್ಲ ನಾನು ಫಿಲ್ಟರ್ ಮೀಟರ್ ತಾಯಿ ಶಕ್ತಿ ತಾನೆ 990 ದೊಳಗ ಒಂದು ಹುಡುಗಿಗೆ ಪರೀಕ್ಷೆ ಹಾಕಿದ್ದು ಐಎಎಸ್ ಒಂದಿಷ್ಟು ರಿಟರ್ನ್ ಎಕ್ಸಾಮ್ ಇತ್ತು ಅದರಲ್ಲಿ ಒಂದಿಷ್ಟು ಇತರ ಐಎಎಸ್ ಇವೆಲ್ಲ ಅವರಿಗೆಲ್ಲ ಹಲೋ ಪರೀಕ್ಷೆಗಳನ್ನು ಗೊತ್ತಾಯ್ತಲ್ಲ ನೇಚರ್ ಸೆಲೆಕ್ಟೆಡ್ ನ್ಯಾಚುರಲಿ ಟ್ರಾಫಿಕ್ ಇದು ಬ್ಯೂಟಿ ಆಫ್ ಸ್ಟ್ಯಾಂಡರ್ಡ್ ಮಾಡ್ಬಿಡ್ತೀನಿ ನೀವೇನಾದ್ರೂ 20 ಔಷಧಿ 15 ಔಷಧಿ ಅಂತಲ್ಲ ಸ್ಪೈಡರ್ಸ್ ಬರುತ್ತದೆ ಒಂದು ಕೀಟ ನಮ್ಮ ಚಟುವಟಿಕೆಗಳು ಬಹಳ ಕಡಿಮೆ ಇರಬೇಕು ಅಂತ ಆಮೇಲೆ ಇದು ಸ್ವಲ್ಪ ನಮ್ಮ ಜೀವನದಲ್ಲಿ ಬರುತ್ತದೆ ನನ್ನ ಜೀವನದಲ್ಲಿ ಅಳವಡಿಸಿಕೊಂಡಾಗ ಎಷ್ಟು ಸಮಸ್ಯೆಗಳು ಹುಟ್ಟಿದಂತ ಸಮಸ್ಯೆಗಳು ನೀರಾಗಿರುತ್ತದೆ ವಿಮರ್ಶೆ ಮಾಡಬೇಕು ಸುಮ್ಮನೆ ಇರು ಪದ್ಧತಿ ಸುಮ್ಮನಿರು ಪದ್ಧತಿಯಲ್ಲಿ ಇಬ್ಬರು ಇಬ್ಬರು ಆಯ್ತು ಗೊತ್ತಾ ಶ್ರೀಗಂಧದ ಬಗ್ಗೆ ಬೆಳಿಗ್ಗೆ ಶ್ರೀಗಂಧ ಏನಿದೆಯಲ್ಲ ಇದೊಂದು ಕುರುಚಲ ಸಸ್ಯ ಇದು ಒಂದು ಮಧ್ಯಮ ವರ್ಗದ ಗಿಡ ಸಿರಿಗನ್ನಡ ಹೋಗಿದೆ 75 8 ಮಧ್ಯಮ ವರ್ಗದ ಗಿಡ ಹಾಕುತ್ತದೆ ವಿಜಯಪುರ ಯಾವ ತಾಲೂಕು ಕಾಪುರ್ ವಿಜಯಪುರ ಗಿಂಡಿ ಯಜಮಾನ್ರು ಒಂದು ಕೋಶನ್ ಈಗ ನಾವು ಏನು ಮಾಡುತ್ತಿದ್ದೇವೆ ಅಲ್ಲ ಒಂದು ಮೂರು ದಿವಸದಿಂದ ಮುಕ್ತ ಮಾರುಕಟ್ಟೆ ಅಂತ ಯಾವತ್ತಾದರೂ ಯಾವುದೇ ಒಂದು ತೆಗೆದುಕೊಂಡು ಹೋಗುತ್ತದೆ ಈಗ ಶ್ರೀಗಂಧ ಮಾರುಕಟ್ಟೆ ಮುಕ್ತ ಮಾರುಕಟ್ಟೆಯಲ್ಲಿ ಅಂತದ್ದು ಮಂಜುನಾಥ್ ಮತ್ತೆ ಎಷ್ಟು ಚೆನ್ನಾಗಿತ್ತು ಈಗ ಮಾಡಿರಬೇಕು ಈ ಮಾತನ್ನು ಶಾಪಿಂಗ್ ಮಾಡ್ಯಾರ ಇನ್ನು ತಿಂಗಳು ಆದರೂನು ಅವನದು ಏನು ಬೆಲೆ ಅನ್ನೋದು ಗೊತ್ತಿಲ್ಲ ರಾಜಕುಮಾರ್ ರಾಜಕುಮಾರ ಅಲ್ಲಿಗೆ ಹೋಗಬೇಕು ಕೆ ಎಸ್ ಪಿ ಎಲ್ ಒಂದೇ ಕೊಡಬೇಕು ಅಂತ ಹೇಳ್ತೀನಿ ನೋಡು ಇದು ಒಳ್ಳೆಯದಲ್ಲ ರೈತರಿಗೆ ಮಲ್ಟಿಪಲ್ ಚಾಯ್ಸ್ ಕೊಡ್ರಿ ಅಂತ ಮಲ್ಟಿಪಲ್ ಚಾಯ್ಸ್ ಕೊಡ್ರಿ ಅಂತ ಇವತ್ ಆದಿಕಾಂಡ ಕೆಲಸಗಳು ಇರಬಹುದು ಇವತ್ತು ಮುಕ್ತ ಮಾರುಕಟ್ಟೆ ನಾಳೆ ಅದು ರಕ್ಷಣೆಗೆ ಏನು ಅಂತ ಅವನು ಮನೆ ಅನಂತ ಆಮೇಲೆ ಬಾದಕಗಳು ಏನು ಬರುತ್ತದೆ ಯಾರು ಒಂದು ಇಂಡಸ್ಟ್ರೀಗೆ ಸಂಬಂಧ ಯಾವುದು ಮೈಸೂರಿಗೆ ಎಷ್ಟು ರೈತರ ಹಿತಾಸಕ್ತಿಯನ್ನು ಬಲಿ ಕೊಡ್ತೀರಾ ನೀವು ಯಾಕೆ ಅಲ್ಲಿಗೆ ಕೊಡ್ಬೇಕು ಅಕ್ಕನ ಹೆಸರು 108 ಸರ್ಕಾರದಿಂದ ಬರವಣಿಗೆಗೆ ಮಾಡ್ರಿ ಇನ್ನು ಹತ್ತು ಮಾಡು ತಾವು ಕೂಡ ಆಸಕ್ತಿ ಕೇಳು ಯಾಕಂದರೆ ನಮಗೆ ಮತ್ತೆ ಹೇಳಬೇಕು ಮಿನಿಮಮ್ ಎರಡು ತಾಸು ಟೈಮ್ ಬೇಕು ಬೇಕು ಹಿಂಗಾಗಿ ಇದು ಸ್ವಲ್ಪ ಕ್ವೆಶ್ಚನ್ ಇರಬಹುದು ಆಮೇಲೆ ಮುಸ್ಲಿ ಹಾಕಲಿಕ್ಕಿಲ್ಲ ಅಂತ ಅನಿಸುತ್ತದೆ ಅವರಿಗೆ ಒಂದು ಪ್ರಶ್ನೆ ಬರುತ್ತದೆ ನನಗೆ ಆ ಫಾರ್ಮೆಟ್ ಈ ತರ ವಾತಾವರಣ ನಿರ್ಮಾಣ ಅಮೃತ ಬಳ್ಳಿ ಬಳ್ಳಿ ಅವರೇನು ಹೇಳುತ್ತಾರೆ ಅದು ತೊಂದರೆ ಆಗುತ್ತೆ ನನ್ನ ಆರ್ಥಿಕವಾದ ಬಾಗ ಯಾವುದು --> Text length need to be between 0 and 5000 characters\n",
            "Error translating text: Request exception can happen due to an api connection error. Please check your connection and try again\n",
            "Error translating text: Request exception can happen due to an api connection error. Please check your connection and try again\n",
            "Error translating text: nan --> text must be a valid text with maximum 5000 character,otherwise it cannot be translated\n",
            "Error translating text: nan --> text must be a valid text with maximum 5000 character,otherwise it cannot be translated\n",
            "Error translating text: Request exception can happen due to an api connection error. Please check your connection and try again\n",
            "Error translating text: Request exception can happen due to an api connection error. Please check your connection and try again\n",
            "Error translating text: nan --> text must be a valid text with maximum 5000 character,otherwise it cannot be translated\n",
            "Error translating text: ಇವತ್ತು ನಾವು 8 ಎಕರೆ 10 ಗುಂಟೆಯಲ್ಲಿ 2.500 ಶ್ರೀಗಂಧದ ಮಾವ 5600 ಬೆಟ್ಟದ ನೆಲ್ಲಿಕಾಯಿ 300 ಐತೆ 800 ಸರ್ ನಿಮ್ಮ ಎಲ್ಲರಿಗೂ ಆತ್ಮೀಯವಾದ ಸ್ವಾಗತ ರಾಯಚೂರು ಜಿಲ್ಲೆಗೆ ರಾಯಚೂರು ಜಿಲ್ಲೆಯ ತಾಲೂಕು ಎಲ್ಲರಿಗೂ ಸ್ವಾಗತ ಸ್ನೇಹಿತರೇ ನಮ್ಮ ಕವಿತಾ ಮಿಶ್ರ ಅವರ ತೋಟಕ್ಕೆ ಬಂದಿದ್ದೇವೆ ಅವರು ಸ್ಯಾಂಡಲ್ವುಡ್ ಬೆಳೆಗಾರರು ಮತ್ತು ತುಂಬಾ ಅದ್ಭುತವಾದ ವಾಕ್ಯಗಳು ಕೂಡ ಕೃಷಿ ಬಗ್ಗೆ ಒಂದು ಹೊಸ ವಿಚಾರಗಳನ್ನು ಅವರು ಅವರನ್ನ ಮಾತಾಡ್ಸೋಣ ನೋಡಿ ಇದು ರಾಯಚೂರಿನಿಂದ ಬಾಗಲಕೋಟೆ ಸ್ನೇಹಿತರೆ ಬನ್ನಿ ಸ್ನೇಹಿತರೆ ಮೇಡಂ ನಮಸ್ತೆ ಸರ್ ನಮಸ್ತೆ ಹೇಗಿದ್ದೀರಿ ಚೆನ್ನಾಗಿದ್ದೀರಾ ಸರ್ ಥ್ಯಾಂಕ್ ಯು ಸೋಶಿಯಲ್ ಮೀಡಿಯಾದಲ್ಲಿ ಬಹಳ ಒಂದು ಬಹುಷಃ ಅವಾಗ್ಲೇ ಇದೆ ಬಹಳ ಕಥೆ ರಾಯಚೂರು ಜಿಲ್ಲೆ ಕವಿತಾಳ ಅಂತ ಮದ್ವೆ ಮಾಡಿಕೊಟ್ಟಿದ್ದು ಆಮೇಲೆ ನಾನು ಓದುವ ಅಭ್ಯಾಸ ಇಲ್ಲ ಆಗಿದ್ದು ಧಾರವಾಡದಲ್ಲಿ ಮುಗಿದಿದ್ದು ಆಮೇಲೆ ಇವತ್ತು ನಾನು ಇಲ್ಲೇ ತೋಟಗಾರಿಕೆಯಲ್ಲಿ ಅರಣ್ಯ ಸಣ್ಣ ಅಂತ ವಾತಾವರಣ ಇತ್ತು ಸರಿ ಏನು ಇದ್ದಿದ್ದಿಲ್ಲ ಆಮೇಲೆ ಕುಡಿಲಿಕ್ಕೆ ಒಂದು ಬಾಟಲ್ ನೀರು ಮಾಡಿ ಲೆವೆಲ್ ಮಾಡಿ ಇವತ್ತು ಈ ಲೆವೆಲ್ ಒಳಗೆ ತಗೊಂಡು ಬರ್ಲಿ 12 ವರ್ಷದೊಳಗ ಇವತ್ತು ಒಂದು ಇಂಚು ನೀರೊಳಗೆ ಐದರಿಂದ ಆರು ಸಾವಿರ ಗಿಡ ನಂದು ಕ್ವಾಲಿಫಿಕೇಷನ್ ಇದು ದಿಪ್ಲೋಮ ಇನ್ ಕಂಪ್ಯೂಟರ್ ಸೈನ್ಸ್ ಮುಗಿಸಿಕೊಂಡು ಕರ್ನಾಟಕ ಯೂನಿವರ್ಸಿಟಿ ಧಾರವಾಡ ಮಸೀದಿ ಸರ್ ಪ್ರೋಗ್ರಾಮ್ ಸ್ಕಿಲ್ ಇತ್ತು ಸರ್ ಅದುಕೋಸ್ಕರ ನಾನು ಸೆಲೆಕ್ಷನ್ ಆಯ್ತು ಸರ್ ಆದರೆ ನನ್ನ ಗಂಡನ ಮನೆಯಲ್ಲಿ ಹೊರಗಡೆ ಹೋಗಿ ಕೆಲಸ ಮಾಡುವ ಅವಕಾಶ ಇಲ್ಲ ಸರ್ ಹೆಣ್ಮಕ್ಕಳು ಹಾಗಾಗಿ ಕಳಿಸಲಿಲ್ಲ ಸರ್ ಆಮೇಲೆ ನಾನು ವಿಚಾರ ಮಾಡಿದೆ ಈಗ ನಾನು ಏನು ಮಾಡಬೇಕು ಅಂತ ಆವಾಗ್ಲೇ ನಾಲ್ಕು ಗುಡಿಗಳ ಮಧ್ಯದಲ್ಲಿ ಇದ್ದುಕೊಂಡು ನನ್ನ ಅಸ್ತಿತ್ವದ ತೊಳಲಾಟದಲ್ಲಿ ಬದುಕುವುದಕ್ಕಿಂತ ಏನಾದರೂ ಮಾಡಿ ತೋರಿಸಬೇಕು ಅಂತ ನನ್ನ ಗಂಡನಿಗೆ ಕೇಳಿದಾಗ ಏನಾದರೂ ಮಾಡು ಅಂತ ಹೇಳಿದ್ದರು ನಾನು ಸ್ವೀಕಾರ ಮಾಡಿ ಪ್ರಾರಂಭ ಮಾಡಿದರು ಬಹಳಷ್ಟು ಸರ್ ಆಮೇಲೆ ಒಂದು ಟೈಮ್ ಹೆಂಗ್ ಬಂತು ಅಂದ್ರೆ ಏನು ಬೇರೆ ಆಸೆ ಆಶಾವಾದಿತನ ಕಳೆದುಹೋಗಿತ್ತು ಸರ್ ಆದರೆ ಇವತ್ತು ಅದರೊಳಗೆ ಮಾಡಿ ತೋರ್ಸು ಮಕ್ಕಳಿಗೆ ಇದು ನಾವು ಮಾಡುತ್ತಿರುವುದು ಅಗ್ರಿಕಲ್ಚರ್ ಅಲ್ಲ ನಾವು ಸಂಥಿಂಗ್ ಡಿಫರೆಂಟ್ ಟ್ರೈ ಮಾಡಬೇಕು ಅಂತ ಹೇಳಿ ಅವಾಗ ನಾನು ಪ್ಲಾನ್ ಮಾಡಿದ್ದು ಸರ್ ಹಾರ್ಟಿಕಲ್ಚರ್ ಅನಿಮಲ್ಸ್ ಕೃಷಿ ತೋಟಗಾರಿಕೆ ಅರಣ್ಯ ಕೃಷಿ ಪಶು ಸಂಗೋಪನೆ ಯಾಕಂದ್ರೆ ನಾವು ಒಂದೇ ಮಾಡಿದ್ದೆಲ್ಲ ಸರ್ ಯಾಕೆಂದರೆ ನಾನು ಏನು ಮಾಡಿದೆ ಅದು ಮಾರಕವಾಗಿತ್ತು ಸಮಗ್ರ ಬೇಸಾಯ ಪದ್ಧತಿ ಸರ್ ಸಮಗ್ರ ಬೇಸಾಯ ಪದ್ಧತಿಯಲ್ಲಿ ನಾವು ಬೇರೆ ಬೇರೆ ಬೇರೆ ಬೇರೆ ಬೇರೆ ಎಲ್ಲ ಕಲ್ಚರ್ ಗಳನ್ನು ಸಮಗ್ರ ಬೇಸಾಯ ಪದ್ಧತಿ ಅಂತೆ ನಾವು ತೋಟಗಾರಿಕೆ ಇದೆ ಪಶುಸಂಗೋಪನೆ ಇದೆ ಇದು ಯಾಕ್ ಹೇಳ್ತೀನಿ ಅಂದ್ರೆ ಕೃಷಿ ಎಂದರೆ ಉದಾಹರಣೆ ಬೆಳೆಗಳು ಮೂರರಿಂದ ನಾಲ್ಕು ಐದರಿಂದ ಆರು ತಿಂಗಳುಗಳು ಇರಬಹುದು ಮೆಣಸಿನಕಾಯಿ ಆಗಿರಬಹುದು ಇದು ಕೃಷಿ ಬೆಳೆ ಬೆಳೆದು ಹಾರ್ಟಿಕಲ್ಚರ್ ಮಾಡಿದೆ ದಟ್ ಇಸ್ ಬೆಟ್ಟರ್ ಅಂದ್ರೆ ನಮಗೆ ಒಂದರಿಂದ ಹತ್ತು ಹದಿನೈದು ವರ್ಷ ಹಿಂಗೇ ಬೆಳಕು ಅಂತ ಬರ್ಕೊಂಡ್ ಹೋಗುತ್ತದೆ ಅಂದ್ರೆ ಶ್ರೀಗಂಧ ಒಂದು ಪರಾವಲಂಬಿ ಗಿಡ ಸೋ ಯಾವಾಗ ಅದು ಪೋಸ್ಟ್ ಬೇಕು ಅಂದ್ರೆ ಅದು ನಾವು ಎಂತ ಹೋಸ್ಟ್ ರೆಡಿ ಮಾಡಬೇಕು ಅಂದ್ರೆ ಶ್ರೀಗಂಧಕ್ಕೆ ಒಳ್ಳೆ ಆಹಾರವಾಗಿರಬೇಕು ನಮಗೂ ಒಳ್ಳೆಯ ಆಹಾರವಾಗಿರಬೇಕು ಇಲ್ಲ ಅಂದ್ರೆ 12 ರಿಂದ 15 ವರ್ಷ ಬರಿ ರೈತ ಅಷ್ಟು ಶ್ರೀಗಂಧ ಮಾಡಿಕೊಂಡು 18 ವರ್ಷದಿಂದ 25 ವರ್ಷದ ಒಂದು ಹುಡುಗನಿಗೆ ನೀನ್ ಏನ್ ಕೆಲಸ ಮಾಡ್ತೀಯಾ ಅದನ್ನ ಬಿಟ್ಟು ಹೊಲಮನಿ ಮಾಡಪ್ಪ ಅಂತ ನಾನು ಅವನಿಗೆ ಕರ್ಕೊಂಡು ಬರ್ತೀನಿ ಅಂತ ಕೇಳ್ತಾರೆ ಅದುಕೋಸ್ಕರ ನಾನು ಸೆಟ್ ಮಾಡಿದಂತ ಈ ಸಿಸ್ಟಮ್ ಅಗ್ರಿಕಲ್ಚರ್ ಆರ್ಟಿಕಲ್ಚರ್ ಎಲ್ಲಾ ಕಾಂಬಿನೇಷನ್ ಗಳನ್ನು ನಾವು ಮಾಡಿ ಒಂದು ಪ್ಲಾನ್ ರೆಡಿ ಮಾಡಿದ್ದೆ ಆದಲ್ಲಿ ಅವಾಗ ನಾವು ಶ್ರೀಗಂಧದ ಕೃಷಿಯಲ್ಲಿ ಕೆಳಗಿರುವ ಪ್ರಶ್ನೆ ಬರುವುದಿಲ್ಲ ಅದು ಪ್ರಾಕ್ಟಿಕಲ್ ಆಗಿ ನಾನು ತಗೊಂಡು ಬಂದಿದ್ದೀನಿ ಅಂತ ನಾನು ತಿಳ್ಕೊಂಡಿದ್ದೇನೆ ಬಹಳಷ್ಟು ಮಂದಿಗೆ ಯಕ್ಷ ಪ್ರಶ್ನೆಯಾಗಿ ಉಳಿದು ಬಿಟ್ಟರೆ ಆಮೇಲೆ ಇವತ್ತು ಶ್ರೀಗಂಧ ಏನ್ ರೇಟ್ ಇದೆ ಮೇಡಂ ಅದರಿಂದ ಭವಿಷ್ಯ ಏನಿದೆ ಅದರ ಪ್ರಯೋಜನ ಇದೆ ಅದರ ಪರಿಣಾಮ ಏನು ಇದೆ ಆಮೇಲೆ ಆರ್ಥಿಕವಾಗಿ ಒಂದು ರೈತ ಯಾರಿಗೆ ಸದೃಢ ಆಗಬಹುದು ಅನ್ನೋ ಪ್ರಶ್ನೆಗಳಿಗೆ ಬಹಳಷ್ಟು ಉತ್ತರಗಳು ಬೇರೆ ಬೇರೆ ಬೇರೆ ಬೇರೆ ಒಂದು ಸಮಂಜಸ ಇದೆ ಅಂತ ಬಹಳಷ್ಟು ರೈತರಿಗೆ ಏನು ಹೇಳ್ತೀನಿ ಇವತ್ತು ನಾವು ಎಲ್ಲಾ ಬೆಳೆಗಳನ್ನು ಮಾಡಿದ್ವಿ ಸರ್ ನಾವು ಉಳ್ಳಾಗಡ್ಡಿ ಮಾಡಿದ್ದೀವಿ ರಾಗಿ ಮಾಡಿ ಭತ್ತ ಮಾಡಿ ಎಲ್ಲ ಮಾಡಿ ಒಂದು ಎಕರೆಗೆ ನಮ್ಮ ಹಿರಿಯರು ನೋಡಿಲ್ಲ ನಾವು ನೋಡಿಲ್ಲ ಗೂಗಲ್ ಸತ್ಯ ಆಮೇಲೆ ಇನ್ನೂ ಒಂದು ಏನಂದ್ರೆ ಇವತ್ತು ನಾವು ಹೊಲ ಮನಿ ಬಗ್ಗೆ ಮಾತಾಡ್ತೀವಿ ಅಂದ್ರೆ ಹೊಲ ಮನಿ ಅಂದ್ರೆ ಬರಿ ನಾವು ಇವತ್ತು ಪಿಚ್ಚರ್ ಪಿಚ್ಚರ್ ಬಹಳ ಭಯಾನಕವಾಗಿರುತ್ತದೆ ಸರ್ ಯಾವತರ ಭಯಾನಕವಾಗಿರುತ್ತದೆ ಅಂತ ಕೇಳ್ರಿ ಇವತ್ತು ನಾವು ಒಂದು ಟ್ರ್ಯಾಕ್ಟರ್ 800 ರಿಂದ 900 ಸರ್ಕಸ್ ಮಾಡಿ ಲಾಸ್ಟಿಗೆ ನಮಗೆ ಏನು ಸಿಗತ್ತೆ ಇನ್ಕಮ್ ಕಡಿಮೆ ಬರಲಿಕ್ಕೆ ಕೃಷಿಯ ವೆಚ್ಚ ಹೆಚ್ಚಾಗಿದೆ ಅದು ಬಹಳಷ್ಟು ವಿಚಾರ ಮಾಡುವಂತ ಮಾತು ಸರ್ ಯಾಕಂದ್ರೆ ಇವತ್ತು ನಮ್ಮ ಸನ್ಮಾನ್ಯ ಇವರು ಪ್ರಧಾನ ಮಂತ್ರಿಗಳಾದ ನರೇಂದ್ರ ಮೋದಿಜಿ ಹೇಳ್ತಾರೆ 2022 ರಲ್ಲಿ ನಾವು ರೈತರಿಗೆ ಆದಾಯವನ್ನು ದ್ವಿಗುಣ ಮಾಡಬೇಕು ಅಂತ ಇವತ್ತು ಆದಾಯ ಜೀರೋ ಇದ್ದಾಗ ದ್ವಿಗುಣ ಮಾಡಿದರೆ ಸರ್ ಮಲ್ಟಿಪ್ಲೆಕ್ಸ್ 0820 ಅದಕ್ಕೆ ನಾನೇನ್ ಹೇಳ್ತೀನಿ ಸರ್ ನಂದು ಮುಗೀತು ಸರ್ ಈಗ ನಿಮ್ಮ ಯುವಜನರ ನಿಮ್ಮ ಕೈಯಲ್ಲಿ ಯಾಕಂದ್ರೆ ಪ್ರತಿವರ್ಷ ಜನಸಂಖ್ಯೆ ಬೆಳೀಲಿ ಕಥೆ ಇನ್ನು ಭೂಮಿಯ ಮೇಲೆ ಅಂದರೆ ಅದು ಪ್ರಾಬ್ಲಮ್ ಸ್ಟಾರ್ಟ್ ಆಗಿದ್ದು ಅದು ಕ್ರಿಯೇಟಿವಿಟಿ ಬರಬೇಕಾಗಿದೆ ಅದಕ್ಕೆ ಇವತ್ತು ಇದೇನ್ ನಾನು ನಿಮಗೆ ಯಾಕಂದ್ರೆ ಎಲ್ರು ಏನ್ ಹೇಳ್ತಾರೆ ಇವತ್ತು ನಾವು ಎಂಎಸ್ಕೆ ಕ್ಯಾಲ್ಕುಲೇಟ್ ಮಾಡ್ತೀನಿ ನಮ್ಮ ಕೂಲಿಗಳ ವೆಚ್ಚ ನಮಗೆ ಕರ್ಚು ಅದು ಟೋಟಲಿ ಎಷ್ಟು ಖರ್ಚು ಆಗಿದೆ ಅಷ್ಟೇ ಕನ್ಸಿಡರ್ ಮಾಡುತ್ತಾರೆ ಎಂ ಎಸ್ ಪಿಗೆ ಕಲ್ಟಿವೇಶನ್ ಮಾಡ್ತೀರಾ ಸರ್ ನಮ್ ಫ್ರೆಂಡ್ ಯಾರು ಲೆಕ್ಕ ಹಾಕ್ತಿಲ್ಲ ಸರ್ ಅದನ್ನ ಲೆಕ್ಕ ಹಾಕಲಿಕ್ಕೆ ನಾನ್ ಸೆಲೆಕ್ಟ್ ಮಾಡಿದ್ದು ಫಾರೆಸ್ಟ್ರಿ ಅಂದ್ರೆ ಹೇಳಿದ್ದೆಲ್ಲ ಸರ್ ನಾನು ಇದು ಶ್ರೀಗಂಧ ಲಾಂಗ್ ಟರ್ಮ್ ಅಂತ ನಾನು ಹೇಳಿದೆ ಹನ್ನೆರಡರಿಂದ ಹದಿನೈದು ವರ್ಷ ಶ್ರೀಗಂಧ ಬೆಳೆಯುತ್ತಿದ್ದರು ಮತ್ತದೇ ಬಂದ ಇದುಕ್ಕೆ ಖರ್ಚು ಮಾಡಬೇಕು ಕೃಷಿಯ ವೆಚ್ಚವನ್ನು ಕಡಿಮೆ ಮಾಡ್ರಿ ಎರಡು ಲಕ್ಷ ರೂಪಾಯಿ ಖರ್ಚು ಮಾಡಿ ಐದು ಲಕ್ಷ ತೆಗಿರಿ ಅವಾಗ ಅದು ನಿಮಗೆ ಸರ್ ನಮ್ಮ ತಿಂಕಿಂಗ್ ಏನಿದೆ ಸ್ವಲ್ಪ ಚೇಂಜ್ ಮಾಡಬೇಕು ಸರ್ ನಾನು ಏನು ಹೇಳ್ತೀನಿ ಸರ್ ನಿಮ್ಮ ಕೈಯಲ್ಲಿ ಕೊಟ್ಟು ಬಜಾರ್ ಮಾಡಿಕೊಂಡು 50 ರೂಪಾಯಿ ಉಳಿತಾಯ ಮಾಡಿಕೊಂಡು ಬಂದರೆ ಅದಕ್ಕೆ ನಿಮ್ಮ ಭೂಮಿಯನ್ನು ಖರ್ಚು ಮಾಡಲಾರದು ಕಡಿಮೆ ಖರ್ಚು ಮಾಡಿ ಪ್ರಕೃತಿಯ ಜೊತೆಗೆ ಹೋಗಿ ನೇಚರ್ ಜೊತೆಗೆ ಅದರ ಜೊತೆಗೆ ನನ್ನ ಪ್ರಕಾರ ನಾನು ಅದೇ ಒಂದು ಪ್ರಯತ್ನ ಇಲ್ಲಿ ಮಾಡ್ತಿರೋದು ಆಮೇಲೆ ನೀರು ನಾನು ರಿಕ್ವೆಸ್ಟ್ ಮೊದಲು ಇತ್ತು ಇವತ್ತು ನಾಳೆ ಇತಿಹಾಸ ಸತ್ಯ ಹುಣಸೇಹಣ್ಣು ಬೆಟ್ಟದ ನೆಲ್ಲಿಕಾಯಿ ಮಾವು ಇವಕ್ಕೆಲ್ಲ ನೀರು ಬಾಳ ಬೇಡ ಬೇಡ ಆ ನನ್ ವೀಕ್ನೆಸ್ ನನಗೆ ಗೊತ್ತಿದೆ ಆಮೇಲೆ ನಾನು ಇವತ್ತು ನಿಮಗೆ ಶ್ರೀಗಂಧದ ಶ್ರೀಗಂಧದ ಒಳಗೆ ಎಣ್ಣೆ ಅಂಶ ಇರುವುದಿಲ್ಲ ನೀವು ಎಷ್ಟು ನೀರು ಕಡಿಮೆ ಮಾಡುತ್ತೀರಿ ಅಷ್ಟು ಶ್ರೀಗಂಧದ ಹೆಚ್ಚಿಗೆ ಇರುತ್ತದೆ ಶ್ರೀಗಂಧ ತೋಟಗಾರಿಕೆ ಬೆಳೆಯಲಾರೆ ಕಾಡಲ್ಲಿ ಬೆಳೆಯುತ್ತದೆಂದು ಆಮೇಲೆ ಕೊಡು ಅದು ಶ್ರೀಗಂಧಕ್ಕಿಂತ ಎತ್ತರ ಇರಬಾರದು ಶ್ರೀಗಂಧ ಕೀರ್ತಿ ಎತ್ತರ ಅಂದ್ರೆ ಅಲ್ಲಿ ಗೌಡ ಶ್ರೀಗಂಧ ಆಗಿರಬೇಕು ಅಂದ್ರೆ ಶ್ರೀಗಂಧ ಹಾಳಾಗುವುದು ಯಾಕೆಂದರೆ ನಾನು ಹೇಳುವುದಿಲ್ಲ ಆದರೆ ಒಂದು ಮಾತ್ರ ಎದೆ ತಟ್ಟಿ ಹೇಳುತ್ತೇನೆ ಶ್ರೀಗಂಧ ನನಗೆ 8 ರಿಂದ 10 ವರ್ಷದ ಜರ್ನಿ ಒಳಗೆ ಬಹಳಷ್ಟು ಅನುಭವ ಕೊಡುತ್ತದೆ ಹೇಳೋದು ಬ್ಯಾಲೆನ್ಸ್ ಕೊಡಬೇಕು ಅದೆಲ್ಲವನ್ನು ಎಷ್ಟೆಷ್ಟು ಕೊಡಬೇಕು ಅದನ್ನು ಅದರ ಜೊತೆ ಇದ್ದು ಇದ್ದು ಇದ್ದು ಇದ್ದು ಇದ್ದು ಇದ್ದು ಕಲಿತು ಸರ್ ಅದನ್ನೇ ನಾನು ರೈತರಿಗೆ ಹೇಳೋದು ಯಾಕಂದ್ರೆ ಯಾವುದಾದರೂ ನೋಡಿ ನಾವು ಅದರ ಪ್ರಕಾರ ಅಷ್ಟೊಂದು ಯಶಸ್ಸು ಸಿಗುವುದಿಲ್ಲ ನನ್ನ ಭಾವನೆ ಎಲ್ಲಿತನಕ ಶ್ರೀಗಂಧ ಬಳಸಲಿಕ್ಕೆ ಆಗುವುದಿಲ್ಲ ಭೂಮಿ ತಾಯಿ ಜೊತೆ ನೀವು ಪ್ರತಿಯೊಂದು ಸ್ಟೇಜ್ ಒಳಪಡಿ ಇರಬೇಕು ಇರಬೇಕು ಕಲಾ ಮಾಧ್ಯಮದ ಎಲ್ಲಾ ಎಪಿಸೋಡುಗಳು ನಿಮಗೆ ಸಿಗಬೇಕು ಅಂತ ಅಂದ್ರೆ ಕಲಾ ಮಾಧ್ಯಮ ಯುಟ್ಯೂಬ್ ಚಾನೆಲ್ನ ಸಬ್ಸ್ಕ್ರೈಬ್ ಮಾಡಿ ಬೆಲ್ ಐಕಾನ್ ಅನ್ನು ಕ್ಲಿಕ್ ಮಾಡಿ ತಪ್ಪದೆ ಮಾಡಿ ಸ್ನೇಹಿತರೆ ಎಲ್ಲಾ ಸದಸ್ಯರುಗಳನ್ನು ನೀವು ಓದಬಹುದು wwwww.com ಈ ವೆಬ್ಸೈಟ್ ಗೆ ವಿಸಿಟ್ ಮಾಡಿ ಇಂಟರ್ವ್ಯೂ ಗಳನ್ನು ಧನ್ಯವಾದಗಳು --> Text length need to be between 0 and 5000 characters\n",
            "Error translating text: nan --> text must be a valid text with maximum 5000 character,otherwise it cannot be translated\n",
            "Error translating text: Request exception can happen due to an api connection error. Please check your connection and try again\n",
            "Error translating text: Request exception can happen due to an api connection error. Please check your connection and try again\n",
            "Error translating text: Request exception can happen due to an api connection error. Please check your connection and try again\n",
            "Translation complete. Translated data saved to /content/drive/MyDrive/VaaniVrikshaAudio/translated_audio_data.csv\n"
          ]
        }
      ]
    },
    {
      "cell_type": "code",
      "source": [
        "import os\n",
        "from google.colab import drive\n",
        "from datasets import load_dataset\n",
        "\n",
        "# Define the path to your CSV file\n",
        "csv_path = '/content/drive/MyDrive/VaaniVrikshaAudio/transcription_dataset.csv'\n",
        "\n",
        "# Check if the file exists\n",
        "if os.path.exists(csv_path):\n",
        "    # Load the dataset from the CSV file\n",
        "    dataset = load_dataset('csv', data_files=csv_path, split='train')\n",
        "    print(\"Dataset loaded successfully.\")\n",
        "    # Display the dataset\n",
        "    print(dataset)\n",
        "else:\n",
        "    print(\"CSV file not found. Please check the file path.\")"
      ],
      "metadata": {
        "colab": {
          "base_uri": "https://localhost:8080/",
          "height": 356
        },
        "collapsed": true,
        "id": "flfIiS_jpVf4",
        "outputId": "f31d4d26-48a6-4055-d5e4-46a87154b76f"
      },
      "execution_count": null,
      "outputs": [
        {
          "output_type": "error",
          "ename": "ValueError",
          "evalue": "Instruction \"train\" corresponds to no data!",
          "traceback": [
            "\u001b[0;31m---------------------------------------------------------------------------\u001b[0m",
            "\u001b[0;31mValueError\u001b[0m                                Traceback (most recent call last)",
            "\u001b[0;32m<ipython-input-10-a1719d89bfc2>\u001b[0m in \u001b[0;36m<cell line: 9>\u001b[0;34m()\u001b[0m\n\u001b[1;32m      9\u001b[0m \u001b[0;32mif\u001b[0m \u001b[0mos\u001b[0m\u001b[0;34m.\u001b[0m\u001b[0mpath\u001b[0m\u001b[0;34m.\u001b[0m\u001b[0mexists\u001b[0m\u001b[0;34m(\u001b[0m\u001b[0mcsv_path\u001b[0m\u001b[0;34m)\u001b[0m\u001b[0;34m:\u001b[0m\u001b[0;34m\u001b[0m\u001b[0;34m\u001b[0m\u001b[0m\n\u001b[1;32m     10\u001b[0m     \u001b[0;31m# Load the dataset from the CSV file\u001b[0m\u001b[0;34m\u001b[0m\u001b[0;34m\u001b[0m\u001b[0m\n\u001b[0;32m---> 11\u001b[0;31m     \u001b[0mdataset\u001b[0m \u001b[0;34m=\u001b[0m \u001b[0mload_dataset\u001b[0m\u001b[0;34m(\u001b[0m\u001b[0;34m'csv'\u001b[0m\u001b[0;34m,\u001b[0m \u001b[0mdata_files\u001b[0m\u001b[0;34m=\u001b[0m\u001b[0mcsv_path\u001b[0m\u001b[0;34m,\u001b[0m \u001b[0msplit\u001b[0m\u001b[0;34m=\u001b[0m\u001b[0;34m'train'\u001b[0m\u001b[0;34m)\u001b[0m\u001b[0;34m\u001b[0m\u001b[0;34m\u001b[0m\u001b[0m\n\u001b[0m\u001b[1;32m     12\u001b[0m     \u001b[0mprint\u001b[0m\u001b[0;34m(\u001b[0m\u001b[0;34m\"Dataset loaded successfully.\"\u001b[0m\u001b[0;34m)\u001b[0m\u001b[0;34m\u001b[0m\u001b[0;34m\u001b[0m\u001b[0m\n\u001b[1;32m     13\u001b[0m     \u001b[0;31m# Display the dataset\u001b[0m\u001b[0;34m\u001b[0m\u001b[0;34m\u001b[0m\u001b[0m\n",
            "\u001b[0;32m/usr/local/lib/python3.10/dist-packages/datasets/load.py\u001b[0m in \u001b[0;36mload_dataset\u001b[0;34m(path, name, data_dir, data_files, split, cache_dir, features, download_config, download_mode, verification_mode, keep_in_memory, save_infos, revision, token, streaming, num_proc, storage_options, trust_remote_code, **config_kwargs)\u001b[0m\n\u001b[1;32m   2164\u001b[0m         \u001b[0mkeep_in_memory\u001b[0m \u001b[0;32mif\u001b[0m \u001b[0mkeep_in_memory\u001b[0m \u001b[0;32mis\u001b[0m \u001b[0;32mnot\u001b[0m \u001b[0;32mNone\u001b[0m \u001b[0;32melse\u001b[0m \u001b[0mis_small_dataset\u001b[0m\u001b[0;34m(\u001b[0m\u001b[0mbuilder_instance\u001b[0m\u001b[0;34m.\u001b[0m\u001b[0minfo\u001b[0m\u001b[0;34m.\u001b[0m\u001b[0mdataset_size\u001b[0m\u001b[0;34m)\u001b[0m\u001b[0;34m\u001b[0m\u001b[0;34m\u001b[0m\u001b[0m\n\u001b[1;32m   2165\u001b[0m     )\n\u001b[0;32m-> 2166\u001b[0;31m     \u001b[0mds\u001b[0m \u001b[0;34m=\u001b[0m \u001b[0mbuilder_instance\u001b[0m\u001b[0;34m.\u001b[0m\u001b[0mas_dataset\u001b[0m\u001b[0;34m(\u001b[0m\u001b[0msplit\u001b[0m\u001b[0;34m=\u001b[0m\u001b[0msplit\u001b[0m\u001b[0;34m,\u001b[0m \u001b[0mverification_mode\u001b[0m\u001b[0;34m=\u001b[0m\u001b[0mverification_mode\u001b[0m\u001b[0;34m,\u001b[0m \u001b[0min_memory\u001b[0m\u001b[0;34m=\u001b[0m\u001b[0mkeep_in_memory\u001b[0m\u001b[0;34m)\u001b[0m\u001b[0;34m\u001b[0m\u001b[0;34m\u001b[0m\u001b[0m\n\u001b[0m\u001b[1;32m   2167\u001b[0m     \u001b[0;32mif\u001b[0m \u001b[0msave_infos\u001b[0m\u001b[0;34m:\u001b[0m\u001b[0;34m\u001b[0m\u001b[0;34m\u001b[0m\u001b[0m\n\u001b[1;32m   2168\u001b[0m         \u001b[0mbuilder_instance\u001b[0m\u001b[0;34m.\u001b[0m\u001b[0m_save_infos\u001b[0m\u001b[0;34m(\u001b[0m\u001b[0;34m)\u001b[0m\u001b[0;34m\u001b[0m\u001b[0;34m\u001b[0m\u001b[0m\n",
            "\u001b[0;32m/usr/local/lib/python3.10/dist-packages/datasets/builder.py\u001b[0m in \u001b[0;36mas_dataset\u001b[0;34m(self, split, run_post_process, verification_mode, in_memory)\u001b[0m\n\u001b[1;32m   1124\u001b[0m \u001b[0;34m\u001b[0m\u001b[0m\n\u001b[1;32m   1125\u001b[0m         \u001b[0;31m# Create a dataset for each of the given splits\u001b[0m\u001b[0;34m\u001b[0m\u001b[0;34m\u001b[0m\u001b[0m\n\u001b[0;32m-> 1126\u001b[0;31m         datasets = map_nested(\n\u001b[0m\u001b[1;32m   1127\u001b[0m             partial(\n\u001b[1;32m   1128\u001b[0m                 \u001b[0mself\u001b[0m\u001b[0;34m.\u001b[0m\u001b[0m_build_single_dataset\u001b[0m\u001b[0;34m,\u001b[0m\u001b[0;34m\u001b[0m\u001b[0;34m\u001b[0m\u001b[0m\n",
            "\u001b[0;32m/usr/local/lib/python3.10/dist-packages/datasets/utils/py_utils.py\u001b[0m in \u001b[0;36mmap_nested\u001b[0;34m(function, data_struct, dict_only, map_list, map_tuple, map_numpy, num_proc, parallel_min_length, batched, batch_size, types, disable_tqdm, desc)\u001b[0m\n\u001b[1;32m    482\u001b[0m         \u001b[0;32mif\u001b[0m \u001b[0mbatched\u001b[0m\u001b[0;34m:\u001b[0m\u001b[0;34m\u001b[0m\u001b[0;34m\u001b[0m\u001b[0m\n\u001b[1;32m    483\u001b[0m             \u001b[0mdata_struct\u001b[0m \u001b[0;34m=\u001b[0m \u001b[0;34m[\u001b[0m\u001b[0mdata_struct\u001b[0m\u001b[0;34m]\u001b[0m\u001b[0;34m\u001b[0m\u001b[0;34m\u001b[0m\u001b[0m\n\u001b[0;32m--> 484\u001b[0;31m         \u001b[0mmapped\u001b[0m \u001b[0;34m=\u001b[0m \u001b[0mfunction\u001b[0m\u001b[0;34m(\u001b[0m\u001b[0mdata_struct\u001b[0m\u001b[0;34m)\u001b[0m\u001b[0;34m\u001b[0m\u001b[0;34m\u001b[0m\u001b[0m\n\u001b[0m\u001b[1;32m    485\u001b[0m         \u001b[0;32mif\u001b[0m \u001b[0mbatched\u001b[0m\u001b[0;34m:\u001b[0m\u001b[0;34m\u001b[0m\u001b[0;34m\u001b[0m\u001b[0m\n\u001b[1;32m    486\u001b[0m             \u001b[0mmapped\u001b[0m \u001b[0;34m=\u001b[0m \u001b[0mmapped\u001b[0m\u001b[0;34m[\u001b[0m\u001b[0;36m0\u001b[0m\u001b[0;34m]\u001b[0m\u001b[0;34m\u001b[0m\u001b[0;34m\u001b[0m\u001b[0m\n",
            "\u001b[0;32m/usr/local/lib/python3.10/dist-packages/datasets/builder.py\u001b[0m in \u001b[0;36m_build_single_dataset\u001b[0;34m(self, split, run_post_process, verification_mode, in_memory)\u001b[0m\n\u001b[1;32m   1154\u001b[0m \u001b[0;34m\u001b[0m\u001b[0m\n\u001b[1;32m   1155\u001b[0m         \u001b[0;31m# Build base dataset\u001b[0m\u001b[0;34m\u001b[0m\u001b[0;34m\u001b[0m\u001b[0m\n\u001b[0;32m-> 1156\u001b[0;31m         ds = self._as_dataset(\n\u001b[0m\u001b[1;32m   1157\u001b[0m             \u001b[0msplit\u001b[0m\u001b[0;34m=\u001b[0m\u001b[0msplit\u001b[0m\u001b[0;34m,\u001b[0m\u001b[0;34m\u001b[0m\u001b[0;34m\u001b[0m\u001b[0m\n\u001b[1;32m   1158\u001b[0m             \u001b[0min_memory\u001b[0m\u001b[0;34m=\u001b[0m\u001b[0min_memory\u001b[0m\u001b[0;34m,\u001b[0m\u001b[0;34m\u001b[0m\u001b[0;34m\u001b[0m\u001b[0m\n",
            "\u001b[0;32m/usr/local/lib/python3.10/dist-packages/datasets/builder.py\u001b[0m in \u001b[0;36m_as_dataset\u001b[0;34m(self, split, in_memory)\u001b[0m\n\u001b[1;32m   1228\u001b[0m         \u001b[0;32mif\u001b[0m \u001b[0mself\u001b[0m\u001b[0;34m.\u001b[0m\u001b[0m_check_legacy_cache\u001b[0m\u001b[0;34m(\u001b[0m\u001b[0;34m)\u001b[0m\u001b[0;34m:\u001b[0m\u001b[0;34m\u001b[0m\u001b[0;34m\u001b[0m\u001b[0m\n\u001b[1;32m   1229\u001b[0m             \u001b[0mdataset_name\u001b[0m \u001b[0;34m=\u001b[0m \u001b[0mself\u001b[0m\u001b[0;34m.\u001b[0m\u001b[0mname\u001b[0m\u001b[0;34m\u001b[0m\u001b[0;34m\u001b[0m\u001b[0m\n\u001b[0;32m-> 1230\u001b[0;31m         dataset_kwargs = ArrowReader(cache_dir, self.info).read(\n\u001b[0m\u001b[1;32m   1231\u001b[0m             \u001b[0mname\u001b[0m\u001b[0;34m=\u001b[0m\u001b[0mdataset_name\u001b[0m\u001b[0;34m,\u001b[0m\u001b[0;34m\u001b[0m\u001b[0;34m\u001b[0m\u001b[0m\n\u001b[1;32m   1232\u001b[0m             \u001b[0minstructions\u001b[0m\u001b[0;34m=\u001b[0m\u001b[0msplit\u001b[0m\u001b[0;34m,\u001b[0m\u001b[0;34m\u001b[0m\u001b[0;34m\u001b[0m\u001b[0m\n",
            "\u001b[0;32m/usr/local/lib/python3.10/dist-packages/datasets/arrow_reader.py\u001b[0m in \u001b[0;36mread\u001b[0;34m(self, name, instructions, split_infos, in_memory)\u001b[0m\n\u001b[1;32m    249\u001b[0m         \u001b[0;32mif\u001b[0m \u001b[0;32mnot\u001b[0m \u001b[0mfiles\u001b[0m\u001b[0;34m:\u001b[0m\u001b[0;34m\u001b[0m\u001b[0;34m\u001b[0m\u001b[0m\n\u001b[1;32m    250\u001b[0m             \u001b[0mmsg\u001b[0m \u001b[0;34m=\u001b[0m \u001b[0;34mf'Instruction \"{instructions}\" corresponds to no data!'\u001b[0m\u001b[0;34m\u001b[0m\u001b[0;34m\u001b[0m\u001b[0m\n\u001b[0;32m--> 251\u001b[0;31m             \u001b[0;32mraise\u001b[0m \u001b[0mValueError\u001b[0m\u001b[0;34m(\u001b[0m\u001b[0mmsg\u001b[0m\u001b[0;34m)\u001b[0m\u001b[0;34m\u001b[0m\u001b[0;34m\u001b[0m\u001b[0m\n\u001b[0m\u001b[1;32m    252\u001b[0m         \u001b[0;32mreturn\u001b[0m \u001b[0mself\u001b[0m\u001b[0;34m.\u001b[0m\u001b[0mread_files\u001b[0m\u001b[0;34m(\u001b[0m\u001b[0mfiles\u001b[0m\u001b[0;34m=\u001b[0m\u001b[0mfiles\u001b[0m\u001b[0;34m,\u001b[0m \u001b[0moriginal_instructions\u001b[0m\u001b[0;34m=\u001b[0m\u001b[0minstructions\u001b[0m\u001b[0;34m,\u001b[0m \u001b[0min_memory\u001b[0m\u001b[0;34m=\u001b[0m\u001b[0min_memory\u001b[0m\u001b[0;34m)\u001b[0m\u001b[0;34m\u001b[0m\u001b[0;34m\u001b[0m\u001b[0m\n\u001b[1;32m    253\u001b[0m \u001b[0;34m\u001b[0m\u001b[0m\n",
            "\u001b[0;31mValueError\u001b[0m: Instruction \"train\" corresponds to no data!"
          ]
        }
      ]
    },
    {
      "cell_type": "code",
      "source": [
        "import shutil\n",
        "\n",
        "# Clear the cache directory\n",
        "shutil.rmtree('/content/drive/MyDrive/ModelCache', ignore_errors=True)"
      ],
      "metadata": {
        "id": "FozdbRWRrgy8"
      },
      "execution_count": null,
      "outputs": []
    },
    {
      "cell_type": "code",
      "source": [
        "pip install evaluate"
      ],
      "metadata": {
        "collapsed": true,
        "colab": {
          "base_uri": "https://localhost:8080/"
        },
        "id": "9NoIR5PRtvfl",
        "outputId": "ad13b215-ed65-44e6-ec56-c65d22765726"
      },
      "execution_count": null,
      "outputs": [
        {
          "output_type": "stream",
          "name": "stdout",
          "text": [
            "Requirement already satisfied: evaluate in /usr/local/lib/python3.10/dist-packages (0.4.3)\n",
            "Requirement already satisfied: datasets>=2.0.0 in /usr/local/lib/python3.10/dist-packages (from evaluate) (3.1.1.dev0)\n",
            "Requirement already satisfied: numpy>=1.17 in /usr/local/lib/python3.10/dist-packages (from evaluate) (1.26.4)\n",
            "Requirement already satisfied: dill in /usr/local/lib/python3.10/dist-packages (from evaluate) (0.3.8)\n",
            "Requirement already satisfied: pandas in /usr/local/lib/python3.10/dist-packages (from evaluate) (2.2.2)\n",
            "Requirement already satisfied: requests>=2.19.0 in /usr/local/lib/python3.10/dist-packages (from evaluate) (2.32.3)\n",
            "Requirement already satisfied: tqdm>=4.62.1 in /usr/local/lib/python3.10/dist-packages (from evaluate) (4.66.6)\n",
            "Requirement already satisfied: xxhash in /usr/local/lib/python3.10/dist-packages (from evaluate) (3.5.0)\n",
            "Requirement already satisfied: multiprocess in /usr/local/lib/python3.10/dist-packages (from evaluate) (0.70.16)\n",
            "Requirement already satisfied: fsspec>=2021.05.0 in /usr/local/lib/python3.10/dist-packages (from fsspec[http]>=2021.05.0->evaluate) (2024.9.0)\n",
            "Requirement already satisfied: huggingface-hub>=0.7.0 in /usr/local/lib/python3.10/dist-packages (from evaluate) (0.24.7)\n",
            "Requirement already satisfied: packaging in /usr/local/lib/python3.10/dist-packages (from evaluate) (24.1)\n",
            "Requirement already satisfied: filelock in /usr/local/lib/python3.10/dist-packages (from datasets>=2.0.0->evaluate) (3.16.1)\n",
            "Requirement already satisfied: pyarrow>=15.0.0 in /usr/local/lib/python3.10/dist-packages (from datasets>=2.0.0->evaluate) (17.0.0)\n",
            "Requirement already satisfied: aiohttp in /usr/local/lib/python3.10/dist-packages (from datasets>=2.0.0->evaluate) (3.10.10)\n",
            "Requirement already satisfied: pyyaml>=5.1 in /usr/local/lib/python3.10/dist-packages (from datasets>=2.0.0->evaluate) (6.0.2)\n",
            "Requirement already satisfied: typing-extensions>=3.7.4.3 in /usr/local/lib/python3.10/dist-packages (from huggingface-hub>=0.7.0->evaluate) (4.12.2)\n",
            "Requirement already satisfied: charset-normalizer<4,>=2 in /usr/local/lib/python3.10/dist-packages (from requests>=2.19.0->evaluate) (3.4.0)\n",
            "Requirement already satisfied: idna<4,>=2.5 in /usr/local/lib/python3.10/dist-packages (from requests>=2.19.0->evaluate) (3.10)\n",
            "Requirement already satisfied: urllib3<3,>=1.21.1 in /usr/local/lib/python3.10/dist-packages (from requests>=2.19.0->evaluate) (2.2.3)\n",
            "Requirement already satisfied: certifi>=2017.4.17 in /usr/local/lib/python3.10/dist-packages (from requests>=2.19.0->evaluate) (2024.8.30)\n",
            "Requirement already satisfied: python-dateutil>=2.8.2 in /usr/local/lib/python3.10/dist-packages (from pandas->evaluate) (2.8.2)\n",
            "Requirement already satisfied: pytz>=2020.1 in /usr/local/lib/python3.10/dist-packages (from pandas->evaluate) (2024.2)\n",
            "Requirement already satisfied: tzdata>=2022.7 in /usr/local/lib/python3.10/dist-packages (from pandas->evaluate) (2024.2)\n",
            "Requirement already satisfied: aiohappyeyeballs>=2.3.0 in /usr/local/lib/python3.10/dist-packages (from aiohttp->datasets>=2.0.0->evaluate) (2.4.3)\n",
            "Requirement already satisfied: aiosignal>=1.1.2 in /usr/local/lib/python3.10/dist-packages (from aiohttp->datasets>=2.0.0->evaluate) (1.3.1)\n",
            "Requirement already satisfied: attrs>=17.3.0 in /usr/local/lib/python3.10/dist-packages (from aiohttp->datasets>=2.0.0->evaluate) (24.2.0)\n",
            "Requirement already satisfied: frozenlist>=1.1.1 in /usr/local/lib/python3.10/dist-packages (from aiohttp->datasets>=2.0.0->evaluate) (1.5.0)\n",
            "Requirement already satisfied: multidict<7.0,>=4.5 in /usr/local/lib/python3.10/dist-packages (from aiohttp->datasets>=2.0.0->evaluate) (6.1.0)\n",
            "Requirement already satisfied: yarl<2.0,>=1.12.0 in /usr/local/lib/python3.10/dist-packages (from aiohttp->datasets>=2.0.0->evaluate) (1.17.0)\n",
            "Requirement already satisfied: async-timeout<5.0,>=4.0 in /usr/local/lib/python3.10/dist-packages (from aiohttp->datasets>=2.0.0->evaluate) (4.0.3)\n",
            "Requirement already satisfied: six>=1.5 in /usr/local/lib/python3.10/dist-packages (from python-dateutil>=2.8.2->pandas->evaluate) (1.16.0)\n",
            "Requirement already satisfied: propcache>=0.2.0 in /usr/local/lib/python3.10/dist-packages (from yarl<2.0,>=1.12.0->aiohttp->datasets>=2.0.0->evaluate) (0.2.0)\n"
          ]
        }
      ]
    },
    {
      "cell_type": "code",
      "source": [
        "import os\n",
        "import shutil\n",
        "import json\n",
        "from google.colab import drive\n",
        "from datasets import load_dataset\n",
        "from transformers import Wav2Vec2Processor, Wav2Vec2ForCTC\n",
        "import torch\n",
        "import librosa\n",
        "\n",
        "# Define the path to your CSV file and cache directory\n",
        "csv_path = '/content/drive/MyDrive/VaaniVrikshaAudio/transcription_dataset.csv'\n",
        "cache_dir = '/content/drive/MyDrive/ModelCache'\n",
        "model_name = \"facebook/wav2vec2-large-xlsr-53\"\n",
        "\n",
        "# Function to load the dataset\n",
        "def load_transcription_dataset(csv_path):\n",
        "    if os.path.exists(csv_path):\n",
        "        dataset = load_dataset('csv', data_files=csv_path, split='train')\n",
        "        print(\"Dataset loaded successfully.\")\n",
        "        return dataset\n",
        "    else:\n",
        "        print(\"CSV file not found. Please check the file path.\")\n",
        "        return None\n",
        "\n",
        "# Function to load the Wav2Vec2 processor and model\n",
        "def load_wav2vec2_model(model_name, cache_dir):\n",
        "    try:\n",
        "        processor = Wav2Vec2Processor.from_pretrained(model_name, cache_dir=cache_dir)\n",
        "        model = Wav2Vec2ForCTC.from_pretrained(model_name, cache_dir=cache_dir)\n",
        "        print(\"Processor and model loaded successfully.\")\n",
        "        return processor, model\n",
        "    except Exception as e:\n",
        "        print(f\"Error loading processor or model: {e}\")\n",
        "        return None, None\n",
        "\n",
        "# Function to transcribe audio\n",
        "def transcribe_audio(audio_path, processor, model):\n",
        "    try:\n",
        "        y, sr = librosa.load(audio_path, sr=None)\n",
        "        input_values = processor(y, sampling_rate=sr, return_tensors=\"pt\").input_values\n",
        "\n",
        "        # Perform inference\n",
        "        with torch.no_grad():\n",
        "            logits = model(input_values).logits\n",
        "\n",
        "        # Decode the predicted ids\n",
        "        predicted_ids = torch.argmax(logits, dim=-1)\n",
        "        transcription = processor.batch_decode(predicted_ids)[0]\n",
        "        return transcription\n",
        "    except Exception as e:\n",
        "        print(f\"Error processing audio file {audio_path}: {e}\")\n",
        "        return None\n",
        "\n",
        "# Mount Google Drive\n",
        "drive.mount('/content/drive')\n",
        "\n",
        "# Clear the cache directory if it exists and recreate it\n",
        "if os.path.exists(cache_dir):\n",
        "    shutil.rmtree(cache_dir)\n",
        "os.makedirs(cache_dir)\n",
        "\n",
        "# Define the tokenizer configuration and save it\n",
        "tokenizer_config = {\n",
        "    \"tokenizer_class\": \"Wav2Vec2CTCTokenizer\"\n",
        "}\n",
        "\n",
        "config_path = os.path.join(cache_dir, 'tokenizer_config.json')\n",
        "\n",
        "# Save the tokenizer configuration\n",
        "with open(config_path, 'w') as f:\n",
        "    json.dump(tokenizer_config, f)\n",
        "\n",
        "print(\"Tokenizer configuration saved successfully.\")\n",
        "\n",
        "# Load the dataset\n",
        "dataset = load_transcription_dataset(csv_path)\n",
        "\n",
        "if dataset:\n",
        "    # Load the Wav2Vec2 processor and model (this time without using cache)\n",
        "    processor, model = load_wav2vec2_model(model_name, cache_dir=None)  # Not using the cache directory now\n",
        "\n",
        "    if processor and model:\n",
        "        # Example of processing a single audio file\n",
        "        audio_path = dataset['Audio Path'][0]  # Example path from the dataset\n",
        "        transcription = transcribe_audio(audio_path, processor, model)\n",
        "        if transcription:\n",
        "            print(f\"Transcription: {transcription}\")"
      ],
      "metadata": {
        "colab": {
          "base_uri": "https://localhost:8080/"
        },
        "id": "12h7pq65rKPD",
        "outputId": "c20bcab7-a33e-4426-985f-59805b3f39f6"
      },
      "execution_count": null,
      "outputs": [
        {
          "output_type": "stream",
          "name": "stdout",
          "text": [
            "Drive already mounted at /content/drive; to attempt to forcibly remount, call drive.mount(\"/content/drive\", force_remount=True).\n",
            "Tokenizer configuration saved successfully.\n",
            "Dataset loaded successfully.\n"
          ]
        },
        {
          "output_type": "stream",
          "name": "stderr",
          "text": [
            "/usr/local/lib/python3.10/dist-packages/huggingface_hub/utils/_token.py:89: UserWarning: \n",
            "The secret `HF_TOKEN` does not exist in your Colab secrets.\n",
            "To authenticate with the Hugging Face Hub, create a token in your settings tab (https://huggingface.co/settings/tokens), set it as secret in your Google Colab and restart your session.\n",
            "You will be able to reuse this secret in all of your notebooks.\n",
            "Please note that authentication is recommended but still optional to access public models or datasets.\n",
            "  warnings.warn(\n",
            "/usr/local/lib/python3.10/dist-packages/transformers/models/wav2vec2/processing_wav2vec2.py:61: FutureWarning: Loading a tokenizer inside Wav2Vec2Processor from a config that does not include a `tokenizer_class` attribute is deprecated and will be removed in v5. Please add `'tokenizer_class': 'Wav2Vec2CTCTokenizer'` attribute to either your `config.json` or `tokenizer_config.json` file to suppress this warning: \n",
            "  warnings.warn(\n"
          ]
        },
        {
          "output_type": "stream",
          "name": "stdout",
          "text": [
            "Error loading processor or model: Can't load tokenizer for 'facebook/wav2vec2-large-xlsr-53'. If you were trying to load it from 'https://huggingface.co/models', make sure you don't have a local directory with the same name. Otherwise, make sure 'facebook/wav2vec2-large-xlsr-53' is the correct path to a directory containing all relevant files for a Wav2Vec2CTCTokenizer tokenizer.\n"
          ]
        }
      ]
    },
    {
      "cell_type": "code",
      "source": [
        "!pip install --upgrade transformers\n"
      ],
      "metadata": {
        "collapsed": true,
        "colab": {
          "base_uri": "https://localhost:8080/"
        },
        "id": "SklZJCSzweQL",
        "outputId": "d52bd5f7-07d5-419c-a3fa-044cc5fc404d"
      },
      "execution_count": null,
      "outputs": [
        {
          "output_type": "stream",
          "name": "stdout",
          "text": [
            "Requirement already satisfied: transformers in /usr/local/lib/python3.10/dist-packages (4.47.0.dev0)\n",
            "Requirement already satisfied: filelock in /usr/local/lib/python3.10/dist-packages (from transformers) (3.16.1)\n",
            "Requirement already satisfied: huggingface-hub<1.0,>=0.23.2 in /usr/local/lib/python3.10/dist-packages (from transformers) (0.24.7)\n",
            "Requirement already satisfied: numpy>=1.17 in /usr/local/lib/python3.10/dist-packages (from transformers) (1.26.4)\n",
            "Requirement already satisfied: packaging>=20.0 in /usr/local/lib/python3.10/dist-packages (from transformers) (24.1)\n",
            "Requirement already satisfied: pyyaml>=5.1 in /usr/local/lib/python3.10/dist-packages (from transformers) (6.0.2)\n",
            "Requirement already satisfied: regex!=2019.12.17 in /usr/local/lib/python3.10/dist-packages (from transformers) (2024.9.11)\n",
            "Requirement already satisfied: requests in /usr/local/lib/python3.10/dist-packages (from transformers) (2.32.3)\n",
            "Requirement already satisfied: tokenizers<0.21,>=0.20 in /usr/local/lib/python3.10/dist-packages (from transformers) (0.20.3)\n",
            "Requirement already satisfied: safetensors>=0.4.1 in /usr/local/lib/python3.10/dist-packages (from transformers) (0.4.5)\n",
            "Requirement already satisfied: tqdm>=4.27 in /usr/local/lib/python3.10/dist-packages (from transformers) (4.66.6)\n",
            "Requirement already satisfied: fsspec>=2023.5.0 in /usr/local/lib/python3.10/dist-packages (from huggingface-hub<1.0,>=0.23.2->transformers) (2024.9.0)\n",
            "Requirement already satisfied: typing-extensions>=3.7.4.3 in /usr/local/lib/python3.10/dist-packages (from huggingface-hub<1.0,>=0.23.2->transformers) (4.12.2)\n",
            "Requirement already satisfied: charset-normalizer<4,>=2 in /usr/local/lib/python3.10/dist-packages (from requests->transformers) (3.4.0)\n",
            "Requirement already satisfied: idna<4,>=2.5 in /usr/local/lib/python3.10/dist-packages (from requests->transformers) (3.10)\n",
            "Requirement already satisfied: urllib3<3,>=1.21.1 in /usr/local/lib/python3.10/dist-packages (from requests->transformers) (2.2.3)\n",
            "Requirement already satisfied: certifi>=2017.4.17 in /usr/local/lib/python3.10/dist-packages (from requests->transformers) (2024.8.30)\n"
          ]
        }
      ]
    },
    {
      "cell_type": "code",
      "source": [
        "!pip install evaluate\n"
      ],
      "metadata": {
        "collapsed": true,
        "colab": {
          "base_uri": "https://localhost:8080/"
        },
        "id": "GWdXRHh4AYMn",
        "outputId": "fd1bafb9-782f-472a-a031-88edb4e4fa00"
      },
      "execution_count": null,
      "outputs": [
        {
          "output_type": "stream",
          "name": "stdout",
          "text": [
            "Requirement already satisfied: evaluate in /usr/local/lib/python3.10/dist-packages (0.4.3)\n",
            "Requirement already satisfied: datasets>=2.0.0 in /usr/local/lib/python3.10/dist-packages (from evaluate) (3.1.1.dev0)\n",
            "Requirement already satisfied: numpy>=1.17 in /usr/local/lib/python3.10/dist-packages (from evaluate) (1.26.4)\n",
            "Requirement already satisfied: dill in /usr/local/lib/python3.10/dist-packages (from evaluate) (0.3.8)\n",
            "Requirement already satisfied: pandas in /usr/local/lib/python3.10/dist-packages (from evaluate) (2.2.2)\n",
            "Requirement already satisfied: requests>=2.19.0 in /usr/local/lib/python3.10/dist-packages (from evaluate) (2.32.3)\n",
            "Requirement already satisfied: tqdm>=4.62.1 in /usr/local/lib/python3.10/dist-packages (from evaluate) (4.66.6)\n",
            "Requirement already satisfied: xxhash in /usr/local/lib/python3.10/dist-packages (from evaluate) (3.5.0)\n",
            "Requirement already satisfied: multiprocess in /usr/local/lib/python3.10/dist-packages (from evaluate) (0.70.16)\n",
            "Requirement already satisfied: fsspec>=2021.05.0 in /usr/local/lib/python3.10/dist-packages (from fsspec[http]>=2021.05.0->evaluate) (2024.9.0)\n",
            "Requirement already satisfied: huggingface-hub>=0.7.0 in /usr/local/lib/python3.10/dist-packages (from evaluate) (0.24.7)\n",
            "Requirement already satisfied: packaging in /usr/local/lib/python3.10/dist-packages (from evaluate) (24.1)\n",
            "Requirement already satisfied: filelock in /usr/local/lib/python3.10/dist-packages (from datasets>=2.0.0->evaluate) (3.16.1)\n",
            "Requirement already satisfied: pyarrow>=15.0.0 in /usr/local/lib/python3.10/dist-packages (from datasets>=2.0.0->evaluate) (17.0.0)\n",
            "Requirement already satisfied: aiohttp in /usr/local/lib/python3.10/dist-packages (from datasets>=2.0.0->evaluate) (3.10.10)\n",
            "Requirement already satisfied: pyyaml>=5.1 in /usr/local/lib/python3.10/dist-packages (from datasets>=2.0.0->evaluate) (6.0.2)\n",
            "Requirement already satisfied: typing-extensions>=3.7.4.3 in /usr/local/lib/python3.10/dist-packages (from huggingface-hub>=0.7.0->evaluate) (4.12.2)\n",
            "Requirement already satisfied: charset-normalizer<4,>=2 in /usr/local/lib/python3.10/dist-packages (from requests>=2.19.0->evaluate) (3.4.0)\n",
            "Requirement already satisfied: idna<4,>=2.5 in /usr/local/lib/python3.10/dist-packages (from requests>=2.19.0->evaluate) (3.10)\n",
            "Requirement already satisfied: urllib3<3,>=1.21.1 in /usr/local/lib/python3.10/dist-packages (from requests>=2.19.0->evaluate) (2.2.3)\n",
            "Requirement already satisfied: certifi>=2017.4.17 in /usr/local/lib/python3.10/dist-packages (from requests>=2.19.0->evaluate) (2024.8.30)\n",
            "Requirement already satisfied: python-dateutil>=2.8.2 in /usr/local/lib/python3.10/dist-packages (from pandas->evaluate) (2.8.2)\n",
            "Requirement already satisfied: pytz>=2020.1 in /usr/local/lib/python3.10/dist-packages (from pandas->evaluate) (2024.2)\n",
            "Requirement already satisfied: tzdata>=2022.7 in /usr/local/lib/python3.10/dist-packages (from pandas->evaluate) (2024.2)\n",
            "Requirement already satisfied: aiohappyeyeballs>=2.3.0 in /usr/local/lib/python3.10/dist-packages (from aiohttp->datasets>=2.0.0->evaluate) (2.4.3)\n",
            "Requirement already satisfied: aiosignal>=1.1.2 in /usr/local/lib/python3.10/dist-packages (from aiohttp->datasets>=2.0.0->evaluate) (1.3.1)\n",
            "Requirement already satisfied: attrs>=17.3.0 in /usr/local/lib/python3.10/dist-packages (from aiohttp->datasets>=2.0.0->evaluate) (24.2.0)\n",
            "Requirement already satisfied: frozenlist>=1.1.1 in /usr/local/lib/python3.10/dist-packages (from aiohttp->datasets>=2.0.0->evaluate) (1.5.0)\n",
            "Requirement already satisfied: multidict<7.0,>=4.5 in /usr/local/lib/python3.10/dist-packages (from aiohttp->datasets>=2.0.0->evaluate) (6.1.0)\n",
            "Requirement already satisfied: yarl<2.0,>=1.12.0 in /usr/local/lib/python3.10/dist-packages (from aiohttp->datasets>=2.0.0->evaluate) (1.17.0)\n",
            "Requirement already satisfied: async-timeout<5.0,>=4.0 in /usr/local/lib/python3.10/dist-packages (from aiohttp->datasets>=2.0.0->evaluate) (4.0.3)\n",
            "Requirement already satisfied: six>=1.5 in /usr/local/lib/python3.10/dist-packages (from python-dateutil>=2.8.2->pandas->evaluate) (1.16.0)\n",
            "Requirement already satisfied: propcache>=0.2.0 in /usr/local/lib/python3.10/dist-packages (from yarl<2.0,>=1.12.0->aiohttp->datasets>=2.0.0->evaluate) (0.2.0)\n"
          ]
        }
      ]
    },
    {
      "cell_type": "code",
      "source": [
        "import os\n",
        "\n",
        "# Create the directory for saving tokenizer\n",
        "os.makedirs(\"/content/drive/MyDrive/VaaniVrikshaAudio/kannada_asr\", exist_ok=True)"
      ],
      "metadata": {
        "id": "uGM_E2afHa5O"
      },
      "execution_count": null,
      "outputs": []
    },
    {
      "cell_type": "code",
      "source": [
        "from tokenizers import ByteLevelBPETokenizer\n",
        "from pathlib import Path\n",
        "\n",
        "# Define paths to the training data\n",
        "output_dir = Path(\"./kn_data/\")\n",
        "output_dir.mkdir(parents=True, exist_ok=True)\n",
        "\n",
        "# Train the tokenizer on your transcription data\n",
        "paths = [str(x) for x in output_dir.glob(\"**/*.txt\")]\n",
        "\n",
        "# Initialize and train the tokenizer\n",
        "tokenizer = ByteLevelBPETokenizer()\n",
        "tokenizer.train(files=paths, vocab_size=52_000, min_frequency=2, special_tokens=[\n",
        "    \"<s>\", \"<pad>\", \"</s>\", \"<unk>\", \"<mask>\"\n",
        "])\n",
        "\n",
        "# Save the trained tokenizer in the correct folder\n",
        "tokenizer.save_model(\"/content/drive/MyDrive/VaaniVrikshaAudio/kannada_asr\")"
      ],
      "metadata": {
        "colab": {
          "base_uri": "https://localhost:8080/"
        },
        "id": "mM85Ao6-JIY6",
        "outputId": "3903d700-87ae-438a-bf89-1ee8a13ef9b6"
      },
      "execution_count": null,
      "outputs": [
        {
          "output_type": "execute_result",
          "data": {
            "text/plain": [
              "['/content/drive/MyDrive/VaaniVrikshaAudio/kannada_asr/vocab.json',\n",
              " '/content/drive/MyDrive/VaaniVrikshaAudio/kannada_asr/merges.txt']"
            ]
          },
          "metadata": {},
          "execution_count": 19
        }
      ]
    },
    {
      "cell_type": "code",
      "source": [
        "from tokenizers import ByteLevelBPETokenizer\n",
        "from transformers import PreTrainedTokenizerFast\n",
        "from pathlib import Path\n",
        "\n",
        "# Define the directory where tokenizer files will be saved\n",
        "output_dir = Path(\"/content/drive/MyDrive/VaaniVrikshaAudio/kannada_asr/\")\n",
        "output_dir.mkdir(parents=True, exist_ok=True)\n",
        "\n",
        "# Initialize and train the tokenizer\n",
        "tokenizer = ByteLevelBPETokenizer()\n",
        "paths = [str(x) for x in output_dir.glob(\"**/*.txt\")]\n",
        "tokenizer.train(files=paths, vocab_size=52_000, min_frequency=2, special_tokens=[\n",
        "    \"<s>\", \"<pad>\", \"</s>\", \"<unk>\", \"<mask>\"\n",
        "])\n",
        "\n",
        "# Save the tokenizer using PreTrainedTokenizerFast\n",
        "fast_tokenizer = PreTrainedTokenizerFast(tokenizer_object=tokenizer)\n",
        "fast_tokenizer.save_pretrained(output_dir)"
      ],
      "metadata": {
        "id": "iW5AIP5iJ9qQ",
        "outputId": "bc69ced7-b57a-48d5-bd17-7f248df9fb5d",
        "colab": {
          "base_uri": "https://localhost:8080/"
        }
      },
      "execution_count": null,
      "outputs": [
        {
          "output_type": "execute_result",
          "data": {
            "text/plain": [
              "('/content/drive/MyDrive/VaaniVrikshaAudio/kannada_asr/tokenizer_config.json',\n",
              " '/content/drive/MyDrive/VaaniVrikshaAudio/kannada_asr/special_tokens_map.json',\n",
              " '/content/drive/MyDrive/VaaniVrikshaAudio/kannada_asr/tokenizer.json')"
            ]
          },
          "metadata": {},
          "execution_count": 20
        }
      ]
    },
    {
      "cell_type": "code",
      "source": [
        "!ls /content/drive/MyDrive/VaaniVrikshaAudio/kannada_asr"
      ],
      "metadata": {
        "colab": {
          "base_uri": "https://localhost:8080/"
        },
        "id": "-MfuK2AhITg4",
        "outputId": "119fcee0-a3d9-4e91-db33-aac817d10706"
      },
      "execution_count": null,
      "outputs": [
        {
          "output_type": "stream",
          "name": "stdout",
          "text": [
            "merges.gdoc  merges.txt  special_tokens_map.json  tokenizer_config.json  tokenizer.json  vocab.json\n"
          ]
        }
      ]
    },
    {
      "cell_type": "code",
      "source": [
        "from transformers import Wav2Vec2FeatureExtractor\n",
        "\n",
        "processor = Wav2Vec2FeatureExtractor.from_pretrained('facebook/wav2vec2-large-xlsr-53')"
      ],
      "metadata": {
        "id": "2_qX6NKrQkzX"
      },
      "execution_count": null,
      "outputs": []
    },
    {
      "cell_type": "code",
      "source": [
        "from transformers import Wav2Vec2ForCTC\n",
        "\n",
        "# Download and load the model from Hugging Face\n",
        "model = Wav2Vec2ForCTC.from_pretrained(\"facebook/wav2vec2-large-xlsr-53\")"
      ],
      "metadata": {
        "id": "EqcdA0itLEA_",
        "outputId": "44d97c3b-b53c-4f90-b335-288105663ad1",
        "colab": {
          "base_uri": "https://localhost:8080/"
        }
      },
      "execution_count": null,
      "outputs": [
        {
          "output_type": "stream",
          "name": "stderr",
          "text": [
            "Some weights of Wav2Vec2ForCTC were not initialized from the model checkpoint at facebook/wav2vec2-large-xlsr-53 and are newly initialized: ['lm_head.bias', 'lm_head.weight']\n",
            "You should probably TRAIN this model on a down-stream task to be able to use it for predictions and inference.\n"
          ]
        }
      ]
    }
  ]
}